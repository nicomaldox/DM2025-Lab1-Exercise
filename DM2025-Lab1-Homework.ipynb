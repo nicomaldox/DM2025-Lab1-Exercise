{
 "cells": [
  {
   "cell_type": "markdown",
   "metadata": {},
   "source": [
    "### Student Information\n",
    "Name: NICOLAS MALDONADO\n",
    "\n",
    "Student ID: M11352803\n",
    "\n",
    "GitHub ID:Nicomladox"
   ]
  },
  {
   "cell_type": "markdown",
   "metadata": {},
   "source": [
    "---"
   ]
  },
  {
   "cell_type": "markdown",
   "metadata": {},
   "source": [
    "### Instructions"
   ]
  },
  {
   "cell_type": "markdown",
   "metadata": {},
   "source": [
    "### First Phase Submission"
   ]
  },
  {
   "cell_type": "markdown",
   "metadata": {},
   "source": [
    "1. First: do the **take home** exercises in the [DM2025-Lab1-Master](https://github.com/leoson-wu/DM2025-Lab1-Exercise/blob/main/DM2025-Lab1-Master.ipynb) that considered as **phase 1 (from exercise 1 to exercise 15)**. You can answer in the master file. __This part is worth 10% of your grade.__\n",
    "\n",
    "\n",
    "2. Second: follow the same process from the [DM2025-Lab1-Master](https://github.com/leoson-wu/DM2025-Lab1-Exercise/blob/main/DM2025-Lab1-Master.ipynb) on **the new dataset** up **until phase 1**. You can skip some exercises if you think some steps are not necessary. However main exercises should be completed. You don't need to explain all details as we did (some **minimal comments** explaining your code are useful though).  __This part is worth 15% of your grade.__\n",
    "    -  Use [the new dataset](https://github.com/leoson-wu/DM2025-Lab1-Exercise/blob/main/newdataset/Reddit-stock-sentiment.csv). The dataset contains a 16 columns including 'text' and 'label', with the sentiment labels being: 1.0 is positive, 0.0 is neutral and -1.0 is negative. You can simplify the dataset and use only the columns that you think are necessary. \n",
    "    \n",
    "    - You are allowed to use and modify the `helper` functions in the folder of the first lab session (notice they may need modification) or create your own.\n",
    "    - Use this file to complete the homework from the second part. Make sure the code can be run from the beginning till the end and has all the needed output.\n",
    "\n",
    "\n",
    "3. Third: please attempt the following tasks on **the new dataset**. __This part is worth 10% of your grade.__\n",
    "    - Generate meaningful **new data visualizations**. Refer to online resources and the Data Mining textbook for inspiration and ideas. \n",
    "    \n",
    "\n",
    "\n",
    "4. Fourth: It's hard for us to follow if your code is messy, so please **tidy up your notebook** and **add minimal comments where needed**. __This part is worth 5% of your grade.__\n",
    "\n",
    "You can submit your homework following these guidelines: [DM2025-Lab1-announcement](https://github.com/leoson-wu/DM2025-Lab1-Announcement/blob/main/README.md). Make sure to commit and save your changes to your repository __BEFORE the deadline (September 28th 11:59 pm, Sunday)__. "
   ]
  },
  {
   "cell_type": "markdown",
   "metadata": {},
   "source": [
    "### Second Phase Submission "
   ]
  },
  {
   "cell_type": "markdown",
   "metadata": {},
   "source": [
    "**You can keep the answer for phase 1 for easier running and update the phase 2 on the same page.**\n",
    "\n",
    "1. First: Continue doing the **take home** exercises in the [DM2025-Lab1-Master](https://github.com/leoson-wu/DM2025-Lab1-Exercise/blob/main/DM2025-Lab1-Master.ipynb) for **phase 2, starting from Finding frequent patterns**. Use the same master(.ipynb) file. Answer from phase 1 will not be considered at this stage. You can answer in the master file. __This part is worth 10% of your grade.__\n",
    "\n",
    "\n",
    "2. Second: Continue from first phase and do the same process from the [DM2025-Lab1-Master](https://github.com/leoson-wu/DM2025-Lab1-Exercise/blob/main/DM2025-Lab1-Master.ipynb) on **the new dataset** for phase 2, starting from Finding frequent pattern. You can skip some exercises if you think some steps are not necessary. However main exercises should be completed. You don't need to explain all details as we did (some **minimal comments** explaining your code are useful though).  __This part is worth 15% of your grade.__\n",
    "    - Continue using this file to complete the homework from the second part. Make sure the code can be run from the beginning till the end and has all the needed output. Use the same new dataset as in phase 1.\n",
    "    \n",
    "    - You are allowed to use and modify the `helper` functions in the folder of the first lab session (notice they may need modification) or create your own.\n",
    "\n",
    "3. Third: please attempt the following tasks on **the new dataset**. __This part is worth 20% of your grade.__\n",
    "    - Use this file to answer.\n",
    "    - Generate **TF-IDF features** from the tokens of each text. This will generating a document matrix, however, the weights will be computed differently (using the TF-IDF value of each word per document as opposed to the word frequency).  Refer to this Scikit-learn [guide](http://scikit-learn.org/stable/modules/generated/sklearn.feature_extraction.text.TfidfVectorizer.html) .\n",
    "    - Implement a simple **Naive Bayes classifier** that automatically classifies the records into their categories. Use both the TF-IDF features and word frequency features to build two seperate classifiers. Note that for the TF-IDF features you might need to use other type of NB classifier different than the one in the Master Notebook. Comment on the differences and when using augmentation with feature pattern.  Refer to this [article](https://hub.packtpub.com/implementing-3-naive-bayes-classifiers-in-scikit-learn/).\n",
    "\n",
    "\n",
    "4. Fourth: In the lab, we applied each step really quickly just to illustrate how to work with your dataset. There are somethings that are not ideal or the most efficient/meaningful. Each dataset can be handled differently as well. What are those inefficent parts you noticed? How can you improve the Data preprocessing for these specific datasets? __This part is worth 10% of your grade.__\n",
    "\n",
    "\n",
    "5. Fifth: It's hard for us to follow if your code is messy, so please **tidy up your notebook** and **add minimal comments where needed**. __This part is worth 5% of your grade.__\n",
    "\n",
    "\n",
    "You can submit your homework following these guidelines: [DM2025-Lab1-announcement](https://github.com/leoson-wu/DM2025-Lab1-Announcement/blob/main/README.md). Make sure to commit and save your changes to your repository __BEFORE the deadline (October 19th 11:59 pm, Sunday)__. "
   ]
  },
  {
   "cell_type": "markdown",
   "metadata": {},
   "source": [
    "# Phase 1"
   ]
  },
  {
   "cell_type": "code",
   "execution_count": 24,
   "metadata": {},
   "outputs": [
    {
     "name": "stdout",
     "output_type": "stream",
     "text": [
      "      type             datetime  post_id         subreddit  \\\n",
      "0  comment  2025-04-11 17:29:56  mmli62w    wallstreetbets   \n",
      "1  comment   2025-04-12 1:12:19  mmnu7v9    wallstreetbets   \n",
      "2  comment  2025-04-10 15:09:41  mmeevio       StockMarket   \n",
      "3     post  2023-08-30 17:12:55  165kllm  stockstobuytoday   \n",
      "4  comment  2025-04-11 14:48:05  mmkl6bw       StockMarket   \n",
      "\n",
      "                                               title                author  \\\n",
      "0    Retardation is on the menu boys! WSB is so back          StickyTip420   \n",
      "1  Retail giant TARGET has now declined for 10 co...  Comfortable-Dog-8437   \n",
      "2  How do you feel about a sitting president maki...          Btankersly66   \n",
      "3                              Who knows more? $VMAR             emiljenfn   \n",
      "4  The Trump administration is begging Xi Jinping...          Just-Big6411   \n",
      "\n",
      "                                                 url  upvotes  downvotes  \\\n",
      "0               https://i.redd.it/0yq2ftren8ue1.jpeg        0        NaN   \n",
      "1               https://i.redd.it/7tl6puv9waue1.jpeg      -15        NaN   \n",
      "2  https://apnews.com/article/trump-truth-social-...        1        NaN   \n",
      "3  https://www.reddit.com/r/stockstobuytoday/comm...       30        0.0   \n",
      "4  https://edition.cnn.com/2025/04/10/politics/tr...        1        NaN   \n",
      "\n",
      "   upvote_ratio                                               text  \\\n",
      "0           NaN                                   Calls on retards   \n",
      "1           NaN  Stunt as in like why did they even make a big ...   \n",
      "2           NaN                  Seeing lots of red in the ticker.   \n",
      "3          0.98  Vision Marine Technologies Inc. is rewriting t...   \n",
      "4           NaN                           He didn’t say thank you.   \n",
      "\n",
      "   subjectivity  polarity  sentiment  \\\n",
      "0      1.000000 -0.900000       -1.0   \n",
      "1      0.177778  0.083333        1.0   \n",
      "2      0.000000  0.000000        0.0   \n",
      "3      0.646970  0.216383        1.0   \n",
      "4      0.000000  0.000000        0.0   \n",
      "\n",
      "                                            entities  label  \n",
      "0                                                 []   -1.0  \n",
      "1              ['Stunt', 'company', 'deal', 'place']    0.0  \n",
      "2                                         ['ticker']    0.0  \n",
      "3  ['watercraft', 'skill', 'power', ']', 'feat', ...    1.0  \n",
      "4                                                 []   -1.0  \n",
      "<class 'pandas.core.frame.DataFrame'>\n",
      "RangeIndex: 847 entries, 0 to 846\n",
      "Data columns (total 16 columns):\n",
      " #   Column        Non-Null Count  Dtype  \n",
      "---  ------        --------------  -----  \n",
      " 0   type          847 non-null    object \n",
      " 1   datetime      847 non-null    object \n",
      " 2   post_id       847 non-null    object \n",
      " 3   subreddit     847 non-null    object \n",
      " 4   title         847 non-null    object \n",
      " 5   author        847 non-null    object \n",
      " 6   url           847 non-null    object \n",
      " 7   upvotes       847 non-null    int64  \n",
      " 8   downvotes     64 non-null     float64\n",
      " 9   upvote_ratio  64 non-null     float64\n",
      " 10  text          847 non-null    object \n",
      " 11  subjectivity  847 non-null    float64\n",
      " 12  polarity      847 non-null    float64\n",
      " 13  sentiment     847 non-null    float64\n",
      " 14  entities      847 non-null    object \n",
      " 15  label         847 non-null    float64\n",
      "dtypes: float64(6), int64(1), object(9)\n",
      "memory usage: 106.0+ KB\n",
      "None\n"
     ]
    }
   ],
   "source": [
    "import pandas as pd\n",
    "\n",
    "# Load the CSV\n",
    "df = pd.read_csv('./newdataset/Reddit-stock-sentiment.csv')\n",
    "\n",
    "# Preview\n",
    "print(df.head())\n",
    "print(df.info())"
   ]
  },
  {
   "cell_type": "markdown",
   "metadata": {},
   "source": [
    "### **Exercise 1**\n"
   ]
  },
  {
   "cell_type": "code",
   "execution_count": 25,
   "metadata": {},
   "outputs": [
    {
     "name": "stdout",
     "output_type": "stream",
     "text": [
      "example 1:\n",
      "Calls on retards\n",
      "example 2:\n",
      "Stunt as in like why did they even make a big deal about starting it in the first place? No company should ever talk about politics ever.\n",
      "example 3:\n",
      "Seeing lots of red in the ticker.\n"
     ]
    }
   ],
   "source": [
    "# Answer here\n",
    "for idx, i in enumerate(df.text[:3]):\n",
    "    print(f'example {idx + 1}:')\n",
    "    print(i)"
   ]
  },
  {
   "cell_type": "markdown",
   "metadata": {},
   "source": [
    "### **Data processing**"
   ]
  },
  {
   "cell_type": "code",
   "execution_count": 26,
   "metadata": {},
   "outputs": [
    {
     "name": "stdout",
     "output_type": "stream",
     "text": [
      "<class 'pandas.core.frame.DataFrame'>\n",
      "RangeIndex: 847 entries, 0 to 846\n",
      "Data columns (total 16 columns):\n",
      " #   Column        Non-Null Count  Dtype         \n",
      "---  ------        --------------  -----         \n",
      " 0   type          847 non-null    object        \n",
      " 1   datetime      847 non-null    datetime64[ns]\n",
      " 2   post_id       847 non-null    object        \n",
      " 3   subreddit     847 non-null    object        \n",
      " 4   title         847 non-null    object        \n",
      " 5   author        847 non-null    object        \n",
      " 6   url           847 non-null    object        \n",
      " 7   upvotes       847 non-null    int64         \n",
      " 8   downvotes     64 non-null     float64       \n",
      " 9   upvote_ratio  64 non-null     float64       \n",
      " 10  text          847 non-null    object        \n",
      " 11  subjectivity  847 non-null    float64       \n",
      " 12  polarity      847 non-null    float64       \n",
      " 13  sentiment     847 non-null    float64       \n",
      " 14  entities      847 non-null    object        \n",
      " 15  label         847 non-null    float64       \n",
      "dtypes: datetime64[ns](1), float64(6), int64(1), object(8)\n",
      "memory usage: 106.0+ KB\n",
      "None\n"
     ]
    }
   ],
   "source": [
    "# Convert datetime\n",
    "df['datetime'] = pd.to_datetime(df['datetime'], errors='coerce')\n",
    "\n",
    "# Convert engagement metrics\n",
    "numeric_cols = ['upvotes', 'downvotes', 'upvote_ratio', 'subjectivity', 'polarity', 'sentiment', 'label']\n",
    "df[numeric_cols] = df[numeric_cols].apply(pd.to_numeric, errors='coerce')\n",
    "\n",
    "# Convert 'entities' from string to Python list\n",
    "import ast\n",
    "df['entities'] = df['entities'].apply(lambda x: ast.literal_eval(x) if isinstance(x, str) and x.strip().startswith('[') else [])\n",
    "print(df.info())\n",
    "\n",
    "\n"
   ]
  },
  {
   "cell_type": "code",
   "execution_count": 27,
   "metadata": {},
   "outputs": [
    {
     "name": "stdout",
     "output_type": "stream",
     "text": [
      "<class 'pandas.core.frame.DataFrame'>\n",
      "RangeIndex: 847 entries, 0 to 846\n",
      "Data columns (total 16 columns):\n",
      " #   Column        Non-Null Count  Dtype         \n",
      "---  ------        --------------  -----         \n",
      " 0   type          847 non-null    category      \n",
      " 1   datetime      847 non-null    datetime64[ns]\n",
      " 2   post_id       847 non-null    object        \n",
      " 3   subreddit     847 non-null    category      \n",
      " 4   title         847 non-null    object        \n",
      " 5   author        847 non-null    object        \n",
      " 6   url           847 non-null    object        \n",
      " 7   upvotes       847 non-null    int64         \n",
      " 8   downvotes     847 non-null    float64       \n",
      " 9   upvote_ratio  64 non-null     float64       \n",
      " 10  text          847 non-null    object        \n",
      " 11  subjectivity  847 non-null    float64       \n",
      " 12  polarity      847 non-null    float64       \n",
      " 13  sentiment     847 non-null    float64       \n",
      " 14  entities      847 non-null    object        \n",
      " 15  label         847 non-null    float64       \n",
      "dtypes: category(2), datetime64[ns](1), float64(6), int64(1), object(6)\n",
      "memory usage: 94.7+ KB\n",
      "None\n"
     ]
    }
   ],
   "source": [
    "# Replace missing upvotes/downvotes with 0 (optional, depending on goal)\n",
    "df['upvotes'] = df['upvotes'].fillna(0)\n",
    "df['downvotes'] = df['downvotes'].fillna(0)\n",
    "\n",
    "# Ensure type is category for efficiency\n",
    "df['type'] = df['type'].astype('category')\n",
    "df['subreddit'] = df['subreddit'].astype('category')\n",
    "print(df.info())\n",
    "\n"
   ]
  },
  {
   "cell_type": "code",
   "execution_count": 28,
   "metadata": {},
   "outputs": [
    {
     "name": "stdout",
     "output_type": "stream",
     "text": [
      "Total rows: 847\n",
      "Rows with empty content: 0\n",
      "                                               title  \\\n",
      "0    Retardation is on the menu boys! WSB is so back   \n",
      "1  Retail giant TARGET has now declined for 10 co...   \n",
      "2  How do you feel about a sitting president maki...   \n",
      "3                              Who knows more? $VMAR   \n",
      "4  The Trump administration is begging Xi Jinping...   \n",
      "5  Weekend Discussion Thread for the Weekend of A...   \n",
      "6        Is the market in complete denial right now?   \n",
      "7    Retardation is on the menu boys! WSB is so back   \n",
      "8  It's fucking awful seeing the \"Silver\" misinfo...   \n",
      "9                        Any cheap stocks under $10?   \n",
      "\n",
      "                                                text  \\\n",
      "0                                   Calls on retards   \n",
      "1  Stunt as in like why did they even make a big ...   \n",
      "2                  Seeing lots of red in the ticker.   \n",
      "3  Vision Marine Technologies Inc. is rewriting t...   \n",
      "4                           He didn’t say thank you.   \n",
      "5  Hoping to ejaculate in wet warm puss tonight, ...   \n",
      "6  Trump will respond to china increasing their t...   \n",
      "7  Confirmed not a trap. Its been like this for p...   \n",
      "8  Am I the only one seeing the cup & handle brea...   \n",
      "9  HLGN is $10. Hurry and catch it now before it ...   \n",
      "\n",
      "                                             content  content_length  \\\n",
      "0  Retardation is on the menu boys! WSB is so bac...              65   \n",
      "1  Retail giant TARGET has now declined for 10 co...             238   \n",
      "2  How do you feel about a sitting president maki...             169   \n",
      "3  Who knows more? $VMAR. Vision Marine Technolog...            1084   \n",
      "4  The Trump administration is begging Xi Jinping...              95   \n",
      "5  Weekend Discussion Thread for the Weekend of A...             119   \n",
      "6  Is the market in complete denial right now?. T...             340   \n",
      "7  Retardation is on the menu boys! WSB is so bac...             163   \n",
      "8  It's fucking awful seeing the \"Silver\" misinfo...             275   \n",
      "9  Any cheap stocks under $10?. HLGN is $10. Hurr...              94   \n",
      "\n",
      "   word_count  content_missing  \n",
      "0          13            False  \n",
      "1          43            False  \n",
      "2          32            False  \n",
      "3         163            False  \n",
      "4          16            False  \n",
      "5          21            False  \n",
      "6          60            False  \n",
      "7          33            False  \n",
      "8          48            False  \n",
      "9          19            False  \n"
     ]
    }
   ],
   "source": [
    "import pandas as pd\n",
    "import re\n",
    "import html\n",
    "\n",
    "# --- Load (example) ---\n",
    "# df = pd.read_csv(\"your_dataset.csv\")\n",
    "# For safety, ensure dataframe exists\n",
    "# --------------------------------\n",
    "\n",
    "# Ensure title and text are strings (convert NaN to empty string)\n",
    "df['title'] = df['title'].fillna('').astype(str)\n",
    "df['text']  = df['text'].fillna('').astype(str)\n",
    "\n",
    "# Function to clean text\n",
    "URL_RE = re.compile(r'(https?://\\S+|www\\.\\S+)')\n",
    "HTML_TAG_RE = re.compile(r'<[^>]+>')\n",
    "MARKDOWN_LINK_RE = re.compile(r'\\[([^\\]]+)\\]\\([^)]+\\)')  # [text](url)\n",
    "MULTISPACE_RE = re.compile(r'\\s+')\n",
    "\n",
    "def clean_text(s: str) -> str:\n",
    "    if not isinstance(s, str):\n",
    "        return ''\n",
    "    s = html.unescape(s)                    # convert HTML entities\n",
    "    s = URL_RE.sub(' ', s)                  # remove URLs\n",
    "    s = MARKDOWN_LINK_RE.sub(r'\\1', s)     # transform markdown links to their text\n",
    "    s = HTML_TAG_RE.sub(' ', s)             # remove HTML tags if any\n",
    "    s = s.replace('\\n', ' ').replace('\\r', ' ')\n",
    "    s = MULTISPACE_RE.sub(' ', s)           # collapse whitespace\n",
    "    s = s.strip()\n",
    "    return s\n",
    "\n",
    "# Create 'content' by combining title and text (only include parts that exist)\n",
    "def make_content(row):\n",
    "    title = row['title'].strip()\n",
    "    text  = row['text'].strip()\n",
    "    if title and text:\n",
    "        return f\"{title}. {text}\"\n",
    "    elif title:\n",
    "        return title\n",
    "    else:\n",
    "        return text\n",
    "\n",
    "df['content'] = df.apply(make_content, axis=1).astype(str)\n",
    "# Clean the combined content\n",
    "df['content'] = df['content'].apply(clean_text)\n",
    "\n",
    "# Derived helper columns\n",
    "df['content_length'] = df['content'].apply(len)                       # number of characters\n",
    "df['word_count']      = df['content'].apply(lambda s: len(s.split()) if s else 0)\n",
    "df['content_missing'] = df['content'].apply(lambda s: True if (not s or s.strip()=='') else False)\n",
    "\n",
    "# Example: show rows where content is missing\n",
    "missing_content_df = df[df['content_missing']].copy()\n",
    "\n",
    "print(\"Total rows:\", len(df))\n",
    "print(\"Rows with empty content:\", len(missing_content_df))\n",
    "print(df[['title','text','content','content_length','word_count','content_missing']].head(10))\n",
    "\n",
    "# --- OPTIONAL: drop rows with empty content (if you want to remove them) ---\n",
    "# df = df[~df['content_missing']].reset_index(drop=True)\n"
   ]
  },
  {
   "cell_type": "markdown",
   "metadata": {},
   "source": [
    "### **Exercise 2**"
   ]
  },
  {
   "cell_type": "code",
   "execution_count": 29,
   "metadata": {},
   "outputs": [
    {
     "data": {
      "text/html": [
       "<div>\n",
       "<style scoped>\n",
       "    .dataframe tbody tr th:only-of-type {\n",
       "        vertical-align: middle;\n",
       "    }\n",
       "\n",
       "    .dataframe tbody tr th {\n",
       "        vertical-align: top;\n",
       "    }\n",
       "\n",
       "    .dataframe thead th {\n",
       "        text-align: right;\n",
       "    }\n",
       "</style>\n",
       "<table border=\"1\" class=\"dataframe\">\n",
       "  <thead>\n",
       "    <tr style=\"text-align: right;\">\n",
       "      <th></th>\n",
       "      <th>type</th>\n",
       "      <th>datetime</th>\n",
       "      <th>post_id</th>\n",
       "      <th>subreddit</th>\n",
       "      <th>title</th>\n",
       "      <th>author</th>\n",
       "      <th>url</th>\n",
       "      <th>upvotes</th>\n",
       "      <th>downvotes</th>\n",
       "      <th>upvote_ratio</th>\n",
       "      <th>text</th>\n",
       "      <th>subjectivity</th>\n",
       "      <th>polarity</th>\n",
       "      <th>sentiment</th>\n",
       "      <th>entities</th>\n",
       "      <th>label</th>\n",
       "      <th>content</th>\n",
       "      <th>content_length</th>\n",
       "      <th>word_count</th>\n",
       "      <th>content_missing</th>\n",
       "    </tr>\n",
       "  </thead>\n",
       "  <tbody>\n",
       "    <tr>\n",
       "      <th>38</th>\n",
       "      <td>comment</td>\n",
       "      <td>2025-04-12 02:32:18</td>\n",
       "      <td>mmo6k88</td>\n",
       "      <td>wallstreetbets</td>\n",
       "      <td>Someone post the hotline please.</td>\n",
       "      <td>Skeleton-ear-face</td>\n",
       "      <td>https://i.redd.it/tcfuu97p7bue1.jpeg</td>\n",
       "      <td>1</td>\n",
       "      <td>0.0</td>\n",
       "      <td>NaN</td>\n",
       "      <td>Hey our net worth match now, we can be friends!</td>\n",
       "      <td>0.050000</td>\n",
       "      <td>0.187500</td>\n",
       "      <td>1.0</td>\n",
       "      <td>[net, Hey, match, worth]</td>\n",
       "      <td>1.0</td>\n",
       "      <td>Someone post the hotline please.. Hey our net ...</td>\n",
       "      <td>81</td>\n",
       "      <td>15</td>\n",
       "      <td>False</td>\n",
       "    </tr>\n",
       "    <tr>\n",
       "      <th>61</th>\n",
       "      <td>comment</td>\n",
       "      <td>2025-04-12 02:57:47</td>\n",
       "      <td>mmoacbb</td>\n",
       "      <td>wallstreetbets</td>\n",
       "      <td>Retail giant TARGET has now declined for 10 co...</td>\n",
       "      <td>Certain-Statement-95</td>\n",
       "      <td>https://i.redd.it/7tl6puv9waue1.jpeg</td>\n",
       "      <td>2</td>\n",
       "      <td>0.0</td>\n",
       "      <td>NaN</td>\n",
       "      <td>if best buy can survive, target will survive.</td>\n",
       "      <td>0.300000</td>\n",
       "      <td>1.000000</td>\n",
       "      <td>1.0</td>\n",
       "      <td>[buy]</td>\n",
       "      <td>1.0</td>\n",
       "      <td>Retail giant TARGET has now declined for 10 co...</td>\n",
       "      <td>146</td>\n",
       "      <td>24</td>\n",
       "      <td>False</td>\n",
       "    </tr>\n",
       "    <tr>\n",
       "      <th>81</th>\n",
       "      <td>comment</td>\n",
       "      <td>2025-04-11 17:19:41</td>\n",
       "      <td>mmlg1y2</td>\n",
       "      <td>wallstreetbets</td>\n",
       "      <td>Retardation is on the menu boys! WSB is so back</td>\n",
       "      <td>ManyCommunications</td>\n",
       "      <td>https://i.redd.it/0yq2ftren8ue1.jpeg</td>\n",
       "      <td>6</td>\n",
       "      <td>0.0</td>\n",
       "      <td>NaN</td>\n",
       "      <td>The cost of this was SPY going -20%. I’ll take...</td>\n",
       "      <td>0.000000</td>\n",
       "      <td>0.000000</td>\n",
       "      <td>0.0</td>\n",
       "      <td>[cost, %, emote|t5_2th52|8882, SPY, ]]</td>\n",
       "      <td>1.0</td>\n",
       "      <td>Retardation is on the menu boys! WSB is so bac...</td>\n",
       "      <td>103</td>\n",
       "      <td>22</td>\n",
       "      <td>False</td>\n",
       "    </tr>\n",
       "    <tr>\n",
       "      <th>203</th>\n",
       "      <td>comment</td>\n",
       "      <td>2025-04-11 15:09:37</td>\n",
       "      <td>mmkpjai</td>\n",
       "      <td>wallstreetbets</td>\n",
       "      <td>[IPO] AIRO IPO: Aerospace &amp; Defense Play at $1...</td>\n",
       "      <td>JamesPKing28</td>\n",
       "      <td>https://i.redd.it/n22xlqjix7ue1.jpeg</td>\n",
       "      <td>0</td>\n",
       "      <td>0.0</td>\n",
       "      <td>NaN</td>\n",
       "      <td>Thanks for the heads up.</td>\n",
       "      <td>0.200000</td>\n",
       "      <td>0.200000</td>\n",
       "      <td>1.0</td>\n",
       "      <td>[]</td>\n",
       "      <td>1.0</td>\n",
       "      <td>[IPO] AIRO IPO: Aerospace &amp; Defense Play at $1...</td>\n",
       "      <td>99</td>\n",
       "      <td>19</td>\n",
       "      <td>False</td>\n",
       "    </tr>\n",
       "    <tr>\n",
       "      <th>205</th>\n",
       "      <td>comment</td>\n",
       "      <td>2025-04-12 03:07:26</td>\n",
       "      <td>mmobqf0</td>\n",
       "      <td>wallstreetbets</td>\n",
       "      <td>Someone post the hotline please.</td>\n",
       "      <td>stockmarkettrader</td>\n",
       "      <td>https://i.redd.it/tcfuu97p7bue1.jpeg</td>\n",
       "      <td>1</td>\n",
       "      <td>0.0</td>\n",
       "      <td>NaN</td>\n",
       "      <td>Nicely done</td>\n",
       "      <td>1.000000</td>\n",
       "      <td>0.600000</td>\n",
       "      <td>1.0</td>\n",
       "      <td>[]</td>\n",
       "      <td>1.0</td>\n",
       "      <td>Someone post the hotline please.. Nicely done</td>\n",
       "      <td>45</td>\n",
       "      <td>7</td>\n",
       "      <td>False</td>\n",
       "    </tr>\n",
       "    <tr>\n",
       "      <th>209</th>\n",
       "      <td>comment</td>\n",
       "      <td>2025-04-11 21:01:42</td>\n",
       "      <td>mmmo0ob</td>\n",
       "      <td>wallstreetbets</td>\n",
       "      <td>Weekend Discussion Thread for the Weekend of A...</td>\n",
       "      <td>Worth_Swim_3128</td>\n",
       "      <td>https://www.reddit.com/r/wallstreetbets/commen...</td>\n",
       "      <td>9</td>\n",
       "      <td>0.0</td>\n",
       "      <td>NaN</td>\n",
       "      <td>Short America right now</td>\n",
       "      <td>0.417857</td>\n",
       "      <td>0.142857</td>\n",
       "      <td>1.0</td>\n",
       "      <td>[America, Short]</td>\n",
       "      <td>1.0</td>\n",
       "      <td>Weekend Discussion Thread for the Weekend of A...</td>\n",
       "      <td>84</td>\n",
       "      <td>14</td>\n",
       "      <td>False</td>\n",
       "    </tr>\n",
       "    <tr>\n",
       "      <th>266</th>\n",
       "      <td>comment</td>\n",
       "      <td>2025-04-11 21:22:20</td>\n",
       "      <td>mmmrtzq</td>\n",
       "      <td>wallstreetbets</td>\n",
       "      <td>Weekend Discussion Thread for the Weekend of A...</td>\n",
       "      <td>OPINION_IS_REGARDED</td>\n",
       "      <td>https://www.reddit.com/r/wallstreetbets/commen...</td>\n",
       "      <td>22</td>\n",
       "      <td>0.0</td>\n",
       "      <td>NaN</td>\n",
       "      <td>I am so addicted to this market I can't wait f...</td>\n",
       "      <td>0.600000</td>\n",
       "      <td>-0.400000</td>\n",
       "      <td>-1.0</td>\n",
       "      <td>[Monday, market]</td>\n",
       "      <td>1.0</td>\n",
       "      <td>Weekend Discussion Thread for the Weekend of A...</td>\n",
       "      <td>116</td>\n",
       "      <td>22</td>\n",
       "      <td>False</td>\n",
       "    </tr>\n",
       "    <tr>\n",
       "      <th>332</th>\n",
       "      <td>post</td>\n",
       "      <td>2025-04-11 18:25:25</td>\n",
       "      <td>1jwwv42</td>\n",
       "      <td>wallstreetbets</td>\n",
       "      <td>$75k+ In Gains (300% YTD)</td>\n",
       "      <td>KatBoss01</td>\n",
       "      <td>https://www.reddit.com/gallery/1jwwv42</td>\n",
       "      <td>5</td>\n",
       "      <td>0.0</td>\n",
       "      <td>1.0</td>\n",
       "      <td>Mostly in MSTR calls, AAPL puts and GBTC long.</td>\n",
       "      <td>0.450000</td>\n",
       "      <td>0.225000</td>\n",
       "      <td>1.0</td>\n",
       "      <td>[GBTC, MSTR, AAPL]</td>\n",
       "      <td>1.0</td>\n",
       "      <td>$75k+ In Gains (300% YTD). Mostly in MSTR call...</td>\n",
       "      <td>73</td>\n",
       "      <td>14</td>\n",
       "      <td>False</td>\n",
       "    </tr>\n",
       "    <tr>\n",
       "      <th>336</th>\n",
       "      <td>comment</td>\n",
       "      <td>2025-04-11 20:50:05</td>\n",
       "      <td>mmmlsem</td>\n",
       "      <td>wallstreetbets</td>\n",
       "      <td>Weekend Discussion Thread for the Weekend of A...</td>\n",
       "      <td>bullrfuk</td>\n",
       "      <td>https://www.reddit.com/r/wallstreetbets/commen...</td>\n",
       "      <td>48</td>\n",
       "      <td>0.0</td>\n",
       "      <td>NaN</td>\n",
       "      <td>China: \"We are going to build our future on sc...</td>\n",
       "      <td>0.426136</td>\n",
       "      <td>0.184091</td>\n",
       "      <td>1.0</td>\n",
       "      <td>[technology, LMAO, future, science, fusion, Ch...</td>\n",
       "      <td>1.0</td>\n",
       "      <td>Weekend Discussion Thread for the Weekend of A...</td>\n",
       "      <td>225</td>\n",
       "      <td>40</td>\n",
       "      <td>False</td>\n",
       "    </tr>\n",
       "    <tr>\n",
       "      <th>370</th>\n",
       "      <td>comment</td>\n",
       "      <td>2025-04-12 01:31:08</td>\n",
       "      <td>mmnx5af</td>\n",
       "      <td>wallstreetbets</td>\n",
       "      <td>Retail giant TARGET has now declined for 10 co...</td>\n",
       "      <td>BunbunTheJackalope</td>\n",
       "      <td>https://i.redd.it/7tl6puv9waue1.jpeg</td>\n",
       "      <td>1</td>\n",
       "      <td>0.0</td>\n",
       "      <td>NaN</td>\n",
       "      <td>Good</td>\n",
       "      <td>0.600000</td>\n",
       "      <td>0.700000</td>\n",
       "      <td>1.0</td>\n",
       "      <td>[]</td>\n",
       "      <td>1.0</td>\n",
       "      <td>Retail giant TARGET has now declined for 10 co...</td>\n",
       "      <td>105</td>\n",
       "      <td>17</td>\n",
       "      <td>False</td>\n",
       "    </tr>\n",
       "    <tr>\n",
       "      <th>422</th>\n",
       "      <td>comment</td>\n",
       "      <td>2025-04-11 20:40:00</td>\n",
       "      <td>mmmjtmf</td>\n",
       "      <td>wallstreetbets</td>\n",
       "      <td>Weekend Discussion Thread for the Weekend of A...</td>\n",
       "      <td>chobro17</td>\n",
       "      <td>https://www.reddit.com/r/wallstreetbets/commen...</td>\n",
       "      <td>9</td>\n",
       "      <td>0.0</td>\n",
       "      <td>NaN</td>\n",
       "      <td>Lmao TSLA is green ![img](emote|t5_2th52|4271)</td>\n",
       "      <td>0.650000</td>\n",
       "      <td>0.175000</td>\n",
       "      <td>1.0</td>\n",
       "      <td>[Lmao, img, TSLA, emote|t5_2th52|4271, ], []</td>\n",
       "      <td>1.0</td>\n",
       "      <td>Weekend Discussion Thread for the Weekend of A...</td>\n",
       "      <td>84</td>\n",
       "      <td>15</td>\n",
       "      <td>False</td>\n",
       "    </tr>\n",
       "    <tr>\n",
       "      <th>452</th>\n",
       "      <td>comment</td>\n",
       "      <td>2025-04-11 21:00:46</td>\n",
       "      <td>mmmnu84</td>\n",
       "      <td>wallstreetbets</td>\n",
       "      <td>Weekend Discussion Thread for the Weekend of A...</td>\n",
       "      <td>Happy_Discussion_536</td>\n",
       "      <td>https://www.reddit.com/r/wallstreetbets/commen...</td>\n",
       "      <td>16</td>\n",
       "      <td>0.0</td>\n",
       "      <td>NaN</td>\n",
       "      <td>Inflation expectations for year ahead highest ...</td>\n",
       "      <td>0.500000</td>\n",
       "      <td>0.500000</td>\n",
       "      <td>1.0</td>\n",
       "      <td>[year, Inflation, Better, cash, %]</td>\n",
       "      <td>1.0</td>\n",
       "      <td>Weekend Discussion Thread for the Weekend of A...</td>\n",
       "      <td>150</td>\n",
       "      <td>25</td>\n",
       "      <td>False</td>\n",
       "    </tr>\n",
       "    <tr>\n",
       "      <th>465</th>\n",
       "      <td>comment</td>\n",
       "      <td>2025-04-12 01:43:51</td>\n",
       "      <td>mmnz40e</td>\n",
       "      <td>wallstreetbets</td>\n",
       "      <td>Retail giant TARGET has now declined for 10 co...</td>\n",
       "      <td>hobbitfeet22</td>\n",
       "      <td>https://i.redd.it/7tl6puv9waue1.jpeg</td>\n",
       "      <td>17</td>\n",
       "      <td>0.0</td>\n",
       "      <td>NaN</td>\n",
       "      <td>Sam’s is literally bulk wal mart lol. If anyth...</td>\n",
       "      <td>0.540000</td>\n",
       "      <td>0.380000</td>\n",
       "      <td>1.0</td>\n",
       "      <td>[anything, mart, amount, wal mart, extent, lol...</td>\n",
       "      <td>1.0</td>\n",
       "      <td>Retail giant TARGET has now declined for 10 co...</td>\n",
       "      <td>333</td>\n",
       "      <td>60</td>\n",
       "      <td>False</td>\n",
       "    </tr>\n",
       "    <tr>\n",
       "      <th>479</th>\n",
       "      <td>comment</td>\n",
       "      <td>2025-04-11 23:49:50</td>\n",
       "      <td>mmnh4a8</td>\n",
       "      <td>wallstreetbets</td>\n",
       "      <td>Weekend Discussion Thread for the Weekend of A...</td>\n",
       "      <td>Narrow-Ad6797</td>\n",
       "      <td>https://www.reddit.com/r/wallstreetbets/commen...</td>\n",
       "      <td>10</td>\n",
       "      <td>0.0</td>\n",
       "      <td>NaN</td>\n",
       "      <td>Thank God this week is over</td>\n",
       "      <td>0.000000</td>\n",
       "      <td>0.000000</td>\n",
       "      <td>0.0</td>\n",
       "      <td>[God, week, Thank]</td>\n",
       "      <td>1.0</td>\n",
       "      <td>Weekend Discussion Thread for the Weekend of A...</td>\n",
       "      <td>88</td>\n",
       "      <td>16</td>\n",
       "      <td>False</td>\n",
       "    </tr>\n",
       "    <tr>\n",
       "      <th>581</th>\n",
       "      <td>comment</td>\n",
       "      <td>2025-04-12 01:45:08</td>\n",
       "      <td>mmnzb98</td>\n",
       "      <td>wallstreetbets</td>\n",
       "      <td>Weekend Discussion Thread for the Weekend of A...</td>\n",
       "      <td>Top-Cup-8198</td>\n",
       "      <td>https://www.reddit.com/r/wallstreetbets/commen...</td>\n",
       "      <td>12</td>\n",
       "      <td>0.0</td>\n",
       "      <td>NaN</td>\n",
       "      <td>Years ago I found Kate Rooney’s instagram.\\r\\n...</td>\n",
       "      <td>0.518452</td>\n",
       "      <td>-0.080357</td>\n",
       "      <td>-1.0</td>\n",
       "      <td>[instagram, fact, t, auto, Small, s, crush, Ws...</td>\n",
       "      <td>1.0</td>\n",
       "      <td>Weekend Discussion Thread for the Weekend of A...</td>\n",
       "      <td>436</td>\n",
       "      <td>81</td>\n",
       "      <td>False</td>\n",
       "    </tr>\n",
       "    <tr>\n",
       "      <th>677</th>\n",
       "      <td>comment</td>\n",
       "      <td>2025-04-11 20:00:44</td>\n",
       "      <td>mmmc2xc</td>\n",
       "      <td>wallstreetbets</td>\n",
       "      <td>Weekend Discussion Thread for the Weekend of A...</td>\n",
       "      <td>Ok_Competition1524</td>\n",
       "      <td>https://www.reddit.com/r/wallstreetbets/commen...</td>\n",
       "      <td>32</td>\n",
       "      <td>0.0</td>\n",
       "      <td>NaN</td>\n",
       "      <td>China increases tariffs on US. \\r\\n\\r\\nMarket ...</td>\n",
       "      <td>1.000000</td>\n",
       "      <td>1.000000</td>\n",
       "      <td>1.0</td>\n",
       "      <td>[Balanced, US, China, Market]</td>\n",
       "      <td>1.0</td>\n",
       "      <td>Weekend Discussion Thread for the Weekend of A...</td>\n",
       "      <td>127</td>\n",
       "      <td>20</td>\n",
       "      <td>False</td>\n",
       "    </tr>\n",
       "    <tr>\n",
       "      <th>700</th>\n",
       "      <td>comment</td>\n",
       "      <td>2025-04-12 01:09:59</td>\n",
       "      <td>mmntum6</td>\n",
       "      <td>wallstreetbets</td>\n",
       "      <td>Retail giant TARGET has now declined for 10 co...</td>\n",
       "      <td>CuttyAllgood</td>\n",
       "      <td>https://i.redd.it/7tl6puv9waue1.jpeg</td>\n",
       "      <td>36</td>\n",
       "      <td>0.0</td>\n",
       "      <td>NaN</td>\n",
       "      <td>Donno why you’re getting downvoted. You’re not...</td>\n",
       "      <td>0.900000</td>\n",
       "      <td>-0.500000</td>\n",
       "      <td>-1.0</td>\n",
       "      <td>[Donno, IMO]</td>\n",
       "      <td>1.0</td>\n",
       "      <td>Retail giant TARGET has now declined for 10 co...</td>\n",
       "      <td>158</td>\n",
       "      <td>25</td>\n",
       "      <td>False</td>\n",
       "    </tr>\n",
       "    <tr>\n",
       "      <th>785</th>\n",
       "      <td>comment</td>\n",
       "      <td>2025-04-11 23:43:33</td>\n",
       "      <td>mmng355</td>\n",
       "      <td>wallstreetbets</td>\n",
       "      <td>Weekend Discussion Thread for the Weekend of A...</td>\n",
       "      <td>P1SSW1ZARD</td>\n",
       "      <td>https://www.reddit.com/r/wallstreetbets/commen...</td>\n",
       "      <td>12</td>\n",
       "      <td>0.0</td>\n",
       "      <td>NaN</td>\n",
       "      <td>Haven’t traded in like 3 days and my god life ...</td>\n",
       "      <td>0.100000</td>\n",
       "      <td>0.300000</td>\n",
       "      <td>1.0</td>\n",
       "      <td>[living, life, sunset, t, time, ’, Haven]</td>\n",
       "      <td>1.0</td>\n",
       "      <td>Weekend Discussion Thread for the Weekend of A...</td>\n",
       "      <td>164</td>\n",
       "      <td>32</td>\n",
       "      <td>False</td>\n",
       "    </tr>\n",
       "    <tr>\n",
       "      <th>806</th>\n",
       "      <td>comment</td>\n",
       "      <td>2025-04-11 16:34:48</td>\n",
       "      <td>mml6uwu</td>\n",
       "      <td>wallstreetbets</td>\n",
       "      <td>Weekly Earnings Thread 4/14 - 4/18</td>\n",
       "      <td>STONKvsTITS</td>\n",
       "      <td>https://i.redd.it/b51iqmecn7ue1.jpeg</td>\n",
       "      <td>2</td>\n",
       "      <td>0.0</td>\n",
       "      <td>NaN</td>\n",
       "      <td>Good dd</td>\n",
       "      <td>0.600000</td>\n",
       "      <td>0.700000</td>\n",
       "      <td>1.0</td>\n",
       "      <td>[dd]</td>\n",
       "      <td>1.0</td>\n",
       "      <td>Weekly Earnings Thread 4/14 - 4/18. Good dd</td>\n",
       "      <td>43</td>\n",
       "      <td>8</td>\n",
       "      <td>False</td>\n",
       "    </tr>\n",
       "    <tr>\n",
       "      <th>815</th>\n",
       "      <td>comment</td>\n",
       "      <td>2025-04-12 03:23:21</td>\n",
       "      <td>mmodyt1</td>\n",
       "      <td>wallstreetbets</td>\n",
       "      <td>Someone post the hotline please.</td>\n",
       "      <td>chimengxiong</td>\n",
       "      <td>https://i.redd.it/tcfuu97p7bue1.jpeg</td>\n",
       "      <td>1</td>\n",
       "      <td>0.0</td>\n",
       "      <td>NaN</td>\n",
       "      <td>You see a glass that's 98% empty. \\r\\n\\r\\nI se...</td>\n",
       "      <td>0.525000</td>\n",
       "      <td>0.125000</td>\n",
       "      <td>1.0</td>\n",
       "      <td>[glass, %]</td>\n",
       "      <td>1.0</td>\n",
       "      <td>Someone post the hotline please.. You see a gl...</td>\n",
       "      <td>97</td>\n",
       "      <td>19</td>\n",
       "      <td>False</td>\n",
       "    </tr>\n",
       "  </tbody>\n",
       "</table>\n",
       "</div>"
      ],
      "text/plain": [
       "        type            datetime  post_id       subreddit  \\\n",
       "38   comment 2025-04-12 02:32:18  mmo6k88  wallstreetbets   \n",
       "61   comment 2025-04-12 02:57:47  mmoacbb  wallstreetbets   \n",
       "81   comment 2025-04-11 17:19:41  mmlg1y2  wallstreetbets   \n",
       "203  comment 2025-04-11 15:09:37  mmkpjai  wallstreetbets   \n",
       "205  comment 2025-04-12 03:07:26  mmobqf0  wallstreetbets   \n",
       "209  comment 2025-04-11 21:01:42  mmmo0ob  wallstreetbets   \n",
       "266  comment 2025-04-11 21:22:20  mmmrtzq  wallstreetbets   \n",
       "332     post 2025-04-11 18:25:25  1jwwv42  wallstreetbets   \n",
       "336  comment 2025-04-11 20:50:05  mmmlsem  wallstreetbets   \n",
       "370  comment 2025-04-12 01:31:08  mmnx5af  wallstreetbets   \n",
       "422  comment 2025-04-11 20:40:00  mmmjtmf  wallstreetbets   \n",
       "452  comment 2025-04-11 21:00:46  mmmnu84  wallstreetbets   \n",
       "465  comment 2025-04-12 01:43:51  mmnz40e  wallstreetbets   \n",
       "479  comment 2025-04-11 23:49:50  mmnh4a8  wallstreetbets   \n",
       "581  comment 2025-04-12 01:45:08  mmnzb98  wallstreetbets   \n",
       "677  comment 2025-04-11 20:00:44  mmmc2xc  wallstreetbets   \n",
       "700  comment 2025-04-12 01:09:59  mmntum6  wallstreetbets   \n",
       "785  comment 2025-04-11 23:43:33  mmng355  wallstreetbets   \n",
       "806  comment 2025-04-11 16:34:48  mml6uwu  wallstreetbets   \n",
       "815  comment 2025-04-12 03:23:21  mmodyt1  wallstreetbets   \n",
       "\n",
       "                                                 title                author  \\\n",
       "38                    Someone post the hotline please.     Skeleton-ear-face   \n",
       "61   Retail giant TARGET has now declined for 10 co...  Certain-Statement-95   \n",
       "81     Retardation is on the menu boys! WSB is so back    ManyCommunications   \n",
       "203  [IPO] AIRO IPO: Aerospace & Defense Play at $1...          JamesPKing28   \n",
       "205                   Someone post the hotline please.     stockmarkettrader   \n",
       "209  Weekend Discussion Thread for the Weekend of A...       Worth_Swim_3128   \n",
       "266  Weekend Discussion Thread for the Weekend of A...   OPINION_IS_REGARDED   \n",
       "332                          $75k+ In Gains (300% YTD)             KatBoss01   \n",
       "336  Weekend Discussion Thread for the Weekend of A...              bullrfuk   \n",
       "370  Retail giant TARGET has now declined for 10 co...    BunbunTheJackalope   \n",
       "422  Weekend Discussion Thread for the Weekend of A...              chobro17   \n",
       "452  Weekend Discussion Thread for the Weekend of A...  Happy_Discussion_536   \n",
       "465  Retail giant TARGET has now declined for 10 co...          hobbitfeet22   \n",
       "479  Weekend Discussion Thread for the Weekend of A...         Narrow-Ad6797   \n",
       "581  Weekend Discussion Thread for the Weekend of A...          Top-Cup-8198   \n",
       "677  Weekend Discussion Thread for the Weekend of A...    Ok_Competition1524   \n",
       "700  Retail giant TARGET has now declined for 10 co...          CuttyAllgood   \n",
       "785  Weekend Discussion Thread for the Weekend of A...            P1SSW1ZARD   \n",
       "806                 Weekly Earnings Thread 4/14 - 4/18           STONKvsTITS   \n",
       "815                   Someone post the hotline please.          chimengxiong   \n",
       "\n",
       "                                                   url  upvotes  downvotes  \\\n",
       "38                https://i.redd.it/tcfuu97p7bue1.jpeg        1        0.0   \n",
       "61                https://i.redd.it/7tl6puv9waue1.jpeg        2        0.0   \n",
       "81                https://i.redd.it/0yq2ftren8ue1.jpeg        6        0.0   \n",
       "203               https://i.redd.it/n22xlqjix7ue1.jpeg        0        0.0   \n",
       "205               https://i.redd.it/tcfuu97p7bue1.jpeg        1        0.0   \n",
       "209  https://www.reddit.com/r/wallstreetbets/commen...        9        0.0   \n",
       "266  https://www.reddit.com/r/wallstreetbets/commen...       22        0.0   \n",
       "332             https://www.reddit.com/gallery/1jwwv42        5        0.0   \n",
       "336  https://www.reddit.com/r/wallstreetbets/commen...       48        0.0   \n",
       "370               https://i.redd.it/7tl6puv9waue1.jpeg        1        0.0   \n",
       "422  https://www.reddit.com/r/wallstreetbets/commen...        9        0.0   \n",
       "452  https://www.reddit.com/r/wallstreetbets/commen...       16        0.0   \n",
       "465               https://i.redd.it/7tl6puv9waue1.jpeg       17        0.0   \n",
       "479  https://www.reddit.com/r/wallstreetbets/commen...       10        0.0   \n",
       "581  https://www.reddit.com/r/wallstreetbets/commen...       12        0.0   \n",
       "677  https://www.reddit.com/r/wallstreetbets/commen...       32        0.0   \n",
       "700               https://i.redd.it/7tl6puv9waue1.jpeg       36        0.0   \n",
       "785  https://www.reddit.com/r/wallstreetbets/commen...       12        0.0   \n",
       "806               https://i.redd.it/b51iqmecn7ue1.jpeg        2        0.0   \n",
       "815               https://i.redd.it/tcfuu97p7bue1.jpeg        1        0.0   \n",
       "\n",
       "     upvote_ratio                                               text  \\\n",
       "38            NaN    Hey our net worth match now, we can be friends!   \n",
       "61            NaN      if best buy can survive, target will survive.   \n",
       "81            NaN  The cost of this was SPY going -20%. I’ll take...   \n",
       "203           NaN                           Thanks for the heads up.   \n",
       "205           NaN                                        Nicely done   \n",
       "209           NaN                            Short America right now   \n",
       "266           NaN  I am so addicted to this market I can't wait f...   \n",
       "332           1.0     Mostly in MSTR calls, AAPL puts and GBTC long.   \n",
       "336           NaN  China: \"We are going to build our future on sc...   \n",
       "370           NaN                                               Good   \n",
       "422           NaN     Lmao TSLA is green ![img](emote|t5_2th52|4271)   \n",
       "452           NaN  Inflation expectations for year ahead highest ...   \n",
       "465           NaN  Sam’s is literally bulk wal mart lol. If anyth...   \n",
       "479           NaN                        Thank God this week is over   \n",
       "581           NaN  Years ago I found Kate Rooney’s instagram.\\r\\n...   \n",
       "677           NaN  China increases tariffs on US. \\r\\n\\r\\nMarket ...   \n",
       "700           NaN  Donno why you’re getting downvoted. You’re not...   \n",
       "785           NaN  Haven’t traded in like 3 days and my god life ...   \n",
       "806           NaN                                            Good dd   \n",
       "815           NaN  You see a glass that's 98% empty. \\r\\n\\r\\nI se...   \n",
       "\n",
       "     subjectivity  polarity  sentiment  \\\n",
       "38       0.050000  0.187500        1.0   \n",
       "61       0.300000  1.000000        1.0   \n",
       "81       0.000000  0.000000        0.0   \n",
       "203      0.200000  0.200000        1.0   \n",
       "205      1.000000  0.600000        1.0   \n",
       "209      0.417857  0.142857        1.0   \n",
       "266      0.600000 -0.400000       -1.0   \n",
       "332      0.450000  0.225000        1.0   \n",
       "336      0.426136  0.184091        1.0   \n",
       "370      0.600000  0.700000        1.0   \n",
       "422      0.650000  0.175000        1.0   \n",
       "452      0.500000  0.500000        1.0   \n",
       "465      0.540000  0.380000        1.0   \n",
       "479      0.000000  0.000000        0.0   \n",
       "581      0.518452 -0.080357       -1.0   \n",
       "677      1.000000  1.000000        1.0   \n",
       "700      0.900000 -0.500000       -1.0   \n",
       "785      0.100000  0.300000        1.0   \n",
       "806      0.600000  0.700000        1.0   \n",
       "815      0.525000  0.125000        1.0   \n",
       "\n",
       "                                              entities  label  \\\n",
       "38                            [net, Hey, match, worth]    1.0   \n",
       "61                                               [buy]    1.0   \n",
       "81              [cost, %, emote|t5_2th52|8882, SPY, ]]    1.0   \n",
       "203                                                 []    1.0   \n",
       "205                                                 []    1.0   \n",
       "209                                   [America, Short]    1.0   \n",
       "266                                   [Monday, market]    1.0   \n",
       "332                                 [GBTC, MSTR, AAPL]    1.0   \n",
       "336  [technology, LMAO, future, science, fusion, Ch...    1.0   \n",
       "370                                                 []    1.0   \n",
       "422       [Lmao, img, TSLA, emote|t5_2th52|4271, ], []    1.0   \n",
       "452                 [year, Inflation, Better, cash, %]    1.0   \n",
       "465  [anything, mart, amount, wal mart, extent, lol...    1.0   \n",
       "479                                 [God, week, Thank]    1.0   \n",
       "581  [instagram, fact, t, auto, Small, s, crush, Ws...    1.0   \n",
       "677                      [Balanced, US, China, Market]    1.0   \n",
       "700                                       [Donno, IMO]    1.0   \n",
       "785          [living, life, sunset, t, time, ’, Haven]    1.0   \n",
       "806                                               [dd]    1.0   \n",
       "815                                         [glass, %]    1.0   \n",
       "\n",
       "                                               content  content_length  \\\n",
       "38   Someone post the hotline please.. Hey our net ...              81   \n",
       "61   Retail giant TARGET has now declined for 10 co...             146   \n",
       "81   Retardation is on the menu boys! WSB is so bac...             103   \n",
       "203  [IPO] AIRO IPO: Aerospace & Defense Play at $1...              99   \n",
       "205      Someone post the hotline please.. Nicely done              45   \n",
       "209  Weekend Discussion Thread for the Weekend of A...              84   \n",
       "266  Weekend Discussion Thread for the Weekend of A...             116   \n",
       "332  $75k+ In Gains (300% YTD). Mostly in MSTR call...              73   \n",
       "336  Weekend Discussion Thread for the Weekend of A...             225   \n",
       "370  Retail giant TARGET has now declined for 10 co...             105   \n",
       "422  Weekend Discussion Thread for the Weekend of A...              84   \n",
       "452  Weekend Discussion Thread for the Weekend of A...             150   \n",
       "465  Retail giant TARGET has now declined for 10 co...             333   \n",
       "479  Weekend Discussion Thread for the Weekend of A...              88   \n",
       "581  Weekend Discussion Thread for the Weekend of A...             436   \n",
       "677  Weekend Discussion Thread for the Weekend of A...             127   \n",
       "700  Retail giant TARGET has now declined for 10 co...             158   \n",
       "785  Weekend Discussion Thread for the Weekend of A...             164   \n",
       "806        Weekly Earnings Thread 4/14 - 4/18. Good dd              43   \n",
       "815  Someone post the hotline please.. You see a gl...              97   \n",
       "\n",
       "     word_count  content_missing  \n",
       "38           15            False  \n",
       "61           24            False  \n",
       "81           22            False  \n",
       "203          19            False  \n",
       "205           7            False  \n",
       "209          14            False  \n",
       "266          22            False  \n",
       "332          14            False  \n",
       "336          40            False  \n",
       "370          17            False  \n",
       "422          15            False  \n",
       "452          25            False  \n",
       "465          60            False  \n",
       "479          16            False  \n",
       "581          81            False  \n",
       "677          20            False  \n",
       "700          25            False  \n",
       "785          32            False  \n",
       "806           8            False  \n",
       "815          19            False  "
      ]
     },
     "execution_count": 29,
     "metadata": {},
     "output_type": "execute_result"
    }
   ],
   "source": [
    "# All rows from r/WallStreetBets with positive label\n",
    "df[(df['subreddit'] == 'wallstreetbets') & (df['label'] == 1)]\n"
   ]
  },
  {
   "cell_type": "code",
   "execution_count": 30,
   "metadata": {},
   "outputs": [
    {
     "data": {
      "text/html": [
       "<div>\n",
       "<style scoped>\n",
       "    .dataframe tbody tr th:only-of-type {\n",
       "        vertical-align: middle;\n",
       "    }\n",
       "\n",
       "    .dataframe tbody tr th {\n",
       "        vertical-align: top;\n",
       "    }\n",
       "\n",
       "    .dataframe thead th {\n",
       "        text-align: right;\n",
       "    }\n",
       "</style>\n",
       "<table border=\"1\" class=\"dataframe\">\n",
       "  <thead>\n",
       "    <tr style=\"text-align: right;\">\n",
       "      <th></th>\n",
       "      <th>type</th>\n",
       "      <th>datetime</th>\n",
       "      <th>post_id</th>\n",
       "      <th>subreddit</th>\n",
       "      <th>title</th>\n",
       "      <th>author</th>\n",
       "      <th>url</th>\n",
       "      <th>upvotes</th>\n",
       "      <th>downvotes</th>\n",
       "      <th>upvote_ratio</th>\n",
       "      <th>text</th>\n",
       "      <th>subjectivity</th>\n",
       "      <th>polarity</th>\n",
       "      <th>sentiment</th>\n",
       "      <th>entities</th>\n",
       "      <th>label</th>\n",
       "      <th>content</th>\n",
       "      <th>content_length</th>\n",
       "      <th>word_count</th>\n",
       "      <th>content_missing</th>\n",
       "    </tr>\n",
       "  </thead>\n",
       "  <tbody>\n",
       "    <tr>\n",
       "      <th>5</th>\n",
       "      <td>comment</td>\n",
       "      <td>2025-04-12 02:19:03</td>\n",
       "      <td>mmo4k9g</td>\n",
       "      <td>wallstreetbets</td>\n",
       "      <td>Weekend Discussion Thread for the Weekend of A...</td>\n",
       "      <td>PolarNimbus</td>\n",
       "      <td>https://www.reddit.com/r/wallstreetbets/commen...</td>\n",
       "      <td>16</td>\n",
       "      <td>0.0</td>\n",
       "      <td>NaN</td>\n",
       "      <td>Hoping to ejaculate in wet warm puss tonight, ...</td>\n",
       "      <td>0.500000</td>\n",
       "      <td>0.250000</td>\n",
       "      <td>1.0</td>\n",
       "      <td>[tonight, puss]</td>\n",
       "      <td>0.0</td>\n",
       "      <td>Weekend Discussion Thread for the Weekend of A...</td>\n",
       "      <td>119</td>\n",
       "      <td>21</td>\n",
       "      <td>False</td>\n",
       "    </tr>\n",
       "    <tr>\n",
       "      <th>11</th>\n",
       "      <td>comment</td>\n",
       "      <td>2025-04-12 02:51:20</td>\n",
       "      <td>mmo9e6r</td>\n",
       "      <td>wallstreetbets</td>\n",
       "      <td>Weekend Discussion Thread for the Weekend of A...</td>\n",
       "      <td>RememberTooSmile</td>\n",
       "      <td>https://www.reddit.com/r/wallstreetbets/commen...</td>\n",
       "      <td>9</td>\n",
       "      <td>0.0</td>\n",
       "      <td>NaN</td>\n",
       "      <td>this sub has ruined emails for me, whenever I ...</td>\n",
       "      <td>0.300000</td>\n",
       "      <td>1.000000</td>\n",
       "      <td>1.0</td>\n",
       "      <td>[sub, WSB, Best]</td>\n",
       "      <td>0.0</td>\n",
       "      <td>Weekend Discussion Thread for the Weekend of A...</td>\n",
       "      <td>142</td>\n",
       "      <td>26</td>\n",
       "      <td>False</td>\n",
       "    </tr>\n",
       "    <tr>\n",
       "      <th>22</th>\n",
       "      <td>comment</td>\n",
       "      <td>2025-04-12 02:46:28</td>\n",
       "      <td>mmo8obq</td>\n",
       "      <td>wallstreetbets</td>\n",
       "      <td>Retail giant TARGET has now declined for 10 co...</td>\n",
       "      <td>tiredsultan</td>\n",
       "      <td>https://i.redd.it/7tl6puv9waue1.jpeg</td>\n",
       "      <td>5</td>\n",
       "      <td>0.0</td>\n",
       "      <td>NaN</td>\n",
       "      <td>Google \"target dei\".\\r\\n\\r\\nI did it for you.\\...</td>\n",
       "      <td>0.000000</td>\n",
       "      <td>0.000000</td>\n",
       "      <td>0.0</td>\n",
       "      <td>[dei, Google, target]</td>\n",
       "      <td>0.0</td>\n",
       "      <td>Retail giant TARGET has now declined for 10 co...</td>\n",
       "      <td>139</td>\n",
       "      <td>24</td>\n",
       "      <td>False</td>\n",
       "    </tr>\n",
       "    <tr>\n",
       "      <th>25</th>\n",
       "      <td>comment</td>\n",
       "      <td>2025-04-12 01:26:19</td>\n",
       "      <td>mmnwe5h</td>\n",
       "      <td>wallstreetbets</td>\n",
       "      <td>Retail giant TARGET has now declined for 10 co...</td>\n",
       "      <td>Rosebunse</td>\n",
       "      <td>https://i.redd.it/7tl6puv9waue1.jpeg</td>\n",
       "      <td>4</td>\n",
       "      <td>0.0</td>\n",
       "      <td>NaN</td>\n",
       "      <td>You see, Target, pissing off a good chunk of y...</td>\n",
       "      <td>0.758333</td>\n",
       "      <td>0.233333</td>\n",
       "      <td>1.0</td>\n",
       "      <td>[customer, base, chunk, Target, idea]</td>\n",
       "      <td>-1.0</td>\n",
       "      <td>Retail giant TARGET has now declined for 10 co...</td>\n",
       "      <td>190</td>\n",
       "      <td>33</td>\n",
       "      <td>False</td>\n",
       "    </tr>\n",
       "    <tr>\n",
       "      <th>28</th>\n",
       "      <td>comment</td>\n",
       "      <td>2025-04-11 17:21:44</td>\n",
       "      <td>mmlgh35</td>\n",
       "      <td>wallstreetbets</td>\n",
       "      <td>Retardation is on the menu boys! WSB is so back</td>\n",
       "      <td>PlannedObsolescence-</td>\n",
       "      <td>https://i.redd.it/0yq2ftren8ue1.jpeg</td>\n",
       "      <td>53</td>\n",
       "      <td>0.0</td>\n",
       "      <td>NaN</td>\n",
       "      <td>My first wife was tarded, she's a pilot now.</td>\n",
       "      <td>0.333333</td>\n",
       "      <td>0.250000</td>\n",
       "      <td>1.0</td>\n",
       "      <td>[pilot, wife]</td>\n",
       "      <td>0.0</td>\n",
       "      <td>Retardation is on the menu boys! WSB is so bac...</td>\n",
       "      <td>93</td>\n",
       "      <td>19</td>\n",
       "      <td>False</td>\n",
       "    </tr>\n",
       "    <tr>\n",
       "      <th>...</th>\n",
       "      <td>...</td>\n",
       "      <td>...</td>\n",
       "      <td>...</td>\n",
       "      <td>...</td>\n",
       "      <td>...</td>\n",
       "      <td>...</td>\n",
       "      <td>...</td>\n",
       "      <td>...</td>\n",
       "      <td>...</td>\n",
       "      <td>...</td>\n",
       "      <td>...</td>\n",
       "      <td>...</td>\n",
       "      <td>...</td>\n",
       "      <td>...</td>\n",
       "      <td>...</td>\n",
       "      <td>...</td>\n",
       "      <td>...</td>\n",
       "      <td>...</td>\n",
       "      <td>...</td>\n",
       "      <td>...</td>\n",
       "    </tr>\n",
       "    <tr>\n",
       "      <th>785</th>\n",
       "      <td>comment</td>\n",
       "      <td>2025-04-11 23:43:33</td>\n",
       "      <td>mmng355</td>\n",
       "      <td>wallstreetbets</td>\n",
       "      <td>Weekend Discussion Thread for the Weekend of A...</td>\n",
       "      <td>P1SSW1ZARD</td>\n",
       "      <td>https://www.reddit.com/r/wallstreetbets/commen...</td>\n",
       "      <td>12</td>\n",
       "      <td>0.0</td>\n",
       "      <td>NaN</td>\n",
       "      <td>Haven’t traded in like 3 days and my god life ...</td>\n",
       "      <td>0.100000</td>\n",
       "      <td>0.300000</td>\n",
       "      <td>1.0</td>\n",
       "      <td>[living, life, sunset, t, time, ’, Haven]</td>\n",
       "      <td>1.0</td>\n",
       "      <td>Weekend Discussion Thread for the Weekend of A...</td>\n",
       "      <td>164</td>\n",
       "      <td>32</td>\n",
       "      <td>False</td>\n",
       "    </tr>\n",
       "    <tr>\n",
       "      <th>798</th>\n",
       "      <td>comment</td>\n",
       "      <td>2025-04-12 02:09:13</td>\n",
       "      <td>mmo31vd</td>\n",
       "      <td>wallstreetbets</td>\n",
       "      <td>Someone post the hotline please.</td>\n",
       "      <td>WebHead1287</td>\n",
       "      <td>https://i.redd.it/tcfuu97p7bue1.jpeg</td>\n",
       "      <td>3</td>\n",
       "      <td>0.0</td>\n",
       "      <td>NaN</td>\n",
       "      <td>/</td>\n",
       "      <td>0.000000</td>\n",
       "      <td>0.000000</td>\n",
       "      <td>0.0</td>\n",
       "      <td>[/]</td>\n",
       "      <td>0.0</td>\n",
       "      <td>Someone post the hotline please.. /</td>\n",
       "      <td>35</td>\n",
       "      <td>6</td>\n",
       "      <td>False</td>\n",
       "    </tr>\n",
       "    <tr>\n",
       "      <th>806</th>\n",
       "      <td>comment</td>\n",
       "      <td>2025-04-11 16:34:48</td>\n",
       "      <td>mml6uwu</td>\n",
       "      <td>wallstreetbets</td>\n",
       "      <td>Weekly Earnings Thread 4/14 - 4/18</td>\n",
       "      <td>STONKvsTITS</td>\n",
       "      <td>https://i.redd.it/b51iqmecn7ue1.jpeg</td>\n",
       "      <td>2</td>\n",
       "      <td>0.0</td>\n",
       "      <td>NaN</td>\n",
       "      <td>Good dd</td>\n",
       "      <td>0.600000</td>\n",
       "      <td>0.700000</td>\n",
       "      <td>1.0</td>\n",
       "      <td>[dd]</td>\n",
       "      <td>1.0</td>\n",
       "      <td>Weekly Earnings Thread 4/14 - 4/18. Good dd</td>\n",
       "      <td>43</td>\n",
       "      <td>8</td>\n",
       "      <td>False</td>\n",
       "    </tr>\n",
       "    <tr>\n",
       "      <th>821</th>\n",
       "      <td>comment</td>\n",
       "      <td>2025-04-11 21:18:20</td>\n",
       "      <td>mmmr3ds</td>\n",
       "      <td>wallstreetbets</td>\n",
       "      <td>Weekend Discussion Thread for the Weekend of A...</td>\n",
       "      <td>strangehitman22</td>\n",
       "      <td>https://www.reddit.com/r/wallstreetbets/commen...</td>\n",
       "      <td>18</td>\n",
       "      <td>0.0</td>\n",
       "      <td>NaN</td>\n",
       "      <td>Lost 2k first week \"investing\" in options, dis...</td>\n",
       "      <td>0.316667</td>\n",
       "      <td>0.025000</td>\n",
       "      <td>1.0</td>\n",
       "      <td>[investing, chill, week]</td>\n",
       "      <td>-1.0</td>\n",
       "      <td>Weekend Discussion Thread for the Weekend of A...</td>\n",
       "      <td>148</td>\n",
       "      <td>25</td>\n",
       "      <td>False</td>\n",
       "    </tr>\n",
       "    <tr>\n",
       "      <th>845</th>\n",
       "      <td>comment</td>\n",
       "      <td>2025-04-11 20:13:26</td>\n",
       "      <td>mmmely7</td>\n",
       "      <td>wallstreetbets</td>\n",
       "      <td>Weekend Discussion Thread for the Weekend of A...</td>\n",
       "      <td>yes_ur_wrong</td>\n",
       "      <td>https://www.reddit.com/r/wallstreetbets/commen...</td>\n",
       "      <td>10</td>\n",
       "      <td>0.0</td>\n",
       "      <td>NaN</td>\n",
       "      <td>i sold my puts so i expect cheeto to declare w...</td>\n",
       "      <td>0.000000</td>\n",
       "      <td>0.000000</td>\n",
       "      <td>0.0</td>\n",
       "      <td>[war, denmark, cheeto, i]</td>\n",
       "      <td>-1.0</td>\n",
       "      <td>Weekend Discussion Thread for the Weekend of A...</td>\n",
       "      <td>120</td>\n",
       "      <td>23</td>\n",
       "      <td>False</td>\n",
       "    </tr>\n",
       "  </tbody>\n",
       "</table>\n",
       "<p>96 rows × 20 columns</p>\n",
       "</div>"
      ],
      "text/plain": [
       "        type            datetime  post_id       subreddit  \\\n",
       "5    comment 2025-04-12 02:19:03  mmo4k9g  wallstreetbets   \n",
       "11   comment 2025-04-12 02:51:20  mmo9e6r  wallstreetbets   \n",
       "22   comment 2025-04-12 02:46:28  mmo8obq  wallstreetbets   \n",
       "25   comment 2025-04-12 01:26:19  mmnwe5h  wallstreetbets   \n",
       "28   comment 2025-04-11 17:21:44  mmlgh35  wallstreetbets   \n",
       "..       ...                 ...      ...             ...   \n",
       "785  comment 2025-04-11 23:43:33  mmng355  wallstreetbets   \n",
       "798  comment 2025-04-12 02:09:13  mmo31vd  wallstreetbets   \n",
       "806  comment 2025-04-11 16:34:48  mml6uwu  wallstreetbets   \n",
       "821  comment 2025-04-11 21:18:20  mmmr3ds  wallstreetbets   \n",
       "845  comment 2025-04-11 20:13:26  mmmely7  wallstreetbets   \n",
       "\n",
       "                                                 title                author  \\\n",
       "5    Weekend Discussion Thread for the Weekend of A...           PolarNimbus   \n",
       "11   Weekend Discussion Thread for the Weekend of A...      RememberTooSmile   \n",
       "22   Retail giant TARGET has now declined for 10 co...           tiredsultan   \n",
       "25   Retail giant TARGET has now declined for 10 co...             Rosebunse   \n",
       "28     Retardation is on the menu boys! WSB is so back  PlannedObsolescence-   \n",
       "..                                                 ...                   ...   \n",
       "785  Weekend Discussion Thread for the Weekend of A...            P1SSW1ZARD   \n",
       "798                   Someone post the hotline please.           WebHead1287   \n",
       "806                 Weekly Earnings Thread 4/14 - 4/18           STONKvsTITS   \n",
       "821  Weekend Discussion Thread for the Weekend of A...       strangehitman22   \n",
       "845  Weekend Discussion Thread for the Weekend of A...          yes_ur_wrong   \n",
       "\n",
       "                                                   url  upvotes  downvotes  \\\n",
       "5    https://www.reddit.com/r/wallstreetbets/commen...       16        0.0   \n",
       "11   https://www.reddit.com/r/wallstreetbets/commen...        9        0.0   \n",
       "22                https://i.redd.it/7tl6puv9waue1.jpeg        5        0.0   \n",
       "25                https://i.redd.it/7tl6puv9waue1.jpeg        4        0.0   \n",
       "28                https://i.redd.it/0yq2ftren8ue1.jpeg       53        0.0   \n",
       "..                                                 ...      ...        ...   \n",
       "785  https://www.reddit.com/r/wallstreetbets/commen...       12        0.0   \n",
       "798               https://i.redd.it/tcfuu97p7bue1.jpeg        3        0.0   \n",
       "806               https://i.redd.it/b51iqmecn7ue1.jpeg        2        0.0   \n",
       "821  https://www.reddit.com/r/wallstreetbets/commen...       18        0.0   \n",
       "845  https://www.reddit.com/r/wallstreetbets/commen...       10        0.0   \n",
       "\n",
       "     upvote_ratio                                               text  \\\n",
       "5             NaN  Hoping to ejaculate in wet warm puss tonight, ...   \n",
       "11            NaN  this sub has ruined emails for me, whenever I ...   \n",
       "22            NaN  Google \"target dei\".\\r\\n\\r\\nI did it for you.\\...   \n",
       "25            NaN  You see, Target, pissing off a good chunk of y...   \n",
       "28            NaN       My first wife was tarded, she's a pilot now.   \n",
       "..            ...                                                ...   \n",
       "785           NaN  Haven’t traded in like 3 days and my god life ...   \n",
       "798           NaN                                                  /   \n",
       "806           NaN                                            Good dd   \n",
       "821           NaN  Lost 2k first week \"investing\" in options, dis...   \n",
       "845           NaN  i sold my puts so i expect cheeto to declare w...   \n",
       "\n",
       "     subjectivity  polarity  sentiment  \\\n",
       "5        0.500000  0.250000        1.0   \n",
       "11       0.300000  1.000000        1.0   \n",
       "22       0.000000  0.000000        0.0   \n",
       "25       0.758333  0.233333        1.0   \n",
       "28       0.333333  0.250000        1.0   \n",
       "..            ...       ...        ...   \n",
       "785      0.100000  0.300000        1.0   \n",
       "798      0.000000  0.000000        0.0   \n",
       "806      0.600000  0.700000        1.0   \n",
       "821      0.316667  0.025000        1.0   \n",
       "845      0.000000  0.000000        0.0   \n",
       "\n",
       "                                      entities  label  \\\n",
       "5                              [tonight, puss]    0.0   \n",
       "11                            [sub, WSB, Best]    0.0   \n",
       "22                       [dei, Google, target]    0.0   \n",
       "25       [customer, base, chunk, Target, idea]   -1.0   \n",
       "28                               [pilot, wife]    0.0   \n",
       "..                                         ...    ...   \n",
       "785  [living, life, sunset, t, time, ’, Haven]    1.0   \n",
       "798                                        [/]    0.0   \n",
       "806                                       [dd]    1.0   \n",
       "821                   [investing, chill, week]   -1.0   \n",
       "845                  [war, denmark, cheeto, i]   -1.0   \n",
       "\n",
       "                                               content  content_length  \\\n",
       "5    Weekend Discussion Thread for the Weekend of A...             119   \n",
       "11   Weekend Discussion Thread for the Weekend of A...             142   \n",
       "22   Retail giant TARGET has now declined for 10 co...             139   \n",
       "25   Retail giant TARGET has now declined for 10 co...             190   \n",
       "28   Retardation is on the menu boys! WSB is so bac...              93   \n",
       "..                                                 ...             ...   \n",
       "785  Weekend Discussion Thread for the Weekend of A...             164   \n",
       "798                Someone post the hotline please.. /              35   \n",
       "806        Weekly Earnings Thread 4/14 - 4/18. Good dd              43   \n",
       "821  Weekend Discussion Thread for the Weekend of A...             148   \n",
       "845  Weekend Discussion Thread for the Weekend of A...             120   \n",
       "\n",
       "     word_count  content_missing  \n",
       "5            21            False  \n",
       "11           26            False  \n",
       "22           24            False  \n",
       "25           33            False  \n",
       "28           19            False  \n",
       "..          ...              ...  \n",
       "785          32            False  \n",
       "798           6            False  \n",
       "806           8            False  \n",
       "821          25            False  \n",
       "845          23            False  \n",
       "\n",
       "[96 rows x 20 columns]"
      ]
     },
     "execution_count": 30,
     "metadata": {},
     "output_type": "execute_result"
    }
   ],
   "source": [
    "# Use backticks for column names with spaces; @ to reference python vars\n",
    "min_upvotes = 2\n",
    "df.query(\"subreddit == 'wallstreetbets' and upvotes >= @min_upvotes\")\n"
   ]
  },
  {
   "cell_type": "code",
   "execution_count": 31,
   "metadata": {},
   "outputs": [
    {
     "data": {
      "text/html": [
       "<div>\n",
       "<style scoped>\n",
       "    .dataframe tbody tr th:only-of-type {\n",
       "        vertical-align: middle;\n",
       "    }\n",
       "\n",
       "    .dataframe tbody tr th {\n",
       "        vertical-align: top;\n",
       "    }\n",
       "\n",
       "    .dataframe thead th {\n",
       "        text-align: right;\n",
       "    }\n",
       "</style>\n",
       "<table border=\"1\" class=\"dataframe\">\n",
       "  <thead>\n",
       "    <tr style=\"text-align: right;\">\n",
       "      <th></th>\n",
       "      <th>type</th>\n",
       "      <th>datetime</th>\n",
       "      <th>post_id</th>\n",
       "      <th>subreddit</th>\n",
       "      <th>title</th>\n",
       "      <th>author</th>\n",
       "      <th>url</th>\n",
       "      <th>upvotes</th>\n",
       "      <th>downvotes</th>\n",
       "      <th>upvote_ratio</th>\n",
       "      <th>text</th>\n",
       "      <th>subjectivity</th>\n",
       "      <th>polarity</th>\n",
       "      <th>sentiment</th>\n",
       "      <th>entities</th>\n",
       "      <th>label</th>\n",
       "      <th>content</th>\n",
       "      <th>content_length</th>\n",
       "      <th>word_count</th>\n",
       "      <th>content_missing</th>\n",
       "    </tr>\n",
       "  </thead>\n",
       "  <tbody>\n",
       "    <tr>\n",
       "      <th>2</th>\n",
       "      <td>comment</td>\n",
       "      <td>2025-04-10 15:09:41</td>\n",
       "      <td>mmeevio</td>\n",
       "      <td>StockMarket</td>\n",
       "      <td>How do you feel about a sitting president maki...</td>\n",
       "      <td>Btankersly66</td>\n",
       "      <td>https://apnews.com/article/trump-truth-social-...</td>\n",
       "      <td>1</td>\n",
       "      <td>0.0</td>\n",
       "      <td>NaN</td>\n",
       "      <td>Seeing lots of red in the ticker.</td>\n",
       "      <td>0.000000</td>\n",
       "      <td>0.000000</td>\n",
       "      <td>0.0</td>\n",
       "      <td>[ticker]</td>\n",
       "      <td>0.0</td>\n",
       "      <td>How do you feel about a sitting president maki...</td>\n",
       "      <td>169</td>\n",
       "      <td>32</td>\n",
       "      <td>False</td>\n",
       "    </tr>\n",
       "    <tr>\n",
       "      <th>27</th>\n",
       "      <td>comment</td>\n",
       "      <td>2022-10-12 01:31:17</td>\n",
       "      <td>iryumzk</td>\n",
       "      <td>stockstobuytoday</td>\n",
       "      <td>Give me the ticker, I give you the stock analy...</td>\n",
       "      <td>Silly_Accountant_687</td>\n",
       "      <td>https://www.reddit.com/r/stockstobuytoday/comm...</td>\n",
       "      <td>1</td>\n",
       "      <td>0.0</td>\n",
       "      <td>NaN</td>\n",
       "      <td>Any thoughts on RVPH?</td>\n",
       "      <td>0.000000</td>\n",
       "      <td>0.000000</td>\n",
       "      <td>0.0</td>\n",
       "      <td>[RVPH]</td>\n",
       "      <td>0.0</td>\n",
       "      <td>Give me the ticker, I give you the stock analy...</td>\n",
       "      <td>73</td>\n",
       "      <td>14</td>\n",
       "      <td>False</td>\n",
       "    </tr>\n",
       "    <tr>\n",
       "      <th>330</th>\n",
       "      <td>post</td>\n",
       "      <td>2024-02-29 17:54:02</td>\n",
       "      <td>1b36kz5</td>\n",
       "      <td>stockstobuytoday</td>\n",
       "      <td>$CRML hit the NASDAQ, anyone been following them?</td>\n",
       "      <td>mislippencludderz39</td>\n",
       "      <td>https://www.reddit.com/r/stockstobuytoday/comm...</td>\n",
       "      <td>91</td>\n",
       "      <td>0.0</td>\n",
       "      <td>1.00</td>\n",
       "      <td>Hey guys! Currently on vacation which has been...</td>\n",
       "      <td>0.502083</td>\n",
       "      <td>0.238542</td>\n",
       "      <td>1.0</td>\n",
       "      <td>[DD, payment…, post, supplier, fast, sense, Co...</td>\n",
       "      <td>0.0</td>\n",
       "      <td>$CRML hit the NASDAQ, anyone been following th...</td>\n",
       "      <td>891</td>\n",
       "      <td>167</td>\n",
       "      <td>False</td>\n",
       "    </tr>\n",
       "    <tr>\n",
       "      <th>384</th>\n",
       "      <td>comment</td>\n",
       "      <td>2022-10-05 17:09:33</td>\n",
       "      <td>ir689yt</td>\n",
       "      <td>stockstobuytoday</td>\n",
       "      <td>Give me the ticker, I give you the stock analy...</td>\n",
       "      <td>colinlaughery</td>\n",
       "      <td>https://www.reddit.com/r/stockstobuytoday/comm...</td>\n",
       "      <td>1</td>\n",
       "      <td>0.0</td>\n",
       "      <td>NaN</td>\n",
       "      <td>AVCT if you get a chance!</td>\n",
       "      <td>0.000000</td>\n",
       "      <td>0.000000</td>\n",
       "      <td>0.0</td>\n",
       "      <td>[AVCT, chance]</td>\n",
       "      <td>0.0</td>\n",
       "      <td>Give me the ticker, I give you the stock analy...</td>\n",
       "      <td>77</td>\n",
       "      <td>16</td>\n",
       "      <td>False</td>\n",
       "    </tr>\n",
       "    <tr>\n",
       "      <th>451</th>\n",
       "      <td>comment</td>\n",
       "      <td>2022-10-05 20:22:12</td>\n",
       "      <td>ir72n5k</td>\n",
       "      <td>stockstobuytoday</td>\n",
       "      <td>Give me the ticker, I give you the stock analy...</td>\n",
       "      <td>DRIP-T2O-HARD</td>\n",
       "      <td>https://www.reddit.com/r/stockstobuytoday/comm...</td>\n",
       "      <td>1</td>\n",
       "      <td>0.0</td>\n",
       "      <td>NaN</td>\n",
       "      <td>ok, thanks</td>\n",
       "      <td>0.350000</td>\n",
       "      <td>0.350000</td>\n",
       "      <td>1.0</td>\n",
       "      <td>[ok]</td>\n",
       "      <td>0.0</td>\n",
       "      <td>Give me the ticker, I give you the stock analy...</td>\n",
       "      <td>62</td>\n",
       "      <td>12</td>\n",
       "      <td>False</td>\n",
       "    </tr>\n",
       "    <tr>\n",
       "      <th>573</th>\n",
       "      <td>comment</td>\n",
       "      <td>2021-11-14 14:08:50</td>\n",
       "      <td>hkl7rir</td>\n",
       "      <td>stockstobuytoday</td>\n",
       "      <td>YOLO stocks thread. Reply with your ticker</td>\n",
       "      <td>BrodyFlint</td>\n",
       "      <td>https://www.reddit.com/r/stockstobuytoday/comm...</td>\n",
       "      <td>1</td>\n",
       "      <td>0.0</td>\n",
       "      <td>NaN</td>\n",
       "      <td>I'm doing well with miner stocks. \\r\\n(AUY) Ya...</td>\n",
       "      <td>0.000000</td>\n",
       "      <td>0.000000</td>\n",
       "      <td>0.0</td>\n",
       "      <td>[Group, AUY, Platinum, day, miner, Gold, Yaman...</td>\n",
       "      <td>1.0</td>\n",
       "      <td>YOLO stocks thread. Reply with your ticker. I'...</td>\n",
       "      <td>149</td>\n",
       "      <td>27</td>\n",
       "      <td>False</td>\n",
       "    </tr>\n",
       "    <tr>\n",
       "      <th>688</th>\n",
       "      <td>post</td>\n",
       "      <td>2021-06-30 23:42:50</td>\n",
       "      <td>ob9if2</td>\n",
       "      <td>stockstobuytoday</td>\n",
       "      <td>Technical Analysis Thread.</td>\n",
       "      <td>saasfin</td>\n",
       "      <td>https://www.reddit.com/r/stockstobuytoday/comm...</td>\n",
       "      <td>49</td>\n",
       "      <td>1.0</td>\n",
       "      <td>0.98</td>\n",
       "      <td>Enter the ticker for which  you want the techn...</td>\n",
       "      <td>0.100000</td>\n",
       "      <td>0.000000</td>\n",
       "      <td>0.0</td>\n",
       "      <td>[link, thread, chart, Enter, ticker, analysis,...</td>\n",
       "      <td>0.0</td>\n",
       "      <td>Technical Analysis Thread.. Enter the ticker f...</td>\n",
       "      <td>168</td>\n",
       "      <td>31</td>\n",
       "      <td>False</td>\n",
       "    </tr>\n",
       "    <tr>\n",
       "      <th>715</th>\n",
       "      <td>comment</td>\n",
       "      <td>2025-03-11 21:38:43</td>\n",
       "      <td>mha0zp1</td>\n",
       "      <td>stocks</td>\n",
       "      <td>Rate My Portfolio - r/Stocks Quarterly Thread ...</td>\n",
       "      <td>thenuttyhazlenut</td>\n",
       "      <td>https://www.reddit.com/r/stocks/comments/1j0w7...</td>\n",
       "      <td>6</td>\n",
       "      <td>0.0</td>\n",
       "      <td>NaN</td>\n",
       "      <td>|Ticker|Company|Allocation|\\r\\n|:-|:-|:-|\\r\\n|...</td>\n",
       "      <td>0.492500</td>\n",
       "      <td>0.267500</td>\n",
       "      <td>1.0</td>\n",
       "      <td>[Facilities, META, LON, Brasileiro|10.50, |QFI...</td>\n",
       "      <td>0.0</td>\n",
       "      <td>Rate My Portfolio - r/Stocks Quarterly Thread ...</td>\n",
       "      <td>732</td>\n",
       "      <td>95</td>\n",
       "      <td>False</td>\n",
       "    </tr>\n",
       "  </tbody>\n",
       "</table>\n",
       "</div>"
      ],
      "text/plain": [
       "        type            datetime  post_id         subreddit  \\\n",
       "2    comment 2025-04-10 15:09:41  mmeevio       StockMarket   \n",
       "27   comment 2022-10-12 01:31:17  iryumzk  stockstobuytoday   \n",
       "330     post 2024-02-29 17:54:02  1b36kz5  stockstobuytoday   \n",
       "384  comment 2022-10-05 17:09:33  ir689yt  stockstobuytoday   \n",
       "451  comment 2022-10-05 20:22:12  ir72n5k  stockstobuytoday   \n",
       "573  comment 2021-11-14 14:08:50  hkl7rir  stockstobuytoday   \n",
       "688     post 2021-06-30 23:42:50   ob9if2  stockstobuytoday   \n",
       "715  comment 2025-03-11 21:38:43  mha0zp1            stocks   \n",
       "\n",
       "                                                 title                author  \\\n",
       "2    How do you feel about a sitting president maki...          Btankersly66   \n",
       "27   Give me the ticker, I give you the stock analy...  Silly_Accountant_687   \n",
       "330  $CRML hit the NASDAQ, anyone been following them?   mislippencludderz39   \n",
       "384  Give me the ticker, I give you the stock analy...         colinlaughery   \n",
       "451  Give me the ticker, I give you the stock analy...         DRIP-T2O-HARD   \n",
       "573         YOLO stocks thread. Reply with your ticker            BrodyFlint   \n",
       "688                         Technical Analysis Thread.               saasfin   \n",
       "715  Rate My Portfolio - r/Stocks Quarterly Thread ...      thenuttyhazlenut   \n",
       "\n",
       "                                                   url  upvotes  downvotes  \\\n",
       "2    https://apnews.com/article/trump-truth-social-...        1        0.0   \n",
       "27   https://www.reddit.com/r/stockstobuytoday/comm...        1        0.0   \n",
       "330  https://www.reddit.com/r/stockstobuytoday/comm...       91        0.0   \n",
       "384  https://www.reddit.com/r/stockstobuytoday/comm...        1        0.0   \n",
       "451  https://www.reddit.com/r/stockstobuytoday/comm...        1        0.0   \n",
       "573  https://www.reddit.com/r/stockstobuytoday/comm...        1        0.0   \n",
       "688  https://www.reddit.com/r/stockstobuytoday/comm...       49        1.0   \n",
       "715  https://www.reddit.com/r/stocks/comments/1j0w7...        6        0.0   \n",
       "\n",
       "     upvote_ratio                                               text  \\\n",
       "2             NaN                  Seeing lots of red in the ticker.   \n",
       "27            NaN                              Any thoughts on RVPH?   \n",
       "330          1.00  Hey guys! Currently on vacation which has been...   \n",
       "384           NaN                          AVCT if you get a chance!   \n",
       "451           NaN                                         ok, thanks   \n",
       "573           NaN  I'm doing well with miner stocks. \\r\\n(AUY) Ya...   \n",
       "688          0.98  Enter the ticker for which  you want the techn...   \n",
       "715           NaN  |Ticker|Company|Allocation|\\r\\n|:-|:-|:-|\\r\\n|...   \n",
       "\n",
       "     subjectivity  polarity  sentiment  \\\n",
       "2        0.000000  0.000000        0.0   \n",
       "27       0.000000  0.000000        0.0   \n",
       "330      0.502083  0.238542        1.0   \n",
       "384      0.000000  0.000000        0.0   \n",
       "451      0.350000  0.350000        1.0   \n",
       "573      0.000000  0.000000        0.0   \n",
       "688      0.100000  0.000000        0.0   \n",
       "715      0.492500  0.267500        1.0   \n",
       "\n",
       "                                              entities  label  \\\n",
       "2                                             [ticker]    0.0   \n",
       "27                                              [RVPH]    0.0   \n",
       "330  [DD, payment…, post, supplier, fast, sense, Co...    0.0   \n",
       "384                                     [AVCT, chance]    0.0   \n",
       "451                                               [ok]    0.0   \n",
       "573  [Group, AUY, Platinum, day, miner, Gold, Yaman...    1.0   \n",
       "688  [link, thread, chart, Enter, ticker, analysis,...    0.0   \n",
       "715  [Facilities, META, LON, Brasileiro|10.50, |QFI...    0.0   \n",
       "\n",
       "                                               content  content_length  \\\n",
       "2    How do you feel about a sitting president maki...             169   \n",
       "27   Give me the ticker, I give you the stock analy...              73   \n",
       "330  $CRML hit the NASDAQ, anyone been following th...             891   \n",
       "384  Give me the ticker, I give you the stock analy...              77   \n",
       "451  Give me the ticker, I give you the stock analy...              62   \n",
       "573  YOLO stocks thread. Reply with your ticker. I'...             149   \n",
       "688  Technical Analysis Thread.. Enter the ticker f...             168   \n",
       "715  Rate My Portfolio - r/Stocks Quarterly Thread ...             732   \n",
       "\n",
       "     word_count  content_missing  \n",
       "2            32            False  \n",
       "27           14            False  \n",
       "330         167            False  \n",
       "384          16            False  \n",
       "451          12            False  \n",
       "573          27            False  \n",
       "688          31            False  \n",
       "715          95            False  "
      ]
     },
     "execution_count": 31,
     "metadata": {},
     "output_type": "execute_result"
    }
   ],
   "source": [
    "# Rows whose content mentions 'ticker' (case-insensitive)\n",
    "df[df['content'].str.contains(r'\\bticker\\b', case=False, na=False)]\n",
    "\n"
   ]
  },
  {
   "cell_type": "markdown",
   "metadata": {},
   "source": [
    "### **Exercise 3**"
   ]
  },
  {
   "cell_type": "markdown",
   "metadata": {},
   "source": [
    "### **Data processing**"
   ]
  },
  {
   "cell_type": "code",
   "execution_count": 32,
   "metadata": {},
   "outputs": [
    {
     "name": "stdout",
     "output_type": "stream",
     "text": [
      "                 Missing Count  % Missing\n",
      "upvote_ratio               783      92.44\n",
      "type                         0       0.00\n",
      "post_id                      0       0.00\n",
      "datetime                     0       0.00\n",
      "subreddit                    0       0.00\n",
      "title                        0       0.00\n",
      "url                          0       0.00\n",
      "author                       0       0.00\n",
      "upvotes                      0       0.00\n",
      "downvotes                    0       0.00\n",
      "text                         0       0.00\n",
      "subjectivity                 0       0.00\n",
      "polarity                     0       0.00\n",
      "sentiment                    0       0.00\n",
      "entities                     0       0.00\n",
      "label                        0       0.00\n",
      "content                      0       0.00\n",
      "content_length               0       0.00\n",
      "word_count                   0       0.00\n",
      "content_missing              0       0.00\n"
     ]
    }
   ],
   "source": [
    "# Count missing values per column\n",
    "missing_counts = df.isna().sum().sort_values(ascending=False)\n",
    "missing_percent = (df.isna().mean() * 100).round(2)\n",
    "\n",
    "print(pd.concat([missing_counts, missing_percent], axis=1, keys=[\"Missing Count\", \"% Missing\"]))\n"
   ]
  },
  {
   "cell_type": "code",
   "execution_count": 33,
   "metadata": {},
   "outputs": [
    {
     "name": "stdout",
     "output_type": "stream",
     "text": [
      "Columns after handling missing values: ['type', 'subreddit', 'title', 'upvotes', 'downvotes', 'text', 'subjectivity', 'polarity', 'sentiment', 'label', 'content']\n",
      "Total rows ready for analysis: 847\n"
     ]
    }
   ],
   "source": [
    "# Step 1: Create df_clean by copying df (all rows are complete for critical fields)\n",
    "df_clean = df.copy()\n",
    "\n",
    "# Step 2: Drop 'upvote_ratio' since it has too many missing values\n",
    "df_clean = df_clean.drop(columns=['upvote_ratio','author','url','datetime','post_id', 'entities','content_length','word_count','content_missing'])\n",
    "\n",
    "\n",
    "# Step 3: Confirm\n",
    "print(\"Columns after handling missing values:\", df_clean.columns.tolist())\n",
    "print(\"Total rows ready for analysis:\", len(df_clean))\n",
    "\n"
   ]
  },
  {
   "cell_type": "code",
   "execution_count": 34,
   "metadata": {},
   "outputs": [
    {
     "data": {
      "text/html": [
       "<div>\n",
       "<style scoped>\n",
       "    .dataframe tbody tr th:only-of-type {\n",
       "        vertical-align: middle;\n",
       "    }\n",
       "\n",
       "    .dataframe tbody tr th {\n",
       "        vertical-align: top;\n",
       "    }\n",
       "\n",
       "    .dataframe thead th {\n",
       "        text-align: right;\n",
       "    }\n",
       "</style>\n",
       "<table border=\"1\" class=\"dataframe\">\n",
       "  <thead>\n",
       "    <tr style=\"text-align: right;\">\n",
       "      <th></th>\n",
       "      <th>type</th>\n",
       "      <th>subreddit</th>\n",
       "      <th>title</th>\n",
       "      <th>upvotes</th>\n",
       "      <th>downvotes</th>\n",
       "      <th>text</th>\n",
       "      <th>subjectivity</th>\n",
       "      <th>polarity</th>\n",
       "      <th>sentiment</th>\n",
       "      <th>label</th>\n",
       "      <th>content</th>\n",
       "    </tr>\n",
       "  </thead>\n",
       "  <tbody>\n",
       "    <tr>\n",
       "      <th>0</th>\n",
       "      <td>comment</td>\n",
       "      <td>wallstreetbets</td>\n",
       "      <td>Retardation is on the menu boys! WSB is so back</td>\n",
       "      <td>0</td>\n",
       "      <td>0.0</td>\n",
       "      <td>Calls on retards</td>\n",
       "      <td>1.000000</td>\n",
       "      <td>-0.900000</td>\n",
       "      <td>-1.0</td>\n",
       "      <td>-1.0</td>\n",
       "      <td>Retardation is on the menu boys! WSB is so bac...</td>\n",
       "    </tr>\n",
       "    <tr>\n",
       "      <th>1</th>\n",
       "      <td>comment</td>\n",
       "      <td>wallstreetbets</td>\n",
       "      <td>Retail giant TARGET has now declined for 10 co...</td>\n",
       "      <td>-15</td>\n",
       "      <td>0.0</td>\n",
       "      <td>Stunt as in like why did they even make a big ...</td>\n",
       "      <td>0.177778</td>\n",
       "      <td>0.083333</td>\n",
       "      <td>1.0</td>\n",
       "      <td>0.0</td>\n",
       "      <td>Retail giant TARGET has now declined for 10 co...</td>\n",
       "    </tr>\n",
       "    <tr>\n",
       "      <th>2</th>\n",
       "      <td>comment</td>\n",
       "      <td>StockMarket</td>\n",
       "      <td>How do you feel about a sitting president maki...</td>\n",
       "      <td>1</td>\n",
       "      <td>0.0</td>\n",
       "      <td>Seeing lots of red in the ticker.</td>\n",
       "      <td>0.000000</td>\n",
       "      <td>0.000000</td>\n",
       "      <td>0.0</td>\n",
       "      <td>0.0</td>\n",
       "      <td>How do you feel about a sitting president maki...</td>\n",
       "    </tr>\n",
       "    <tr>\n",
       "      <th>3</th>\n",
       "      <td>post</td>\n",
       "      <td>stockstobuytoday</td>\n",
       "      <td>Who knows more? $VMAR</td>\n",
       "      <td>30</td>\n",
       "      <td>0.0</td>\n",
       "      <td>Vision Marine Technologies Inc. is rewriting t...</td>\n",
       "      <td>0.646970</td>\n",
       "      <td>0.216383</td>\n",
       "      <td>1.0</td>\n",
       "      <td>1.0</td>\n",
       "      <td>Who knows more? $VMAR. Vision Marine Technolog...</td>\n",
       "    </tr>\n",
       "    <tr>\n",
       "      <th>4</th>\n",
       "      <td>comment</td>\n",
       "      <td>StockMarket</td>\n",
       "      <td>The Trump administration is begging Xi Jinping...</td>\n",
       "      <td>1</td>\n",
       "      <td>0.0</td>\n",
       "      <td>He didn’t say thank you.</td>\n",
       "      <td>0.000000</td>\n",
       "      <td>0.000000</td>\n",
       "      <td>0.0</td>\n",
       "      <td>-1.0</td>\n",
       "      <td>The Trump administration is begging Xi Jinping...</td>\n",
       "    </tr>\n",
       "    <tr>\n",
       "      <th>...</th>\n",
       "      <td>...</td>\n",
       "      <td>...</td>\n",
       "      <td>...</td>\n",
       "      <td>...</td>\n",
       "      <td>...</td>\n",
       "      <td>...</td>\n",
       "      <td>...</td>\n",
       "      <td>...</td>\n",
       "      <td>...</td>\n",
       "      <td>...</td>\n",
       "      <td>...</td>\n",
       "    </tr>\n",
       "    <tr>\n",
       "      <th>842</th>\n",
       "      <td>comment</td>\n",
       "      <td>stockstobuytoday</td>\n",
       "      <td>$MRIN Marin Software killed it today. Hope som...</td>\n",
       "      <td>1</td>\n",
       "      <td>0.0</td>\n",
       "      <td>Invest now it is going to shoot up tomorrow</td>\n",
       "      <td>0.000000</td>\n",
       "      <td>0.000000</td>\n",
       "      <td>0.0</td>\n",
       "      <td>1.0</td>\n",
       "      <td>$MRIN Marin Software killed it today. Hope som...</td>\n",
       "    </tr>\n",
       "    <tr>\n",
       "      <th>843</th>\n",
       "      <td>comment</td>\n",
       "      <td>StockMarket</td>\n",
       "      <td>$ U.S. dollar value (crashing)</td>\n",
       "      <td>2</td>\n",
       "      <td>0.0</td>\n",
       "      <td>Where can I read this?</td>\n",
       "      <td>0.000000</td>\n",
       "      <td>0.000000</td>\n",
       "      <td>0.0</td>\n",
       "      <td>0.0</td>\n",
       "      <td>$ U.S. dollar value (crashing). Where can I re...</td>\n",
       "    </tr>\n",
       "    <tr>\n",
       "      <th>844</th>\n",
       "      <td>post</td>\n",
       "      <td>stockstobuytoday</td>\n",
       "      <td>Analyst Recommendations</td>\n",
       "      <td>1</td>\n",
       "      <td>0.0</td>\n",
       "      <td>Upgrades, Downgrades\\r\\n\\r\\n [Stock Analyst Re...</td>\n",
       "      <td>0.000000</td>\n",
       "      <td>0.000000</td>\n",
       "      <td>0.0</td>\n",
       "      <td>0.0</td>\n",
       "      <td>Analyst Recommendations. Upgrades, Downgrades ...</td>\n",
       "    </tr>\n",
       "    <tr>\n",
       "      <th>845</th>\n",
       "      <td>comment</td>\n",
       "      <td>wallstreetbets</td>\n",
       "      <td>Weekend Discussion Thread for the Weekend of A...</td>\n",
       "      <td>10</td>\n",
       "      <td>0.0</td>\n",
       "      <td>i sold my puts so i expect cheeto to declare w...</td>\n",
       "      <td>0.000000</td>\n",
       "      <td>0.000000</td>\n",
       "      <td>0.0</td>\n",
       "      <td>-1.0</td>\n",
       "      <td>Weekend Discussion Thread for the Weekend of A...</td>\n",
       "    </tr>\n",
       "    <tr>\n",
       "      <th>846</th>\n",
       "      <td>comment</td>\n",
       "      <td>wallstreetbets</td>\n",
       "      <td>Someone post the hotline please.</td>\n",
       "      <td>1</td>\n",
       "      <td>0.0</td>\n",
       "      <td>![img](emote|t5_2th52|31224)</td>\n",
       "      <td>0.000000</td>\n",
       "      <td>0.000000</td>\n",
       "      <td>0.0</td>\n",
       "      <td>0.0</td>\n",
       "      <td>Someone post the hotline please.. !img</td>\n",
       "    </tr>\n",
       "  </tbody>\n",
       "</table>\n",
       "<p>847 rows × 11 columns</p>\n",
       "</div>"
      ],
      "text/plain": [
       "        type         subreddit  \\\n",
       "0    comment    wallstreetbets   \n",
       "1    comment    wallstreetbets   \n",
       "2    comment       StockMarket   \n",
       "3       post  stockstobuytoday   \n",
       "4    comment       StockMarket   \n",
       "..       ...               ...   \n",
       "842  comment  stockstobuytoday   \n",
       "843  comment       StockMarket   \n",
       "844     post  stockstobuytoday   \n",
       "845  comment    wallstreetbets   \n",
       "846  comment    wallstreetbets   \n",
       "\n",
       "                                                 title  upvotes  downvotes  \\\n",
       "0      Retardation is on the menu boys! WSB is so back        0        0.0   \n",
       "1    Retail giant TARGET has now declined for 10 co...      -15        0.0   \n",
       "2    How do you feel about a sitting president maki...        1        0.0   \n",
       "3                                Who knows more? $VMAR       30        0.0   \n",
       "4    The Trump administration is begging Xi Jinping...        1        0.0   \n",
       "..                                                 ...      ...        ...   \n",
       "842  $MRIN Marin Software killed it today. Hope som...        1        0.0   \n",
       "843                     $ U.S. dollar value (crashing)        2        0.0   \n",
       "844                            Analyst Recommendations        1        0.0   \n",
       "845  Weekend Discussion Thread for the Weekend of A...       10        0.0   \n",
       "846                   Someone post the hotline please.        1        0.0   \n",
       "\n",
       "                                                  text  subjectivity  \\\n",
       "0                                     Calls on retards      1.000000   \n",
       "1    Stunt as in like why did they even make a big ...      0.177778   \n",
       "2                    Seeing lots of red in the ticker.      0.000000   \n",
       "3    Vision Marine Technologies Inc. is rewriting t...      0.646970   \n",
       "4                             He didn’t say thank you.      0.000000   \n",
       "..                                                 ...           ...   \n",
       "842        Invest now it is going to shoot up tomorrow      0.000000   \n",
       "843                             Where can I read this?      0.000000   \n",
       "844  Upgrades, Downgrades\\r\\n\\r\\n [Stock Analyst Re...      0.000000   \n",
       "845  i sold my puts so i expect cheeto to declare w...      0.000000   \n",
       "846                       ![img](emote|t5_2th52|31224)      0.000000   \n",
       "\n",
       "     polarity  sentiment  label  \\\n",
       "0   -0.900000       -1.0   -1.0   \n",
       "1    0.083333        1.0    0.0   \n",
       "2    0.000000        0.0    0.0   \n",
       "3    0.216383        1.0    1.0   \n",
       "4    0.000000        0.0   -1.0   \n",
       "..        ...        ...    ...   \n",
       "842  0.000000        0.0    1.0   \n",
       "843  0.000000        0.0    0.0   \n",
       "844  0.000000        0.0    0.0   \n",
       "845  0.000000        0.0   -1.0   \n",
       "846  0.000000        0.0    0.0   \n",
       "\n",
       "                                               content  \n",
       "0    Retardation is on the menu boys! WSB is so bac...  \n",
       "1    Retail giant TARGET has now declined for 10 co...  \n",
       "2    How do you feel about a sitting president maki...  \n",
       "3    Who knows more? $VMAR. Vision Marine Technolog...  \n",
       "4    The Trump administration is begging Xi Jinping...  \n",
       "..                                                 ...  \n",
       "842  $MRIN Marin Software killed it today. Hope som...  \n",
       "843  $ U.S. dollar value (crashing). Where can I re...  \n",
       "844  Analyst Recommendations. Upgrades, Downgrades ...  \n",
       "845  Weekend Discussion Thread for the Weekend of A...  \n",
       "846             Someone post the hotline please.. !img  \n",
       "\n",
       "[847 rows x 11 columns]"
      ]
     },
     "execution_count": 34,
     "metadata": {},
     "output_type": "execute_result"
    }
   ],
   "source": [
    "df_clean"
   ]
  },
  {
   "cell_type": "markdown",
   "metadata": {},
   "source": [
    "### **Exercise 4**\n"
   ]
  },
  {
   "cell_type": "code",
   "execution_count": 35,
   "metadata": {},
   "outputs": [
    {
     "data": {
      "text/html": [
       "<div>\n",
       "<style scoped>\n",
       "    .dataframe tbody tr th:only-of-type {\n",
       "        vertical-align: middle;\n",
       "    }\n",
       "\n",
       "    .dataframe tbody tr th {\n",
       "        vertical-align: top;\n",
       "    }\n",
       "\n",
       "    .dataframe thead th {\n",
       "        text-align: right;\n",
       "    }\n",
       "</style>\n",
       "<table border=\"1\" class=\"dataframe\">\n",
       "  <thead>\n",
       "    <tr style=\"text-align: right;\">\n",
       "      <th></th>\n",
       "      <th>post_id</th>\n",
       "      <th>missing_count</th>\n",
       "      <th>missing_percent</th>\n",
       "    </tr>\n",
       "  </thead>\n",
       "  <tbody>\n",
       "    <tr>\n",
       "      <th>846</th>\n",
       "      <td>mmobyz1</td>\n",
       "      <td>1</td>\n",
       "      <td>4.76</td>\n",
       "    </tr>\n",
       "    <tr>\n",
       "      <th>0</th>\n",
       "      <td>mmli62w</td>\n",
       "      <td>1</td>\n",
       "      <td>4.76</td>\n",
       "    </tr>\n",
       "    <tr>\n",
       "      <th>1</th>\n",
       "      <td>mmnu7v9</td>\n",
       "      <td>1</td>\n",
       "      <td>4.76</td>\n",
       "    </tr>\n",
       "    <tr>\n",
       "      <th>2</th>\n",
       "      <td>mmeevio</td>\n",
       "      <td>1</td>\n",
       "      <td>4.76</td>\n",
       "    </tr>\n",
       "    <tr>\n",
       "      <th>845</th>\n",
       "      <td>mmmely7</td>\n",
       "      <td>1</td>\n",
       "      <td>4.76</td>\n",
       "    </tr>\n",
       "    <tr>\n",
       "      <th>4</th>\n",
       "      <td>mmkl6bw</td>\n",
       "      <td>1</td>\n",
       "      <td>4.76</td>\n",
       "    </tr>\n",
       "    <tr>\n",
       "      <th>5</th>\n",
       "      <td>mmo4k9g</td>\n",
       "      <td>1</td>\n",
       "      <td>4.76</td>\n",
       "    </tr>\n",
       "    <tr>\n",
       "      <th>6</th>\n",
       "      <td>mmjx7vz</td>\n",
       "      <td>1</td>\n",
       "      <td>4.76</td>\n",
       "    </tr>\n",
       "    <tr>\n",
       "      <th>7</th>\n",
       "      <td>mmlhxwc</td>\n",
       "      <td>1</td>\n",
       "      <td>4.76</td>\n",
       "    </tr>\n",
       "    <tr>\n",
       "      <th>8</th>\n",
       "      <td>gllyi5z</td>\n",
       "      <td>1</td>\n",
       "      <td>4.76</td>\n",
       "    </tr>\n",
       "  </tbody>\n",
       "</table>\n",
       "</div>"
      ],
      "text/plain": [
       "     post_id  missing_count  missing_percent\n",
       "846  mmobyz1              1             4.76\n",
       "0    mmli62w              1             4.76\n",
       "1    mmnu7v9              1             4.76\n",
       "2    mmeevio              1             4.76\n",
       "845  mmmely7              1             4.76\n",
       "4    mmkl6bw              1             4.76\n",
       "5    mmo4k9g              1             4.76\n",
       "6    mmjx7vz              1             4.76\n",
       "7    mmlhxwc              1             4.76\n",
       "8    gllyi5z              1             4.76"
      ]
     },
     "execution_count": 35,
     "metadata": {},
     "output_type": "execute_result"
    }
   ],
   "source": [
    "# Count number of missing values in each row\n",
    "df['missing_count'] = df.isna().sum(axis=1)\n",
    "\n",
    "# Optional: also calculate percentage of missing values per row\n",
    "df['missing_percent'] = (df['missing_count'] / df.shape[1] * 100).round(2)\n",
    "\n",
    "# Preview rows with most missing values\n",
    "df.sort_values('missing_count', ascending=False)[['post_id', 'missing_count', 'missing_percent']].head(10)\n"
   ]
  },
  {
   "cell_type": "markdown",
   "metadata": {},
   "source": [
    "### **Exercise 5**\n"
   ]
  },
  {
   "cell_type": "code",
   "execution_count": 36,
   "metadata": {},
   "outputs": [
    {
     "name": "stdout",
     "output_type": "stream",
     "text": [
      "0              NaN\n",
      "1              NaN\n",
      "2              NaN\n",
      "3              NaN\n",
      "4              NaN\n",
      "                ..\n",
      "type           NaN\n",
      "upvote_ratio   NaN\n",
      "upvotes        NaN\n",
      "url            NaN\n",
      "word_count     NaN\n",
      "Length: 869, dtype: float64\n"
     ]
    }
   ],
   "source": [
    "# 1. Standard NaNs\n",
    "missing_na = df.isnull().sum()\n",
    "\n",
    "# 2. Empty strings\n",
    "missing_empty = (df == '').sum()\n",
    "\n",
    "# 3. Strings with only whitespace\n",
    "missing_space = df.apply(lambda x: x.str.strip().eq('') if x.dtype == 'object' else 0).sum()\n",
    "\n",
    "# 4. Special placeholders\n",
    "placeholders = ['NA', 'N/A', 'null', 'None']\n",
    "missing_placeholder = df.apply(lambda x: x.isin(placeholders) if x.dtype == 'object' else False).sum()\n",
    "\n",
    "# Combine total missing indicators (row-wise or column-wise)\n",
    "total_missing_per_column = missing_na + missing_empty + missing_space + missing_placeholder\n",
    "print(total_missing_per_column.sort_values(ascending=False))\n"
   ]
  },
  {
   "cell_type": "markdown",
   "metadata": {},
   "source": [
    "### **Data Preprocessing 1**\n"
   ]
  },
  {
   "cell_type": "code",
   "execution_count": 37,
   "metadata": {},
   "outputs": [
    {
     "name": "stdout",
     "output_type": "stream",
     "text": [
      "100\n",
      "        type       subreddit  \\\n",
      "457  comment     StockMarket   \n",
      "342  comment  wallstreetbets   \n",
      "280  comment     StockMarket   \n",
      "275  comment  wallstreetbets   \n",
      "\n",
      "                                                 title  upvotes  downvotes  \\\n",
      "457  Trump: We Are Doing Really Well On Our Tariff ...        1        0.0   \n",
      "342  Retail giant TARGET has now declined for 10 co...        1        0.0   \n",
      "280  How do you feel about a sitting president maki...        2        0.0   \n",
      "275  Retail giant TARGET has now declined for 10 co...        1        0.0   \n",
      "\n",
      "                                                  text  subjectivity  \\\n",
      "457                                          \"We\" who?      0.000000   \n",
      "342                                     Chicken jockey      0.950000   \n",
      "280                                      Not great Bob      0.750000   \n",
      "275  Speak for yourself, my wife is being harder on...      0.633333   \n",
      "\n",
      "     polarity  sentiment  label  \\\n",
      "457  0.000000        0.0    0.0   \n",
      "342 -0.600000       -1.0    0.0   \n",
      "280  0.800000        1.0   -1.0   \n",
      "275  0.633333        1.0    0.0   \n",
      "\n",
      "                                               content  \n",
      "457  Trump: We Are Doing Really Well On Our Tariff ...  \n",
      "342  Retail giant TARGET has now declined for 10 co...  \n",
      "280  How do you feel about a sitting president maki...  \n",
      "275  Retail giant TARGET has now declined for 10 co...  \n"
     ]
    }
   ],
   "source": [
    "# Randomly sample 1000 rows from df_clean\n",
    "X_sample = df_clean.sample(n=100, random_state=42)\n",
    "\n",
    "# Check length\n",
    "print(len(X_sample))  # Should print 1000\n",
    "\n",
    "# Preview first 4 rows\n",
    "print(X_sample.iloc[0:4])\n"
   ]
  },
  {
   "cell_type": "markdown",
   "metadata": {},
   "source": [
    "### **Exercise 6**\n"
   ]
  },
  {
   "cell_type": "code",
   "execution_count": 38,
   "metadata": {},
   "outputs": [
    {
     "name": "stdout",
     "output_type": "stream",
     "text": [
      "Original X shape: (847, 11)\n",
      "Sampled X_sample shape: (100, 11)\n"
     ]
    }
   ],
   "source": [
    "print(\"Original X shape:\", df_clean.shape)\n",
    "print(\"Sampled X_sample shape:\", X_sample.shape)\n"
   ]
  },
  {
   "cell_type": "code",
   "execution_count": 39,
   "metadata": {},
   "outputs": [
    {
     "name": "stdout",
     "output_type": "stream",
     "text": [
      "Original X index (first 5 rows): [0, 1, 2, 3, 4]\n",
      "Sampled X_sample index (first 5 rows): [457, 342, 280, 275, 843]\n"
     ]
    }
   ],
   "source": [
    "# Observe index difference\n",
    "print(\"Original X index (first 5 rows):\", df_clean.index[:5].tolist())\n",
    "print(\"Sampled X_sample index (first 5 rows):\", X_sample.index[:5].tolist())\n"
   ]
  },
  {
   "cell_type": "code",
   "execution_count": 40,
   "metadata": {},
   "outputs": [
    {
     "name": "stdout",
     "output_type": "stream",
     "text": [
      "Original X numeric summary:\n",
      "           upvotes   downvotes  subjectivity    polarity   sentiment  \\\n",
      "count   847.000000  847.000000    847.000000  847.000000  847.000000   \n",
      "mean     12.262102    0.020071      0.346768    0.036116    0.144038   \n",
      "std     142.126337    0.404845      0.317261    0.297814    0.767566   \n",
      "min     -74.000000    0.000000      0.000000   -1.000000   -1.000000   \n",
      "25%       1.000000    0.000000      0.000000    0.000000    0.000000   \n",
      "50%       1.000000    0.000000      0.366667    0.000000    0.000000   \n",
      "75%       4.000000    0.000000      0.577500    0.150000    1.000000   \n",
      "max    3943.000000   11.000000      1.000000    1.000000    1.000000   \n",
      "\n",
      "            label  \n",
      "count  847.000000  \n",
      "mean    -0.243211  \n",
      "std      0.664801  \n",
      "min     -1.000000  \n",
      "25%     -1.000000  \n",
      "50%      0.000000  \n",
      "75%      0.000000  \n",
      "max      1.000000  \n",
      "\n",
      "X_sample numeric summary:\n",
      "          upvotes  downvotes  subjectivity    polarity  sentiment       label\n",
      "count  100.000000     100.00    100.000000  100.000000  100.00000  100.000000\n",
      "mean     5.640000       0.04      0.361107    0.040782    0.14000   -0.240000\n",
      "std     12.038256       0.40      0.335764    0.332142    0.75237    0.740188\n",
      "min    -25.000000       0.00      0.000000   -1.000000   -1.00000   -1.000000\n",
      "25%      1.000000       0.00      0.000000    0.000000    0.00000   -1.000000\n",
      "50%      2.000000       0.00      0.400000    0.000000    0.00000    0.000000\n",
      "75%      5.250000       0.00      0.576250    0.191806    1.00000    0.000000\n",
      "max     79.000000       4.00      1.000000    0.800000    1.00000    1.000000\n"
     ]
    }
   ],
   "source": [
    "# Compare numerical stats\n",
    "print(\"Original X numeric summary:\")\n",
    "print(df_clean.describe())\n",
    "print(\"\\nX_sample numeric summary:\")\n",
    "print(X_sample.describe())\n"
   ]
  },
  {
   "cell_type": "code",
   "execution_count": 41,
   "metadata": {},
   "outputs": [
    {
     "name": "stdout",
     "output_type": "stream",
     "text": [
      "Top 5 subreddits in original X:\n",
      "subreddit\n",
      "stocks              274\n",
      "StockMarket         250\n",
      "stockstobuytoday    174\n",
      "wallstreetbets      149\n",
      "Name: count, dtype: int64\n",
      "\n",
      "Top 5 subreddits in X_sample:\n",
      "subreddit\n",
      "stocks              35\n",
      "StockMarket         32\n",
      "wallstreetbets      18\n",
      "stockstobuytoday    15\n",
      "Name: count, dtype: int64\n",
      "Content length stats original X:\n",
      "count     847.000000\n",
      "mean      210.337662\n",
      "std       237.093131\n",
      "min        28.000000\n",
      "25%        97.500000\n",
      "50%       148.000000\n",
      "75%       232.500000\n",
      "max      2780.000000\n",
      "Name: content, dtype: float64\n",
      "\n",
      "Content length stats X_sample:\n",
      "count     100.000000\n",
      "mean      218.040000\n",
      "std       293.439165\n",
      "min        29.000000\n",
      "25%       104.250000\n",
      "50%       143.000000\n",
      "75%       215.750000\n",
      "max      2389.000000\n",
      "Name: content, dtype: float64\n"
     ]
    }
   ],
   "source": [
    "# Top subreddits in original vs sample\n",
    "print(\"Top 5 subreddits in original X:\")\n",
    "print(df_clean['subreddit'].value_counts().head())\n",
    "print(\"\\nTop 5 subreddits in X_sample:\")\n",
    "print(X_sample['subreddit'].value_counts().head())\n",
    "\n",
    "# Check content length distribution\n",
    "print(\"Content length stats original X:\")\n",
    "print(df_clean['content'].str.len().describe())\n",
    "print(\"\\nContent length stats X_sample:\")\n",
    "print(X_sample['content'].str.len().describe())\n"
   ]
  },
  {
   "cell_type": "markdown",
   "metadata": {},
   "source": [
    "### **Data processing 2**\n"
   ]
  },
  {
   "cell_type": "code",
   "execution_count": 42,
   "metadata": {},
   "outputs": [],
   "source": [
    "import matplotlib.pyplot as plt\n",
    "import numpy as np\n"
   ]
  },
  {
   "cell_type": "code",
   "execution_count": 43,
   "metadata": {},
   "outputs": [],
   "source": [
    "# Choose the categorical column to compare, e.g., 'subreddit'\n",
    "cat_col = 'subreddit'\n",
    "\n",
    "# Original dataset counts\n",
    "orig_counts = df_clean[cat_col].value_counts()\n",
    "\n",
    "# Sample dataset counts\n",
    "sample_counts = X_sample[cat_col].value_counts()\n",
    "\n",
    "# Align both series to have the same index (all categories)\n",
    "all_categories = orig_counts.index.union(sample_counts.index)\n",
    "orig_counts = orig_counts.reindex(all_categories, fill_value=0)\n",
    "sample_counts = sample_counts.reindex(all_categories, fill_value=0)\n"
   ]
  },
  {
   "cell_type": "code",
   "execution_count": 44,
   "metadata": {},
   "outputs": [
    {
     "data": {
      "image/png": "[encoded data removed]",
      "text/plain": [
       "<Figure size 1200x600 with 1 Axes>"
      ]
     },
     "metadata": {},
     "output_type": "display_data"
    }
   ],
   "source": [
    "# Set width of bars\n",
    "bar_width = 0.35\n",
    "index = np.arange(len(all_categories))\n",
    "\n",
    "plt.figure(figsize=(12,6))\n",
    "\n",
    "# Plot original dataset\n",
    "plt.bar(index, orig_counts.values, bar_width, label='Original')\n",
    "\n",
    "# Plot sample dataset next to it\n",
    "plt.bar(index + bar_width, sample_counts.values, bar_width, label='Sample')\n",
    "\n",
    "# Labels and titles\n",
    "plt.xlabel('Categories')\n",
    "plt.ylabel('Counts')\n",
    "plt.title(f'Distribution of {cat_col} in Original vs Sample Dataset')\n",
    "plt.xticks(index + bar_width/2, all_categories, rotation=45, ha='right')\n",
    "plt.legend()\n",
    "plt.tight_layout()\n",
    "plt.show()\n"
   ]
  },
  {
   "cell_type": "code",
   "execution_count": 45,
   "metadata": {},
   "outputs": [
    {
     "name": "stdout",
     "output_type": "stream",
     "text": [
      "subreddit\n",
      "stocks              2.650531\n",
      "StockMarket         2.484061\n",
      "wallstreetbets      0.408501\n",
      "stockstobuytoday   -5.543093\n",
      "Name: count, dtype: float64\n"
     ]
    }
   ],
   "source": [
    "disparity_percent = ((sample_counts / sample_counts.sum()) - (orig_counts / orig_counts.sum())) * 100\n",
    "print(disparity_percent.sort_values(ascending=False))\n",
    "##This shows which categories are over- or under-represented in the sample relative to the original dataset."
   ]
  },
  {
   "cell_type": "markdown",
   "metadata": {},
   "source": [
    "### **Exercise 7**"
   ]
  },
  {
   "cell_type": "code",
   "execution_count": 46,
   "metadata": {},
   "outputs": [],
   "source": [
    "# Find the max count across both original and sample datasets\n",
    "y_max = max(orig_counts.max(), sample_counts.max())\n"
   ]
  },
  {
   "cell_type": "code",
   "execution_count": 47,
   "metadata": {},
   "outputs": [
    {
     "data": {
      "image/png": "[encoded data removed]",
      "text/plain": [
       "<Figure size 1200x600 with 1 Axes>"
      ]
     },
     "metadata": {},
     "output_type": "display_data"
    }
   ],
   "source": [
    "plt.figure(figsize=(12,6))\n",
    "\n",
    "plt.bar(index, orig_counts.values, bar_width, label='Original')\n",
    "plt.bar(index + bar_width, sample_counts.values, bar_width, label='Sample')\n",
    "\n",
    "plt.xlabel('Categories')\n",
    "plt.ylabel('Counts')\n",
    "plt.title(f'Distribution of {cat_col} in Original vs Sample Dataset')\n",
    "plt.xticks(index + bar_width/2, all_categories, rotation=45, ha='right')\n",
    "plt.legend()\n",
    "\n",
    "# Automatically set y-axis limit with some margin (e.g., 10%)\n",
    "plt.ylim(0, y_max * 1.1)  \n",
    "\n",
    "plt.tight_layout()\n",
    "plt.show()\n"
   ]
  },
  {
   "cell_type": "markdown",
   "metadata": {},
   "source": [
    "### **Exercise 8** "
   ]
  },
  {
   "cell_type": "code",
   "execution_count": 48,
   "metadata": {},
   "outputs": [],
   "source": [
    "import matplotlib.pyplot as plt\n",
    "import numpy as np\n",
    "\n",
    "# Choose the categorical column\n",
    "cat_col = 'subreddit'\n",
    "\n",
    "# Get value counts\n",
    "orig_counts = df_clean[cat_col].value_counts()\n",
    "sample_counts = X_sample[cat_col].value_counts()\n",
    "\n",
    "# Combine categories to ensure alignment\n",
    "all_categories = orig_counts.index.union(sample_counts.index)\n",
    "orig_counts = orig_counts.reindex(all_categories, fill_value=0)\n",
    "sample_counts = sample_counts.reindex(all_categories, fill_value=0)\n"
   ]
  },
  {
   "cell_type": "code",
   "execution_count": 49,
   "metadata": {},
   "outputs": [
    {
     "data": {
      "image/png": "[encoded data removed]",
      "text/plain": [
       "<Figure size 1400x600 with 1 Axes>"
      ]
     },
     "metadata": {},
     "output_type": "display_data"
    }
   ],
   "source": [
    "bar_width = 0.35\n",
    "index = np.arange(len(all_categories))\n",
    "\n",
    "# Dynamic y-axis limit\n",
    "y_max = max(orig_counts.max(), sample_counts.max()) * 1.1\n",
    "\n",
    "plt.figure(figsize=(14,6))\n",
    "plt.bar(index, orig_counts.values, bar_width, label='Original', color='skyblue')\n",
    "plt.bar(index + bar_width, sample_counts.values, bar_width, label='Sample', color='salmon')\n",
    "\n",
    "plt.xlabel('Categories')\n",
    "plt.ylabel('Counts')\n",
    "plt.title(f'Side-by-Side Distribution of {cat_col}: Original vs Sample')\n",
    "plt.xticks(index + bar_width/2, all_categories, rotation=45, ha='right')\n",
    "plt.ylim(0, y_max)\n",
    "plt.legend()\n",
    "plt.tight_layout()\n",
    "plt.show()\n"
   ]
  },
  {
   "cell_type": "markdown",
   "metadata": {},
   "source": [
    "### **Feature selection**\n",
    "\n"
   ]
  },
  {
   "cell_type": "code",
   "execution_count": 50,
   "metadata": {},
   "outputs": [
    {
     "name": "stderr",
     "output_type": "stream",
     "text": [
      "[nltk_data] Downloading package punkt to\n",
      "[nltk_data]     C:\\Users\\pablo\\AppData\\Roaming\\nltk_data...\n",
      "[nltk_data]   Package punkt is already up-to-date!\n",
      "[nltk_data] Downloading package averaged_perceptron_tagger to\n",
      "[nltk_data]     C:\\Users\\pablo\\AppData\\Roaming\\nltk_data...\n",
      "[nltk_data]   Package averaged_perceptron_tagger is already up-to-\n",
      "[nltk_data]       date!\n"
     ]
    },
    {
     "data": {
      "text/plain": [
       "True"
      ]
     },
     "execution_count": 50,
     "metadata": {},
     "output_type": "execute_result"
    }
   ],
   "source": [
    "import nltk\n",
    "nltk.download(\"punkt\")        # Tokenizer models\n",
    "nltk.download(\"averaged_perceptron_tagger\")  # Optional for POS tagging if needed\n"
   ]
  },
  {
   "cell_type": "code",
   "execution_count": 51,
   "metadata": {},
   "outputs": [],
   "source": [
    "from nltk.tokenize import word_tokenize\n",
    "\n",
    "# Tokenize text into unigrams\n",
    "def tokenize_text(text):\n",
    "    if isinstance(text, str):\n",
    "        return word_tokenize(text.lower())  # lowercase + tokenize\n",
    "    else:\n",
    "        return []\n"
   ]
  },
  {
   "cell_type": "code",
   "execution_count": 52,
   "metadata": {},
   "outputs": [],
   "source": [
    "# If it doesn’t exist, create it from 'content'\n",
    "if 'content_clean' not in X_sample.columns:\n",
    "    X_sample['content_clean'] = X_sample['content'].str.lower().str.strip()\n",
    "\n"
   ]
  },
  {
   "cell_type": "code",
   "execution_count": 53,
   "metadata": {},
   "outputs": [
    {
     "name": "stdout",
     "output_type": "stream",
     "text": [
      "                                         content_clean  \\\n",
      "457  trump: we are doing really well on our tariff ...   \n",
      "342  retail giant target has now declined for 10 co...   \n",
      "280  how do you feel about a sitting president maki...   \n",
      "275  retail giant target has now declined for 10 co...   \n",
      "\n",
      "                                              unigrams  \n",
      "457  [trump, :, we, are, doing, really, well, on, o...  \n",
      "342  [retail, giant, target, has, now, declined, fo...  \n",
      "280  [how, do, you, feel, about, a, sitting, presid...  \n",
      "275  [retail, giant, target, has, now, declined, fo...  \n"
     ]
    }
   ],
   "source": [
    "from nltk.tokenize import word_tokenize\n",
    "\n",
    "def tokenize_text(text):\n",
    "    if isinstance(text, str):\n",
    "        return word_tokenize(text.lower())  # lowercase + tokenize\n",
    "    else:\n",
    "        return []\n",
    "\n",
    "X_sample['unigrams'] = X_sample['content_clean'].apply(tokenize_text)\n",
    "\n",
    "# Preview results\n",
    "print(X_sample[0:4][['content_clean', 'unigrams']])\n"
   ]
  },
  {
   "cell_type": "code",
   "execution_count": 54,
   "metadata": {},
   "outputs": [
    {
     "name": "stdout",
     "output_type": "stream",
     "text": [
      "['trump', ':', 'we', 'are', 'doing', 'really', 'well', 'on', 'our', 'tariff', 'policy', '..', '``', 'we', \"''\", 'who', '?']\n"
     ]
    }
   ],
   "source": [
    "# Reset index to ensure 0-based consecutive indexing\n",
    "X_sample = X_sample.reset_index(drop=True)\n",
    "\n",
    "# Now you can safely access the first row\n",
    "first_row_tokens = list(X_sample.loc[0, 'unigrams'])\n",
    "print(first_row_tokens)\n",
    "\n"
   ]
  },
  {
   "cell_type": "code",
   "execution_count": 55,
   "metadata": {},
   "outputs": [
    {
     "name": "stdout",
     "output_type": "stream",
     "text": [
      "{'needn', 'during', 'but', \"he's\", 'itself', \"they'd\", \"haven't\", 'a', 'wasn', 'then', 'over', 'has', 'too', 'o', 'don', \"they've\", 'ma', 'ours', \"you'll\", 'does', \"we're\", 'our', 'of', 'wouldn', 'whom', \"they'll\", 'my', 'after', 'about', \"couldn't\", 'she', 'these', 'further', \"he'll\", 'mustn', 'very', 'couldn', \"i've\", 'here', 'any', 'both', \"they're\", 'do', 'i', 'only', 'yourself', 'myself', 'once', 'your', 'her', 'isn', \"isn't\", \"i'm\", 'than', 'be', \"hasn't\", 'where', 'will', 'while', 'how', 'am', 'own', \"we've\", 'theirs', 'doing', 'few', 'that', 'doesn', 'its', 'off', 'hasn', 'when', 'shouldn', 'no', 've', 'won', \"i'd\", 'been', 'll', 'between', 'against', 'he', 'mightn', 'ourselves', 'yours', 're', \"shouldn't\", 'what', \"didn't\", 'under', \"aren't\", \"she'd\", 'are', 'did', 'up', 'aren', 'this', 'an', 'we', 'you', 'all', 'such', 'nor', \"needn't\", \"wasn't\", 'their', \"he'd\", 'they', 'not', 'who', \"she'll\", 'some', 'as', 'ain', 'it', 'being', 'd', 'had', 'me', \"that'll\", 'if', \"i'll\", 'down', 'herself', 'was', 'other', 'having', \"she's\", 'y', 'hers', \"mustn't\", \"shan't\", 'through', \"doesn't\", 'should', 'themselves', 'before', 'above', 'and', 'most', 'haven', \"we'll\", \"it'll\", 'is', \"don't\", 'below', 'his', 'm', 'were', \"weren't\", 'shan', \"won't\", 'until', 'have', 'the', 'why', 'again', 'by', 'can', 'into', 'yourselves', \"you've\", 'which', \"should've\", \"hadn't\", 'him', \"mightn't\", 'those', 'same', 'himself', \"it's\", 'at', 'weren', 'from', 's', \"we'd\", 'didn', 'in', 'now', \"you'd\", 'out', 'so', 'on', \"it'd\", 'there', 'more', \"you're\", 't', \"wouldn't\", 'because', 'to', 'for', 'hadn', 'with', 'or', 'just', 'them', 'each'}\n"
     ]
    },
    {
     "name": "stderr",
     "output_type": "stream",
     "text": [
      "[nltk_data] Downloading package stopwords to\n",
      "[nltk_data]     C:\\Users\\pablo\\AppData\\Roaming\\nltk_data...\n",
      "[nltk_data]   Package stopwords is already up-to-date!\n"
     ]
    }
   ],
   "source": [
    "import nltk\n",
    "from nltk.corpus import stopwords\n",
    "\n",
    "# Download stopwords if not already\n",
    "nltk.download('stopwords')\n",
    "\n",
    "# Get the list of English stop words\n",
    "stop_words = set(stopwords.words('english'))\n",
    "print(stop_words)\n"
   ]
  },
  {
   "cell_type": "code",
   "execution_count": 56,
   "metadata": {},
   "outputs": [
    {
     "ename": "NameError",
     "evalue": "name 'tokens' is not defined",
     "output_type": "error",
     "traceback": [
      "\u001b[1;31m---------------------------------------------------------------------------\u001b[0m",
      "\u001b[1;31mNameError\u001b[0m                                 Traceback (most recent call last)",
      "Cell \u001b[1;32mIn[56], line 4\u001b[0m\n\u001b[0;32m      1\u001b[0m \u001b[38;5;28;01mimport\u001b[39;00m\u001b[38;5;250m \u001b[39m\u001b[38;5;21;01mstring\u001b[39;00m\n\u001b[0;32m      3\u001b[0m \u001b[38;5;66;03m# Cleaned list\u001b[39;00m\n\u001b[1;32m----> 4\u001b[0m clean_tokens \u001b[38;5;241m=\u001b[39m [t \u001b[38;5;28;01mfor\u001b[39;00m t \u001b[38;5;129;01min\u001b[39;00m \u001b[43mtokens\u001b[49m \u001b[38;5;28;01mif\u001b[39;00m t \u001b[38;5;129;01mnot\u001b[39;00m \u001b[38;5;129;01min\u001b[39;00m stop_words \u001b[38;5;129;01mand\u001b[39;00m t \u001b[38;5;129;01mnot\u001b[39;00m \u001b[38;5;129;01min\u001b[39;00m string\u001b[38;5;241m.\u001b[39mpunctuation \u001b[38;5;129;01mand\u001b[39;00m t\u001b[38;5;241m.\u001b[39mstrip() \u001b[38;5;241m!=\u001b[39m \u001b[38;5;124m'\u001b[39m\u001b[38;5;124m'\u001b[39m]\n\u001b[0;32m      5\u001b[0m \u001b[38;5;28mprint\u001b[39m(clean_tokens)\n",
      "\u001b[1;31mNameError\u001b[0m: name 'tokens' is not defined"
     ]
    }
   ],
   "source": [
    "import string\n",
    "\n",
    "# Cleaned list\n",
    "clean_tokens = [t for t in tokens if t not in stop_words and t not in string.punctuation and t.strip() != '']\n",
    "print(clean_tokens)\n",
    "\n"
   ]
  },
  {
   "cell_type": "markdown",
   "metadata": {},
   "source": [
    "### **Exercise 9**\n"
   ]
  },
  {
   "cell_type": "code",
   "execution_count": null,
   "metadata": {},
   "outputs": [],
   "source": [
    "from nltk.tokenize import word_tokenize\n",
    "\n",
    "def analyze(text):\n",
    "    # Lowercase + tokenize + remove stopwords and punctuation\n",
    "    import string\n",
    "    from nltk.corpus import stopwords\n",
    "    stop_words = set(stopwords.words('english'))\n",
    "\n",
    "    if isinstance(text, str):\n",
    "        tokens = word_tokenize(text.lower())\n",
    "        tokens = [t for t in tokens if t not in stop_words and t not in string.punctuation and t.strip() != '']\n",
    "        return tokens\n",
    "    else:\n",
    "        return []\n"
   ]
  },
  {
   "cell_type": "code",
   "execution_count": null,
   "metadata": {},
   "outputs": [
    {
     "name": "stdout",
     "output_type": "stream",
     "text": [
      "['trump', 'really', 'well', 'tariff', 'policy', '..', '``', \"''\"]\n"
     ]
    }
   ],
   "source": [
    "# Analyze the first record of the X_sample dataset\n",
    "first_record_tokens = analyze(X_sample.iloc[0]['content_clean'])\n",
    "print(first_record_tokens)\n"
   ]
  },
  {
   "cell_type": "code",
   "execution_count": null,
   "metadata": {},
   "outputs": [
    {
     "name": "stdout",
     "output_type": "stream",
     "text": [
      "                                       content_clean  \\\n",
      "0  trump: we are doing really well on our tariff ...   \n",
      "1  retail giant target has now declined for 10 co...   \n",
      "2  how do you feel about a sitting president maki...   \n",
      "3  retail giant target has now declined for 10 co...   \n",
      "\n",
      "                                            unigrams  \n",
      "0  [trump, really, well, tariff, policy, .., ``, '']  \n",
      "1  [retail, giant, target, declined, 10, consecut...  \n",
      "2  [feel, sitting, president, making, 415m, one, ...  \n",
      "3  [retail, giant, target, declined, 10, consecut...  \n"
     ]
    }
   ],
   "source": [
    "# Apply analyzer to the entire unigrams column\n",
    "X_sample['unigrams'] = X_sample['content_clean'].apply(analyze)\n",
    "\n",
    "# Preview first 4 rows\n",
    "print(X_sample[0:4][['content_clean', 'unigrams']])\n"
   ]
  },
  {
   "cell_type": "markdown",
   "metadata": {},
   "source": [
    "### **Exercise 10**"
   ]
  },
  {
   "cell_type": "code",
   "execution_count": null,
   "metadata": {},
   "outputs": [],
   "source": [
    "from sklearn.feature_extraction.text import CountVectorizer\n",
    "import numpy as np\n",
    "import pandas as pd\n",
    "import matplotlib.pyplot as plt\n",
    "import seaborn as sns\n",
    "\n",
    "# Initialize CountVectorizer\n",
    "count_vect = CountVectorizer()\n",
    "X_counts = count_vect.fit_transform(X_sample['content_clean'])\n",
    "\n",
    "# Vocabulary\n",
    "vocab = count_vect.get_feature_names_out()\n",
    "\n"
   ]
  },
  {
   "cell_type": "code",
   "execution_count": null,
   "metadata": {},
   "outputs": [
    {
     "name": "stdout",
     "output_type": "stream",
     "text": [
      "Words that occur once in fifth record:\n",
      "can\n",
      "crashing\n",
      "dollar\n",
      "read\n",
      "this\n",
      "value\n",
      "where\n"
     ]
    }
   ],
   "source": [
    "# Fifth record (index 4)\n",
    "record_5 = X_counts[4].toarray()[0]  # convert sparse row to dense array\n",
    "\n",
    "# Find words that occur once\n",
    "number_one = np.where(record_5 == 1)[0]  # indices where the count is 1\n",
    "\n",
    "# Map indices to vocabulary\n",
    "words_with_one_occurrence = vocab[number_one]\n",
    "\n",
    "# Print words\n",
    "print(\"Words that occur once in fifth record:\")\n",
    "for word in words_with_one_occurrence:\n",
    "    print(word)\n"
   ]
  },
  {
   "cell_type": "code",
   "execution_count": null,
   "metadata": {},
   "outputs": [
    {
     "data": {
      "image/png": "[encoded data removed]",
      "text/plain": [
       "<Figure size 900x700 with 2 Axes>"
      ]
     },
     "metadata": {},
     "output_type": "display_data"
    }
   ],
   "source": [
    "# Prepare heatmap data\n",
    "plot_x = [\"term_\" + str(i) for i in vocab[0:20]]  # first 20 features\n",
    "plot_y = [\"doc_\" + str(i) for i in X_sample.index[0:20]]  # first 20 documents\n",
    "plot_z = X_counts[0:20, 0:20].toarray()  # subset of count matrix\n",
    "\n",
    "# Convert to DataFrame\n",
    "df_todraw = pd.DataFrame(plot_z, columns=plot_x, index=plot_y)\n",
    "\n",
    "# Plot heatmap\n",
    "plt.figure(figsize=(9, 7))\n",
    "ax = sns.heatmap(df_todraw, cmap=\"PuRd\", vmin=0, vmax=1, annot=True)\n",
    "plt.title(\"Term Occurrence Heatmap \")\n",
    "plt.show()\n"
   ]
  },
  {
   "cell_type": "markdown",
   "metadata": {},
   "source": [
    "### **Exercise 11**"
   ]
  },
  {
   "cell_type": "code",
   "execution_count": null,
   "metadata": {},
   "outputs": [
    {
     "data": {
      "image/png": "[encoded data removed]",
      "text/plain": [
       "<Figure size 1800x1200 with 2 Axes>"
      ]
     },
     "metadata": {},
     "output_type": "display_data"
    }
   ],
   "source": [
    "import numpy as np\n",
    "import pandas as pd\n",
    "import seaborn as sns\n",
    "import matplotlib.pyplot as plt\n",
    "\n",
    "# 50 random documents and 50 random terms\n",
    "docs_sample = np.random.choice(X_counts.shape[0], 50, replace=False)\n",
    "terms_sample = np.random.choice(X_counts.shape[1], 50, replace=False)\n",
    "\n",
    "# Subset of the term-document matrix\n",
    "plot_z = X_counts[docs_sample, :][:, terms_sample].toarray()\n",
    "plot_x = [count_vect.get_feature_names_out()[i] for i in terms_sample]\n",
    "plot_y = [f\"doc_{i}\" for i in docs_sample]\n",
    "\n",
    "# Convert to DataFrame\n",
    "df_todraw = pd.DataFrame(plot_z, columns=plot_x, index=plot_y)\n",
    "\n",
    "# Plot heatmap\n",
    "plt.figure(figsize=(18, 12))\n",
    "sns.heatmap(df_todraw, cmap=\"PuRd\", vmin=0, annot=True, fmt=\"d\", linewidths=.5)\n",
    "plt.title(\"Random Sample of 50\", fontsize=16)\n",
    "plt.xticks(rotation=45, ha='right')\n",
    "plt.yticks(rotation=0)\n",
    "plt.show()\n"
   ]
  },
  {
   "cell_type": "code",
   "execution_count": null,
   "metadata": {},
   "outputs": [
    {
     "data": {
      "image/png": "[encoded data removed]",
      "text/plain": [
       "<Figure size 1800x1200 with 2 Axes>"
      ]
     },
     "metadata": {},
     "output_type": "display_data"
    }
   ],
   "source": [
    "# Compute term frequencies\n",
    "term_freq = np.array(X_counts.sum(axis=0)).flatten()\n",
    "top_terms = term_freq.argsort()[-50:]  # indices of top 50 terms\n",
    "\n",
    "# Subset term-document matrix\n",
    "plot_z = X_counts[:50, top_terms].toarray()\n",
    "plot_x = [count_vect.get_feature_names_out()[i] for i in top_terms]\n",
    "plot_y = [f\"doc_{i}\" for i in range(50)]\n",
    "\n",
    "# Convert to DataFrame\n",
    "df_todraw = pd.DataFrame(plot_z, columns=plot_x, index=plot_y)\n",
    "\n",
    "# Plot heatmap\n",
    "plt.figure(figsize=(18, 12))\n",
    "sns.heatmap(df_todraw, cmap=\"PuRd\", annot=True, fmt=\"d\", linewidths=.5)\n",
    "plt.title(\"Top 50\", fontsize=16)\n",
    "plt.xticks(rotation=45, ha='right')\n",
    "plt.yticks(rotation=0)\n",
    "plt.show()\n"
   ]
  },
  {
   "cell_type": "markdown",
   "metadata": {},
   "source": [
    "### **Exercise 12**"
   ]
  },
  {
   "cell_type": "code",
   "execution_count": null,
   "metadata": {},
   "outputs": [],
   "source": [
    "import numpy as np\n",
    "import pandas as pd\n",
    "import plotly.express as px\n",
    "\n",
    "# Compute term frequencies across all documents\n",
    "term_frequencies = np.asarray(X_counts.sum(axis=0)).flatten()  # shape (num_terms,)\n",
    "\n",
    "# Sort terms in descending order of frequency\n",
    "sorted_idx = np.argsort(term_frequencies)[::-1]\n",
    "\n",
    "# Select top N terms\n",
    "top_n = 300\n",
    "terms = count_vect.get_feature_names_out()[sorted_idx[:top_n]]\n",
    "freqs = term_frequencies[sorted_idx[:top_n]]\n",
    "\n",
    "# Create DataFrame for plotting\n",
    "df_terms = pd.DataFrame({\"term\": terms, \"frequency\": freqs})\n"
   ]
  },
  {
   "cell_type": "code",
   "execution_count": null,
   "metadata": {},
   "outputs": [
    {
     "data": {
      "application/vnd.plotly.v1+json": {
       "config": {
        "plotlyServerURL": "https://plot.ly"
       },
       "data": [
        {
         "hovertemplate": "term=%{x}<br>frequency=%{y}<extra></extra>",
         "legendgroup": "",
         "marker": {
          "color": "#636efa",
          "pattern": {
           "shape": ""
          }
         },
         "name": "",
         "orientation": "v",
         "showlegend": false,
         "textposition": "auto",
         "type": "bar",
         "x": [
          "the",
          "to",
          "is",
          "and",
          "in",
          "of",
          "it",
          "you",
          "on",
          "for",
          "trump",
          "us",
          "with",
          "this",
          "that",
          "2025",
          "china",
          "are",
          "not",
          "thread",
          "they",
          "now",
          "all",
          "at",
          "has",
          "weekend",
          "discussion",
          "tariffs",
          "11",
          "like",
          "my",
          "but",
          "stocks",
          "if",
          "their",
          "silver",
          "an",
          "about",
          "can",
          "do",
          "market",
          "his",
          "tariff",
          "be",
          "one",
          "dollar",
          "after",
          "how",
          "have",
          "trading",
          "he",
          "as",
          "will",
          "there",
          "so",
          "april",
          "right",
          "stock",
          "fundamentals",
          "just",
          "treasuries",
          "or",
          "president",
          "xi",
          "daily",
          "friday",
          "125",
          "still",
          "policy",
          "own",
          "day",
          "by",
          "look",
          "goods",
          "no",
          "more",
          "campaign",
          "allies",
          "only",
          "apr",
          "decision",
          "feel",
          "company",
          "was",
          "administration",
          "data",
          "what",
          "awful",
          "its",
          "out",
          "off",
          "sitting",
          "sell",
          "10",
          "seeing",
          "portfolio",
          "media",
          "making",
          "someone",
          "quarterly",
          "would",
          "ev",
          "don",
          "we",
          "everywhere",
          "415m",
          "even",
          "social",
          "pumping",
          "fucking",
          "money",
          "rate",
          "losing",
          "misinformation",
          "go",
          "from",
          "raises",
          "technical",
          "think",
          "then",
          "growth",
          "too",
          "into",
          "crashing",
          "been",
          "call",
          "weeks",
          "charging",
          "dumping",
          "evgo",
          "value",
          "analysis",
          "won",
          "shows",
          "really",
          "retail",
          "your",
          "re",
          "going",
          "up",
          "see",
          "yields",
          "quickly",
          "reason",
          "year",
          "take",
          "please",
          "breaking",
          "want",
          "business",
          "declined",
          "consecutive",
          "begging",
          "who",
          "000",
          "target",
          "other",
          "streak",
          "seems",
          "giant",
          "jinping",
          "history",
          "help",
          "time",
          "list",
          "good",
          "made",
          "longest",
          "our",
          "drop",
          "very",
          "down",
          "complete",
          "current",
          "back",
          "buying",
          "biggest",
          "based",
          "why",
          "denial",
          "get",
          "know",
          "imported",
          "getting",
          "need",
          "monday",
          "next",
          "little",
          "lol",
          "make",
          "many",
          "march",
          "least",
          "high",
          "powell",
          "over",
          "revenue",
          "responds",
          "risk",
          "145",
          "100",
          "50",
          "american",
          "am",
          "amount",
          "asml",
          "around",
          "while",
          "where",
          "when",
          "because",
          "big",
          "best",
          "buy",
          "bunch",
          "called",
          "week",
          "way",
          "chargers",
          "stations",
          "states",
          "check",
          "companies",
          "cnbc",
          "doing",
          "earnings",
          "ever",
          "end",
          "everything",
          "great",
          "gme",
          "gm",
          "happening",
          "him",
          "should",
          "here",
          "idea",
          "hotline",
          "investors",
          "investing",
          "invest",
          "interest",
          "led",
          "took",
          "most",
          "new",
          "people",
          "paper",
          "than",
          "physical",
          "post",
          "slow",
          "since",
          "these",
          "them",
          "rates",
          "recession",
          "rich",
          "same",
          "selling",
          "shit",
          "30",
          "yet",
          "must",
          "ll",
          "portfolios",
          "popular",
          "puts",
          "search",
          "literally",
          "world",
          "much",
          "massively",
          "reserve",
          "massive",
          "shares",
          "report",
          "itself",
          "real",
          "thus",
          "trust",
          "said",
          "through",
          "23",
          "ipo",
          "jerome",
          "previous",
          "2008",
          "hurt",
          "morning",
          "investopedia",
          "record",
          "month",
          "industry",
          "treasury",
          "level",
          "orders",
          "nothing",
          "launch",
          "himself"
         ],
         "xaxis": "x",
         "y": {
          "bdata": "iABcAD8AOgA5ADYAKAAlACQAIwAjAB0AHAAbABkAFwAWABUAFAAUABMAEgASABIAEQARABEAEQARABAAEAAQAA8ADwAOAA0ADQANAA0ADQANAA0ADQAMAAwADAAMAAwACwALAAsACwALAAsACwAKAAoACgAKAAoACgAKAAoACQAJAAkACQAJAAkACQAJAAkACQAJAAkACQAIAAgACAAIAAgACAAIAAgACAAIAAgACAAIAAgACAAIAAgACAAIAAgACAAIAAcABwAHAAcABwAHAAcABwAHAAcABwAHAAcABwAHAAcABwAHAAYABgAGAAYABgAGAAYABgAGAAYABgAGAAYABgAGAAYABgAGAAYABgAGAAYABgAGAAUABQAFAAUABQAFAAUABQAFAAUABQAFAAUABQAFAAUABQAFAAUABQAFAAUABQAFAAUABQAFAAUABQAEAAQABAAEAAQABAAEAAQABAAEAAQABAAEAAQABAAEAAQABAAEAAQABAAEAAQABAAEAAQABAAEAAQABAAEAAMAAwADAAMAAwADAAMAAwADAAMAAwADAAMAAwADAAMAAwADAAMAAwADAAMAAwADAAMAAwADAAMAAwADAAMAAwADAAMAAwADAAMAAwADAAMAAwADAAMAAwADAAMAAwADAAMAAwADAAMAAwADAAMAAwADAAMAAwADAAMAAwADAAIAAgACAAIAAgACAAIAAgACAAIAAgACAAIAAgACAAIAAgACAAIAAgACAAIAAgACAAIAAgACAAIAAgACAAIAAgACAAIAAgACAAIA",
          "dtype": "i2"
         },
         "yaxis": "y"
        }
       ],
       "layout": {
        "bargap": 0.2,
        "barmode": "relative",
        "font": {
         "size": 12
        },
        "height": 600,
        "legend": {
         "tracegroupgap": 0
        },
        "template": {
         "data": {
          "bar": [
           {
            "error_x": {
             "color": "#2a3f5f"
            },
            "error_y": {
             "color": "#2a3f5f"
            },
            "marker": {
             "line": {
              "color": "#E5ECF6",
              "width": 0.5
             },
             "pattern": {
              "fillmode": "overlay",
              "size": 10,
              "solidity": 0.2
             }
            },
            "type": "bar"
           }
          ],
          "barpolar": [
           {
            "marker": {
             "line": {
              "color": "#E5ECF6",
              "width": 0.5
             },
             "pattern": {
              "fillmode": "overlay",
              "size": 10,
              "solidity": 0.2
             }
            },
            "type": "barpolar"
           }
          ],
          "carpet": [
           {
            "aaxis": {
             "endlinecolor": "#2a3f5f",
             "gridcolor": "white",
             "linecolor": "white",
             "minorgridcolor": "white",
             "startlinecolor": "#2a3f5f"
            },
            "baxis": {
             "endlinecolor": "#2a3f5f",
             "gridcolor": "white",
             "linecolor": "white",
             "minorgridcolor": "white",
             "startlinecolor": "#2a3f5f"
            },
            "type": "carpet"
           }
          ],
          "choropleth": [
           {
            "colorbar": {
             "outlinewidth": 0,
             "ticks": ""
            },
            "type": "choropleth"
           }
          ],
          "contour": [
           {
            "colorbar": {
             "outlinewidth": 0,
             "ticks": ""
            },
            "colorscale": [
             [
              0,
              "#0d0887"
             ],
             [
              0.1111111111111111,
              "#46039f"
             ],
             [
              0.2222222222222222,
              "#7201a8"
             ],
             [
              0.3333333333333333,
              "#9c179e"
             ],
             [
              0.4444444444444444,
              "#bd3786"
             ],
             [
              0.5555555555555556,
              "#d8576b"
             ],
             [
              0.6666666666666666,
              "#ed7953"
             ],
             [
              0.7777777777777778,
              "#fb9f3a"
             ],
             [
              0.8888888888888888,
              "#fdca26"
             ],
             [
              1,
              "#f0f921"
             ]
            ],
            "type": "contour"
           }
          ],
          "contourcarpet": [
           {
            "colorbar": {
             "outlinewidth": 0,
             "ticks": ""
            },
            "type": "contourcarpet"
           }
          ],
          "heatmap": [
           {
            "colorbar": {
             "outlinewidth": 0,
             "ticks": ""
            },
            "colorscale": [
             [
              0,
              "#0d0887"
             ],
             [
              0.1111111111111111,
              "#46039f"
             ],
             [
              0.2222222222222222,
              "#7201a8"
             ],
             [
              0.3333333333333333,
              "#9c179e"
             ],
             [
              0.4444444444444444,
              "#bd3786"
             ],
             [
              0.5555555555555556,
              "#d8576b"
             ],
             [
              0.6666666666666666,
              "#ed7953"
             ],
             [
              0.7777777777777778,
              "#fb9f3a"
             ],
             [
              0.8888888888888888,
              "#fdca26"
             ],
             [
              1,
              "#f0f921"
             ]
            ],
            "type": "heatmap"
           }
          ],
          "histogram": [
           {
            "marker": {
             "pattern": {
              "fillmode": "overlay",
              "size": 10,
              "solidity": 0.2
             }
            },
            "type": "histogram"
           }
          ],
          "histogram2d": [
           {
            "colorbar": {
             "outlinewidth": 0,
             "ticks": ""
            },
            "colorscale": [
             [
              0,
              "#0d0887"
             ],
             [
              0.1111111111111111,
              "#46039f"
             ],
             [
              0.2222222222222222,
              "#7201a8"
             ],
             [
              0.3333333333333333,
              "#9c179e"
             ],
             [
              0.4444444444444444,
              "#bd3786"
             ],
             [
              0.5555555555555556,
              "#d8576b"
             ],
             [
              0.6666666666666666,
              "#ed7953"
             ],
             [
              0.7777777777777778,
              "#fb9f3a"
             ],
             [
              0.8888888888888888,
              "#fdca26"
             ],
             [
              1,
              "#f0f921"
             ]
            ],
            "type": "histogram2d"
           }
          ],
          "histogram2dcontour": [
           {
            "colorbar": {
             "outlinewidth": 0,
             "ticks": ""
            },
            "colorscale": [
             [
              0,
              "#0d0887"
             ],
             [
              0.1111111111111111,
              "#46039f"
             ],
             [
              0.2222222222222222,
              "#7201a8"
             ],
             [
              0.3333333333333333,
              "#9c179e"
             ],
             [
              0.4444444444444444,
              "#bd3786"
             ],
             [
              0.5555555555555556,
              "#d8576b"
             ],
             [
              0.6666666666666666,
              "#ed7953"
             ],
             [
              0.7777777777777778,
              "#fb9f3a"
             ],
             [
              0.8888888888888888,
              "#fdca26"
             ],
             [
              1,
              "#f0f921"
             ]
            ],
            "type": "histogram2dcontour"
           }
          ],
          "mesh3d": [
           {
            "colorbar": {
             "outlinewidth": 0,
             "ticks": ""
            },
            "type": "mesh3d"
           }
          ],
          "parcoords": [
           {
            "line": {
             "colorbar": {
              "outlinewidth": 0,
              "ticks": ""
             }
            },
            "type": "parcoords"
           }
          ],
          "pie": [
           {
            "automargin": true,
            "type": "pie"
           }
          ],
          "scatter": [
           {
            "fillpattern": {
             "fillmode": "overlay",
             "size": 10,
             "solidity": 0.2
            },
            "type": "scatter"
           }
          ],
          "scatter3d": [
           {
            "line": {
             "colorbar": {
              "outlinewidth": 0,
              "ticks": ""
             }
            },
            "marker": {
             "colorbar": {
              "outlinewidth": 0,
              "ticks": ""
             }
            },
            "type": "scatter3d"
           }
          ],
          "scattercarpet": [
           {
            "marker": {
             "colorbar": {
              "outlinewidth": 0,
              "ticks": ""
             }
            },
            "type": "scattercarpet"
           }
          ],
          "scattergeo": [
           {
            "marker": {
             "colorbar": {
              "outlinewidth": 0,
              "ticks": ""
             }
            },
            "type": "scattergeo"
           }
          ],
          "scattergl": [
           {
            "marker": {
             "colorbar": {
              "outlinewidth": 0,
              "ticks": ""
             }
            },
            "type": "scattergl"
           }
          ],
          "scattermap": [
           {
            "marker": {
             "colorbar": {
              "outlinewidth": 0,
              "ticks": ""
             }
            },
            "type": "scattermap"
           }
          ],
          "scattermapbox": [
           {
            "marker": {
             "colorbar": {
              "outlinewidth": 0,
              "ticks": ""
             }
            },
            "type": "scattermapbox"
           }
          ],
          "scatterpolar": [
           {
            "marker": {
             "colorbar": {
              "outlinewidth": 0,
              "ticks": ""
             }
            },
            "type": "scatterpolar"
           }
          ],
          "scatterpolargl": [
           {
            "marker": {
             "colorbar": {
              "outlinewidth": 0,
              "ticks": ""
             }
            },
            "type": "scatterpolargl"
           }
          ],
          "scatterternary": [
           {
            "marker": {
             "colorbar": {
              "outlinewidth": 0,
              "ticks": ""
             }
            },
            "type": "scatterternary"
           }
          ],
          "surface": [
           {
            "colorbar": {
             "outlinewidth": 0,
             "ticks": ""
            },
            "colorscale": [
             [
              0,
              "#0d0887"
             ],
             [
              0.1111111111111111,
              "#46039f"
             ],
             [
              0.2222222222222222,
              "#7201a8"
             ],
             [
              0.3333333333333333,
              "#9c179e"
             ],
             [
              0.4444444444444444,
              "#bd3786"
             ],
             [
              0.5555555555555556,
              "#d8576b"
             ],
             [
              0.6666666666666666,
              "#ed7953"
             ],
             [
              0.7777777777777778,
              "#fb9f3a"
             ],
             [
              0.8888888888888888,
              "#fdca26"
             ],
             [
              1,
              "#f0f921"
             ]
            ],
            "type": "surface"
           }
          ],
          "table": [
           {
            "cells": {
             "fill": {
              "color": "#EBF0F8"
             },
             "line": {
              "color": "white"
             }
            },
            "header": {
             "fill": {
              "color": "#C8D4E3"
             },
             "line": {
              "color": "white"
             }
            },
            "type": "table"
           }
          ]
         },
         "layout": {
          "annotationdefaults": {
           "arrowcolor": "#2a3f5f",
           "arrowhead": 0,
           "arrowwidth": 1
          },
          "autotypenumbers": "strict",
          "coloraxis": {
           "colorbar": {
            "outlinewidth": 0,
            "ticks": ""
           }
          },
          "colorscale": {
           "diverging": [
            [
             0,
             "#8e0152"
            ],
            [
             0.1,
             "#c51b7d"
            ],
            [
             0.2,
             "#de77ae"
            ],
            [
             0.3,
             "#f1b6da"
            ],
            [
             0.4,
             "#fde0ef"
            ],
            [
             0.5,
             "#f7f7f7"
            ],
            [
             0.6,
             "#e6f5d0"
            ],
            [
             0.7,
             "#b8e186"
            ],
            [
             0.8,
             "#7fbc41"
            ],
            [
             0.9,
             "#4d9221"
            ],
            [
             1,
             "#276419"
            ]
           ],
           "sequential": [
            [
             0,
             "#0d0887"
            ],
            [
             0.1111111111111111,
             "#46039f"
            ],
            [
             0.2222222222222222,
             "#7201a8"
            ],
            [
             0.3333333333333333,
             "#9c179e"
            ],
            [
             0.4444444444444444,
             "#bd3786"
            ],
            [
             0.5555555555555556,
             "#d8576b"
            ],
            [
             0.6666666666666666,
             "#ed7953"
            ],
            [
             0.7777777777777778,
             "#fb9f3a"
            ],
            [
             0.8888888888888888,
             "#fdca26"
            ],
            [
             1,
             "#f0f921"
            ]
           ],
           "sequentialminus": [
            [
             0,
             "#0d0887"
            ],
            [
             0.1111111111111111,
             "#46039f"
            ],
            [
             0.2222222222222222,
             "#7201a8"
            ],
            [
             0.3333333333333333,
             "#9c179e"
            ],
            [
             0.4444444444444444,
             "#bd3786"
            ],
            [
             0.5555555555555556,
             "#d8576b"
            ],
            [
             0.6666666666666666,
             "#ed7953"
            ],
            [
             0.7777777777777778,
             "#fb9f3a"
            ],
            [
             0.8888888888888888,
             "#fdca26"
            ],
            [
             1,
             "#f0f921"
            ]
           ]
          },
          "colorway": [
           "#636efa",
           "#EF553B",
           "#00cc96",
           "#ab63fa",
           "#FFA15A",
           "#19d3f3",
           "#FF6692",
           "#B6E880",
           "#FF97FF",
           "#FECB52"
          ],
          "font": {
           "color": "#2a3f5f"
          },
          "geo": {
           "bgcolor": "white",
           "lakecolor": "white",
           "landcolor": "#E5ECF6",
           "showlakes": true,
           "showland": true,
           "subunitcolor": "white"
          },
          "hoverlabel": {
           "align": "left"
          },
          "hovermode": "closest",
          "mapbox": {
           "style": "light"
          },
          "paper_bgcolor": "white",
          "plot_bgcolor": "#E5ECF6",
          "polar": {
           "angularaxis": {
            "gridcolor": "white",
            "linecolor": "white",
            "ticks": ""
           },
           "bgcolor": "#E5ECF6",
           "radialaxis": {
            "gridcolor": "white",
            "linecolor": "white",
            "ticks": ""
           }
          },
          "scene": {
           "xaxis": {
            "backgroundcolor": "#E5ECF6",
            "gridcolor": "white",
            "gridwidth": 2,
            "linecolor": "white",
            "showbackground": true,
            "ticks": "",
            "zerolinecolor": "white"
           },
           "yaxis": {
            "backgroundcolor": "#E5ECF6",
            "gridcolor": "white",
            "gridwidth": 2,
            "linecolor": "white",
            "showbackground": true,
            "ticks": "",
            "zerolinecolor": "white"
           },
           "zaxis": {
            "backgroundcolor": "#E5ECF6",
            "gridcolor": "white",
            "gridwidth": 2,
            "linecolor": "white",
            "showbackground": true,
            "ticks": "",
            "zerolinecolor": "white"
           }
          },
          "shapedefaults": {
           "line": {
            "color": "#2a3f5f"
           }
          },
          "ternary": {
           "aaxis": {
            "gridcolor": "white",
            "linecolor": "white",
            "ticks": ""
           },
           "baxis": {
            "gridcolor": "white",
            "linecolor": "white",
            "ticks": ""
           },
           "bgcolor": "#E5ECF6",
           "caxis": {
            "gridcolor": "white",
            "linecolor": "white",
            "ticks": ""
           }
          },
          "title": {
           "x": 0.05
          },
          "xaxis": {
           "automargin": true,
           "gridcolor": "white",
           "linecolor": "white",
           "ticks": "",
           "title": {
            "standoff": 15
           },
           "zerolinecolor": "white",
           "zerolinewidth": 2
          },
          "yaxis": {
           "automargin": true,
           "gridcolor": "white",
           "linecolor": "white",
           "ticks": "",
           "title": {
            "standoff": 15
           },
           "zerolinecolor": "white",
           "zerolinewidth": 2
          }
         }
        },
        "title": {
         "text": "Top 300 Most Frequent Terms in Dataset"
        },
        "width": 1400,
        "xaxis": {
         "anchor": "y",
         "domain": [
          0,
          1
         ],
         "tickangle": 90,
         "title": {
          "text": "term"
         }
        },
        "yaxis": {
         "anchor": "x",
         "domain": [
          0,
          1
         ],
         "title": {
          "text": "frequency"
         }
        }
       }
      }
     },
     "metadata": {},
     "output_type": "display_data"
    }
   ],
   "source": [
    "# Create bar chart\n",
    "fig = px.bar(df_terms, x=\"term\", y=\"frequency\", title=f\"Top {top_n} Most Frequent Terms in Dataset\")\n",
    "\n",
    "# Update layout for better readability\n",
    "fig.update_layout(\n",
    "    xaxis_tickangle=90,\n",
    "    width=1400,\n",
    "    height=600,\n",
    "    bargap=0.2,\n",
    "    font=dict(size=12)\n",
    ")\n",
    "\n",
    "# Show figure\n",
    "fig.show()\n"
   ]
  },
  {
   "cell_type": "markdown",
   "metadata": {},
   "source": [
    "### **Exercise 13**"
   ]
  },
  {
   "cell_type": "code",
   "execution_count": null,
   "metadata": {},
   "outputs": [],
   "source": [
    "import numpy as np\n",
    "import pandas as pd\n",
    "import plotly.express as px\n",
    "\n",
    "# Compute term frequencies across all documents\n",
    "term_frequencies = np.asarray(X_counts.sum(axis=0)).flatten()  # shape (num_terms,)\n",
    "\n",
    "# Sort terms in descending order of frequency\n",
    "sorted_idx = np.argsort(term_frequencies)[::-1]\n",
    "\n",
    "# Select top N terms to reduce computational cost\n",
    "top_n = 30\n",
    "terms = count_vect.get_feature_names_out()[sorted_idx[:top_n]]\n",
    "freqs = term_frequencies[sorted_idx[:top_n]]\n",
    "\n",
    "# Create DataFrame for plotting\n",
    "df_terms = pd.DataFrame({\"term\": terms, \"frequency\": freqs})\n"
   ]
  },
  {
   "cell_type": "code",
   "execution_count": null,
   "metadata": {},
   "outputs": [
    {
     "data": {
      "application/vnd.plotly.v1+json": {
       "config": {
        "plotlyServerURL": "https://plot.ly"
       },
       "data": [
        {
         "hovertemplate": "term=%{x}<br>frequency=%{y}<extra></extra>",
         "legendgroup": "",
         "marker": {
          "color": "#636efa",
          "pattern": {
           "shape": ""
          }
         },
         "name": "",
         "orientation": "v",
         "showlegend": false,
         "textposition": "auto",
         "type": "bar",
         "x": [
          "the",
          "to",
          "is",
          "and",
          "in",
          "of",
          "it",
          "you",
          "on",
          "for",
          "trump",
          "us",
          "with",
          "this",
          "that",
          "2025",
          "china",
          "are",
          "not",
          "thread",
          "they",
          "now",
          "all",
          "at",
          "has",
          "weekend",
          "discussion",
          "tariffs",
          "11",
          "like"
         ],
         "xaxis": "x",
         "y": {
          "bdata": "iABcAD8AOgA5ADYAKAAlACQAIwAjAB0AHAAbABkAFwAWABUAFAAUABMAEgASABIAEQARABEAEQARABAA",
          "dtype": "i2"
         },
         "yaxis": "y"
        }
       ],
       "layout": {
        "bargap": 0.2,
        "barmode": "relative",
        "font": {
         "size": 12
        },
        "height": 500,
        "legend": {
         "tracegroupgap": 0
        },
        "template": {
         "data": {
          "bar": [
           {
            "error_x": {
             "color": "#2a3f5f"
            },
            "error_y": {
             "color": "#2a3f5f"
            },
            "marker": {
             "line": {
              "color": "#E5ECF6",
              "width": 0.5
             },
             "pattern": {
              "fillmode": "overlay",
              "size": 10,
              "solidity": 0.2
             }
            },
            "type": "bar"
           }
          ],
          "barpolar": [
           {
            "marker": {
             "line": {
              "color": "#E5ECF6",
              "width": 0.5
             },
             "pattern": {
              "fillmode": "overlay",
              "size": 10,
              "solidity": 0.2
             }
            },
            "type": "barpolar"
           }
          ],
          "carpet": [
           {
            "aaxis": {
             "endlinecolor": "#2a3f5f",
             "gridcolor": "white",
             "linecolor": "white",
             "minorgridcolor": "white",
             "startlinecolor": "#2a3f5f"
            },
            "baxis": {
             "endlinecolor": "#2a3f5f",
             "gridcolor": "white",
             "linecolor": "white",
             "minorgridcolor": "white",
             "startlinecolor": "#2a3f5f"
            },
            "type": "carpet"
           }
          ],
          "choropleth": [
           {
            "colorbar": {
             "outlinewidth": 0,
             "ticks": ""
            },
            "type": "choropleth"
           }
          ],
          "contour": [
           {
            "colorbar": {
             "outlinewidth": 0,
             "ticks": ""
            },
            "colorscale": [
             [
              0,
              "#0d0887"
             ],
             [
              0.1111111111111111,
              "#46039f"
             ],
             [
              0.2222222222222222,
              "#7201a8"
             ],
             [
              0.3333333333333333,
              "#9c179e"
             ],
             [
              0.4444444444444444,
              "#bd3786"
             ],
             [
              0.5555555555555556,
              "#d8576b"
             ],
             [
              0.6666666666666666,
              "#ed7953"
             ],
             [
              0.7777777777777778,
              "#fb9f3a"
             ],
             [
              0.8888888888888888,
              "#fdca26"
             ],
             [
              1,
              "#f0f921"
             ]
            ],
            "type": "contour"
           }
          ],
          "contourcarpet": [
           {
            "colorbar": {
             "outlinewidth": 0,
             "ticks": ""
            },
            "type": "contourcarpet"
           }
          ],
          "heatmap": [
           {
            "colorbar": {
             "outlinewidth": 0,
             "ticks": ""
            },
            "colorscale": [
             [
              0,
              "#0d0887"
             ],
             [
              0.1111111111111111,
              "#46039f"
             ],
             [
              0.2222222222222222,
              "#7201a8"
             ],
             [
              0.3333333333333333,
              "#9c179e"
             ],
             [
              0.4444444444444444,
              "#bd3786"
             ],
             [
              0.5555555555555556,
              "#d8576b"
             ],
             [
              0.6666666666666666,
              "#ed7953"
             ],
             [
              0.7777777777777778,
              "#fb9f3a"
             ],
             [
              0.8888888888888888,
              "#fdca26"
             ],
             [
              1,
              "#f0f921"
             ]
            ],
            "type": "heatmap"
           }
          ],
          "histogram": [
           {
            "marker": {
             "pattern": {
              "fillmode": "overlay",
              "size": 10,
              "solidity": 0.2
             }
            },
            "type": "histogram"
           }
          ],
          "histogram2d": [
           {
            "colorbar": {
             "outlinewidth": 0,
             "ticks": ""
            },
            "colorscale": [
             [
              0,
              "#0d0887"
             ],
             [
              0.1111111111111111,
              "#46039f"
             ],
             [
              0.2222222222222222,
              "#7201a8"
             ],
             [
              0.3333333333333333,
              "#9c179e"
             ],
             [
              0.4444444444444444,
              "#bd3786"
             ],
             [
              0.5555555555555556,
              "#d8576b"
             ],
             [
              0.6666666666666666,
              "#ed7953"
             ],
             [
              0.7777777777777778,
              "#fb9f3a"
             ],
             [
              0.8888888888888888,
              "#fdca26"
             ],
             [
              1,
              "#f0f921"
             ]
            ],
            "type": "histogram2d"
           }
          ],
          "histogram2dcontour": [
           {
            "colorbar": {
             "outlinewidth": 0,
             "ticks": ""
            },
            "colorscale": [
             [
              0,
              "#0d0887"
             ],
             [
              0.1111111111111111,
              "#46039f"
             ],
             [
              0.2222222222222222,
              "#7201a8"
             ],
             [
              0.3333333333333333,
              "#9c179e"
             ],
             [
              0.4444444444444444,
              "#bd3786"
             ],
             [
              0.5555555555555556,
              "#d8576b"
             ],
             [
              0.6666666666666666,
              "#ed7953"
             ],
             [
              0.7777777777777778,
              "#fb9f3a"
             ],
             [
              0.8888888888888888,
              "#fdca26"
             ],
             [
              1,
              "#f0f921"
             ]
            ],
            "type": "histogram2dcontour"
           }
          ],
          "mesh3d": [
           {
            "colorbar": {
             "outlinewidth": 0,
             "ticks": ""
            },
            "type": "mesh3d"
           }
          ],
          "parcoords": [
           {
            "line": {
             "colorbar": {
              "outlinewidth": 0,
              "ticks": ""
             }
            },
            "type": "parcoords"
           }
          ],
          "pie": [
           {
            "automargin": true,
            "type": "pie"
           }
          ],
          "scatter": [
           {
            "fillpattern": {
             "fillmode": "overlay",
             "size": 10,
             "solidity": 0.2
            },
            "type": "scatter"
           }
          ],
          "scatter3d": [
           {
            "line": {
             "colorbar": {
              "outlinewidth": 0,
              "ticks": ""
             }
            },
            "marker": {
             "colorbar": {
              "outlinewidth": 0,
              "ticks": ""
             }
            },
            "type": "scatter3d"
           }
          ],
          "scattercarpet": [
           {
            "marker": {
             "colorbar": {
              "outlinewidth": 0,
              "ticks": ""
             }
            },
            "type": "scattercarpet"
           }
          ],
          "scattergeo": [
           {
            "marker": {
             "colorbar": {
              "outlinewidth": 0,
              "ticks": ""
             }
            },
            "type": "scattergeo"
           }
          ],
          "scattergl": [
           {
            "marker": {
             "colorbar": {
              "outlinewidth": 0,
              "ticks": ""
             }
            },
            "type": "scattergl"
           }
          ],
          "scattermap": [
           {
            "marker": {
             "colorbar": {
              "outlinewidth": 0,
              "ticks": ""
             }
            },
            "type": "scattermap"
           }
          ],
          "scattermapbox": [
           {
            "marker": {
             "colorbar": {
              "outlinewidth": 0,
              "ticks": ""
             }
            },
            "type": "scattermapbox"
           }
          ],
          "scatterpolar": [
           {
            "marker": {
             "colorbar": {
              "outlinewidth": 0,
              "ticks": ""
             }
            },
            "type": "scatterpolar"
           }
          ],
          "scatterpolargl": [
           {
            "marker": {
             "colorbar": {
              "outlinewidth": 0,
              "ticks": ""
             }
            },
            "type": "scatterpolargl"
           }
          ],
          "scatterternary": [
           {
            "marker": {
             "colorbar": {
              "outlinewidth": 0,
              "ticks": ""
             }
            },
            "type": "scatterternary"
           }
          ],
          "surface": [
           {
            "colorbar": {
             "outlinewidth": 0,
             "ticks": ""
            },
            "colorscale": [
             [
              0,
              "#0d0887"
             ],
             [
              0.1111111111111111,
              "#46039f"
             ],
             [
              0.2222222222222222,
              "#7201a8"
             ],
             [
              0.3333333333333333,
              "#9c179e"
             ],
             [
              0.4444444444444444,
              "#bd3786"
             ],
             [
              0.5555555555555556,
              "#d8576b"
             ],
             [
              0.6666666666666666,
              "#ed7953"
             ],
             [
              0.7777777777777778,
              "#fb9f3a"
             ],
             [
              0.8888888888888888,
              "#fdca26"
             ],
             [
              1,
              "#f0f921"
             ]
            ],
            "type": "surface"
           }
          ],
          "table": [
           {
            "cells": {
             "fill": {
              "color": "#EBF0F8"
             },
             "line": {
              "color": "white"
             }
            },
            "header": {
             "fill": {
              "color": "#C8D4E3"
             },
             "line": {
              "color": "white"
             }
            },
            "type": "table"
           }
          ]
         },
         "layout": {
          "annotationdefaults": {
           "arrowcolor": "#2a3f5f",
           "arrowhead": 0,
           "arrowwidth": 1
          },
          "autotypenumbers": "strict",
          "coloraxis": {
           "colorbar": {
            "outlinewidth": 0,
            "ticks": ""
           }
          },
          "colorscale": {
           "diverging": [
            [
             0,
             "#8e0152"
            ],
            [
             0.1,
             "#c51b7d"
            ],
            [
             0.2,
             "#de77ae"
            ],
            [
             0.3,
             "#f1b6da"
            ],
            [
             0.4,
             "#fde0ef"
            ],
            [
             0.5,
             "#f7f7f7"
            ],
            [
             0.6,
             "#e6f5d0"
            ],
            [
             0.7,
             "#b8e186"
            ],
            [
             0.8,
             "#7fbc41"
            ],
            [
             0.9,
             "#4d9221"
            ],
            [
             1,
             "#276419"
            ]
           ],
           "sequential": [
            [
             0,
             "#0d0887"
            ],
            [
             0.1111111111111111,
             "#46039f"
            ],
            [
             0.2222222222222222,
             "#7201a8"
            ],
            [
             0.3333333333333333,
             "#9c179e"
            ],
            [
             0.4444444444444444,
             "#bd3786"
            ],
            [
             0.5555555555555556,
             "#d8576b"
            ],
            [
             0.6666666666666666,
             "#ed7953"
            ],
            [
             0.7777777777777778,
             "#fb9f3a"
            ],
            [
             0.8888888888888888,
             "#fdca26"
            ],
            [
             1,
             "#f0f921"
            ]
           ],
           "sequentialminus": [
            [
             0,
             "#0d0887"
            ],
            [
             0.1111111111111111,
             "#46039f"
            ],
            [
             0.2222222222222222,
             "#7201a8"
            ],
            [
             0.3333333333333333,
             "#9c179e"
            ],
            [
             0.4444444444444444,
             "#bd3786"
            ],
            [
             0.5555555555555556,
             "#d8576b"
            ],
            [
             0.6666666666666666,
             "#ed7953"
            ],
            [
             0.7777777777777778,
             "#fb9f3a"
            ],
            [
             0.8888888888888888,
             "#fdca26"
            ],
            [
             1,
             "#f0f921"
            ]
           ]
          },
          "colorway": [
           "#636efa",
           "#EF553B",
           "#00cc96",
           "#ab63fa",
           "#FFA15A",
           "#19d3f3",
           "#FF6692",
           "#B6E880",
           "#FF97FF",
           "#FECB52"
          ],
          "font": {
           "color": "#2a3f5f"
          },
          "geo": {
           "bgcolor": "white",
           "lakecolor": "white",
           "landcolor": "#E5ECF6",
           "showlakes": true,
           "showland": true,
           "subunitcolor": "white"
          },
          "hoverlabel": {
           "align": "left"
          },
          "hovermode": "closest",
          "mapbox": {
           "style": "light"
          },
          "paper_bgcolor": "white",
          "plot_bgcolor": "#E5ECF6",
          "polar": {
           "angularaxis": {
            "gridcolor": "white",
            "linecolor": "white",
            "ticks": ""
           },
           "bgcolor": "#E5ECF6",
           "radialaxis": {
            "gridcolor": "white",
            "linecolor": "white",
            "ticks": ""
           }
          },
          "scene": {
           "xaxis": {
            "backgroundcolor": "#E5ECF6",
            "gridcolor": "white",
            "gridwidth": 2,
            "linecolor": "white",
            "showbackground": true,
            "ticks": "",
            "zerolinecolor": "white"
           },
           "yaxis": {
            "backgroundcolor": "#E5ECF6",
            "gridcolor": "white",
            "gridwidth": 2,
            "linecolor": "white",
            "showbackground": true,
            "ticks": "",
            "zerolinecolor": "white"
           },
           "zaxis": {
            "backgroundcolor": "#E5ECF6",
            "gridcolor": "white",
            "gridwidth": 2,
            "linecolor": "white",
            "showbackground": true,
            "ticks": "",
            "zerolinecolor": "white"
           }
          },
          "shapedefaults": {
           "line": {
            "color": "#2a3f5f"
           }
          },
          "ternary": {
           "aaxis": {
            "gridcolor": "white",
            "linecolor": "white",
            "ticks": ""
           },
           "baxis": {
            "gridcolor": "white",
            "linecolor": "white",
            "ticks": ""
           },
           "bgcolor": "#E5ECF6",
           "caxis": {
            "gridcolor": "white",
            "linecolor": "white",
            "ticks": ""
           }
          },
          "title": {
           "x": 0.05
          },
          "xaxis": {
           "automargin": true,
           "gridcolor": "white",
           "linecolor": "white",
           "ticks": "",
           "title": {
            "standoff": 15
           },
           "zerolinecolor": "white",
           "zerolinewidth": 2
          },
          "yaxis": {
           "automargin": true,
           "gridcolor": "white",
           "linecolor": "white",
           "ticks": "",
           "title": {
            "standoff": 15
           },
           "zerolinecolor": "white",
           "zerolinewidth": 2
          }
         }
        },
        "title": {
         "text": "Top 30 Most Frequent Terms in Dataset"
        },
        "width": 900,
        "xaxis": {
         "anchor": "y",
         "domain": [
          0,
          1
         ],
         "tickangle": 90,
         "title": {
          "text": "term"
         }
        },
        "yaxis": {
         "anchor": "x",
         "domain": [
          0,
          1
         ],
         "title": {
          "text": "frequency"
         }
        }
       }
      }
     },
     "metadata": {},
     "output_type": "display_data"
    }
   ],
   "source": [
    "# Create bar chart for top 30 terms\n",
    "fig = px.bar(df_terms, x=\"term\", y=\"frequency\", title=f\"Top {top_n} Most Frequent Terms in Dataset\")\n",
    "\n",
    "# Update layout for readability\n",
    "fig.update_layout(\n",
    "    xaxis_tickangle=90,\n",
    "    width=900,\n",
    "    height=500,\n",
    "    bargap=0.2,\n",
    "    font=dict(size=12)\n",
    ")\n",
    "\n",
    "# Show the figure\n",
    "fig.show()\n"
   ]
  },
  {
   "cell_type": "markdown",
   "metadata": {},
   "source": [
    "### **Exercise 14**"
   ]
  },
  {
   "cell_type": "code",
   "execution_count": null,
   "metadata": {},
   "outputs": [],
   "source": [
    "import numpy as np\n",
    "import pandas as pd\n",
    "import plotly.express as px\n",
    "\n",
    "# Compute term frequencies across all documents\n",
    "term_frequencies = np.asarray(X_counts.sum(axis=0)).flatten()  # shape (num_terms,)\n",
    "\n",
    "# Sort terms in descending order of frequency\n",
    "sorted_idx = np.argsort(term_frequencies)[::-1]\n",
    "\n",
    "# Select top N terms\n",
    "top_n = 100\n",
    "terms = count_vect.get_feature_names_out()[sorted_idx[:top_n]]\n",
    "freqs = term_frequencies[sorted_idx[:top_n]]\n",
    "\n",
    "# Create DataFrame for plotting\n",
    "df_terms = pd.DataFrame({\"term\": terms, \"frequency\": freqs})\n",
    "\n",
    "# Sort DataFrame by frequency descending (for long-tail visualization)\n",
    "df_terms = df_terms.sort_values(by=\"frequency\", ascending=False)\n"
   ]
  },
  {
   "cell_type": "code",
   "execution_count": null,
   "metadata": {},
   "outputs": [
    {
     "data": {
      "application/vnd.plotly.v1+json": {
       "config": {
        "plotlyServerURL": "https://plot.ly"
       },
       "data": [
        {
         "hovertemplate": "term=%{x}<br>frequency=%{y}<extra></extra>",
         "legendgroup": "",
         "marker": {
          "color": "#636efa",
          "pattern": {
           "shape": ""
          }
         },
         "name": "",
         "orientation": "v",
         "showlegend": false,
         "textposition": "auto",
         "type": "bar",
         "x": [
          "the",
          "to",
          "is",
          "and",
          "in",
          "of",
          "it",
          "you",
          "on",
          "for",
          "trump",
          "us",
          "with",
          "this",
          "that",
          "2025",
          "china",
          "are",
          "not",
          "thread",
          "they",
          "now",
          "all",
          "at",
          "has",
          "weekend",
          "discussion",
          "tariffs",
          "11",
          "like",
          "my",
          "but",
          "stocks",
          "if",
          "their",
          "silver",
          "an",
          "about",
          "can",
          "do",
          "market",
          "his",
          "tariff",
          "be",
          "one",
          "dollar",
          "after",
          "how",
          "have",
          "trading",
          "he",
          "as",
          "will",
          "there",
          "so",
          "april",
          "right",
          "stock",
          "fundamentals",
          "just",
          "treasuries",
          "or",
          "president",
          "xi",
          "daily",
          "friday",
          "125",
          "still",
          "policy",
          "own",
          "day",
          "by",
          "look",
          "goods",
          "no",
          "more",
          "campaign",
          "allies",
          "only",
          "apr",
          "decision",
          "feel",
          "company",
          "was",
          "administration",
          "data",
          "what",
          "awful",
          "its",
          "out",
          "off",
          "sitting",
          "sell",
          "10",
          "seeing",
          "portfolio",
          "media",
          "making",
          "someone",
          "quarterly"
         ],
         "xaxis": "x",
         "y": {
          "bdata": "iABcAD8AOgA5ADYAKAAlACQAIwAjAB0AHAAbABkAFwAWABUAFAAUABMAEgASABIAEQARABEAEQARABAAEAAQAA8ADwAOAA0ADQANAA0ADQANAA0ADQAMAAwADAAMAAwACwALAAsACwALAAsACwAKAAoACgAKAAoACgAKAAoACQAJAAkACQAJAAkACQAJAAkACQAJAAkACQAIAAgACAAIAAgACAAIAAgACAAIAAgACAAIAAgACAAIAAgACAAIAAgACAAIAAcABwA=",
          "dtype": "i2"
         },
         "yaxis": "y"
        }
       ],
       "layout": {
        "bargap": 0.15,
        "barmode": "relative",
        "font": {
         "size": 12
        },
        "height": 500,
        "legend": {
         "tracegroupgap": 0
        },
        "template": {
         "data": {
          "bar": [
           {
            "error_x": {
             "color": "#2a3f5f"
            },
            "error_y": {
             "color": "#2a3f5f"
            },
            "marker": {
             "line": {
              "color": "#E5ECF6",
              "width": 0.5
             },
             "pattern": {
              "fillmode": "overlay",
              "size": 10,
              "solidity": 0.2
             }
            },
            "type": "bar"
           }
          ],
          "barpolar": [
           {
            "marker": {
             "line": {
              "color": "#E5ECF6",
              "width": 0.5
             },
             "pattern": {
              "fillmode": "overlay",
              "size": 10,
              "solidity": 0.2
             }
            },
            "type": "barpolar"
           }
          ],
          "carpet": [
           {
            "aaxis": {
             "endlinecolor": "#2a3f5f",
             "gridcolor": "white",
             "linecolor": "white",
             "minorgridcolor": "white",
             "startlinecolor": "#2a3f5f"
            },
            "baxis": {
             "endlinecolor": "#2a3f5f",
             "gridcolor": "white",
             "linecolor": "white",
             "minorgridcolor": "white",
             "startlinecolor": "#2a3f5f"
            },
            "type": "carpet"
           }
          ],
          "choropleth": [
           {
            "colorbar": {
             "outlinewidth": 0,
             "ticks": ""
            },
            "type": "choropleth"
           }
          ],
          "contour": [
           {
            "colorbar": {
             "outlinewidth": 0,
             "ticks": ""
            },
            "colorscale": [
             [
              0,
              "#0d0887"
             ],
             [
              0.1111111111111111,
              "#46039f"
             ],
             [
              0.2222222222222222,
              "#7201a8"
             ],
             [
              0.3333333333333333,
              "#9c179e"
             ],
             [
              0.4444444444444444,
              "#bd3786"
             ],
             [
              0.5555555555555556,
              "#d8576b"
             ],
             [
              0.6666666666666666,
              "#ed7953"
             ],
             [
              0.7777777777777778,
              "#fb9f3a"
             ],
             [
              0.8888888888888888,
              "#fdca26"
             ],
             [
              1,
              "#f0f921"
             ]
            ],
            "type": "contour"
           }
          ],
          "contourcarpet": [
           {
            "colorbar": {
             "outlinewidth": 0,
             "ticks": ""
            },
            "type": "contourcarpet"
           }
          ],
          "heatmap": [
           {
            "colorbar": {
             "outlinewidth": 0,
             "ticks": ""
            },
            "colorscale": [
             [
              0,
              "#0d0887"
             ],
             [
              0.1111111111111111,
              "#46039f"
             ],
             [
              0.2222222222222222,
              "#7201a8"
             ],
             [
              0.3333333333333333,
              "#9c179e"
             ],
             [
              0.4444444444444444,
              "#bd3786"
             ],
             [
              0.5555555555555556,
              "#d8576b"
             ],
             [
              0.6666666666666666,
              "#ed7953"
             ],
             [
              0.7777777777777778,
              "#fb9f3a"
             ],
             [
              0.8888888888888888,
              "#fdca26"
             ],
             [
              1,
              "#f0f921"
             ]
            ],
            "type": "heatmap"
           }
          ],
          "histogram": [
           {
            "marker": {
             "pattern": {
              "fillmode": "overlay",
              "size": 10,
              "solidity": 0.2
             }
            },
            "type": "histogram"
           }
          ],
          "histogram2d": [
           {
            "colorbar": {
             "outlinewidth": 0,
             "ticks": ""
            },
            "colorscale": [
             [
              0,
              "#0d0887"
             ],
             [
              0.1111111111111111,
              "#46039f"
             ],
             [
              0.2222222222222222,
              "#7201a8"
             ],
             [
              0.3333333333333333,
              "#9c179e"
             ],
             [
              0.4444444444444444,
              "#bd3786"
             ],
             [
              0.5555555555555556,
              "#d8576b"
             ],
             [
              0.6666666666666666,
              "#ed7953"
             ],
             [
              0.7777777777777778,
              "#fb9f3a"
             ],
             [
              0.8888888888888888,
              "#fdca26"
             ],
             [
              1,
              "#f0f921"
             ]
            ],
            "type": "histogram2d"
           }
          ],
          "histogram2dcontour": [
           {
            "colorbar": {
             "outlinewidth": 0,
             "ticks": ""
            },
            "colorscale": [
             [
              0,
              "#0d0887"
             ],
             [
              0.1111111111111111,
              "#46039f"
             ],
             [
              0.2222222222222222,
              "#7201a8"
             ],
             [
              0.3333333333333333,
              "#9c179e"
             ],
             [
              0.4444444444444444,
              "#bd3786"
             ],
             [
              0.5555555555555556,
              "#d8576b"
             ],
             [
              0.6666666666666666,
              "#ed7953"
             ],
             [
              0.7777777777777778,
              "#fb9f3a"
             ],
             [
              0.8888888888888888,
              "#fdca26"
             ],
             [
              1,
              "#f0f921"
             ]
            ],
            "type": "histogram2dcontour"
           }
          ],
          "mesh3d": [
           {
            "colorbar": {
             "outlinewidth": 0,
             "ticks": ""
            },
            "type": "mesh3d"
           }
          ],
          "parcoords": [
           {
            "line": {
             "colorbar": {
              "outlinewidth": 0,
              "ticks": ""
             }
            },
            "type": "parcoords"
           }
          ],
          "pie": [
           {
            "automargin": true,
            "type": "pie"
           }
          ],
          "scatter": [
           {
            "fillpattern": {
             "fillmode": "overlay",
             "size": 10,
             "solidity": 0.2
            },
            "type": "scatter"
           }
          ],
          "scatter3d": [
           {
            "line": {
             "colorbar": {
              "outlinewidth": 0,
              "ticks": ""
             }
            },
            "marker": {
             "colorbar": {
              "outlinewidth": 0,
              "ticks": ""
             }
            },
            "type": "scatter3d"
           }
          ],
          "scattercarpet": [
           {
            "marker": {
             "colorbar": {
              "outlinewidth": 0,
              "ticks": ""
             }
            },
            "type": "scattercarpet"
           }
          ],
          "scattergeo": [
           {
            "marker": {
             "colorbar": {
              "outlinewidth": 0,
              "ticks": ""
             }
            },
            "type": "scattergeo"
           }
          ],
          "scattergl": [
           {
            "marker": {
             "colorbar": {
              "outlinewidth": 0,
              "ticks": ""
             }
            },
            "type": "scattergl"
           }
          ],
          "scattermap": [
           {
            "marker": {
             "colorbar": {
              "outlinewidth": 0,
              "ticks": ""
             }
            },
            "type": "scattermap"
           }
          ],
          "scattermapbox": [
           {
            "marker": {
             "colorbar": {
              "outlinewidth": 0,
              "ticks": ""
             }
            },
            "type": "scattermapbox"
           }
          ],
          "scatterpolar": [
           {
            "marker": {
             "colorbar": {
              "outlinewidth": 0,
              "ticks": ""
             }
            },
            "type": "scatterpolar"
           }
          ],
          "scatterpolargl": [
           {
            "marker": {
             "colorbar": {
              "outlinewidth": 0,
              "ticks": ""
             }
            },
            "type": "scatterpolargl"
           }
          ],
          "scatterternary": [
           {
            "marker": {
             "colorbar": {
              "outlinewidth": 0,
              "ticks": ""
             }
            },
            "type": "scatterternary"
           }
          ],
          "surface": [
           {
            "colorbar": {
             "outlinewidth": 0,
             "ticks": ""
            },
            "colorscale": [
             [
              0,
              "#0d0887"
             ],
             [
              0.1111111111111111,
              "#46039f"
             ],
             [
              0.2222222222222222,
              "#7201a8"
             ],
             [
              0.3333333333333333,
              "#9c179e"
             ],
             [
              0.4444444444444444,
              "#bd3786"
             ],
             [
              0.5555555555555556,
              "#d8576b"
             ],
             [
              0.6666666666666666,
              "#ed7953"
             ],
             [
              0.7777777777777778,
              "#fb9f3a"
             ],
             [
              0.8888888888888888,
              "#fdca26"
             ],
             [
              1,
              "#f0f921"
             ]
            ],
            "type": "surface"
           }
          ],
          "table": [
           {
            "cells": {
             "fill": {
              "color": "#EBF0F8"
             },
             "line": {
              "color": "white"
             }
            },
            "header": {
             "fill": {
              "color": "#C8D4E3"
             },
             "line": {
              "color": "white"
             }
            },
            "type": "table"
           }
          ]
         },
         "layout": {
          "annotationdefaults": {
           "arrowcolor": "#2a3f5f",
           "arrowhead": 0,
           "arrowwidth": 1
          },
          "autotypenumbers": "strict",
          "coloraxis": {
           "colorbar": {
            "outlinewidth": 0,
            "ticks": ""
           }
          },
          "colorscale": {
           "diverging": [
            [
             0,
             "#8e0152"
            ],
            [
             0.1,
             "#c51b7d"
            ],
            [
             0.2,
             "#de77ae"
            ],
            [
             0.3,
             "#f1b6da"
            ],
            [
             0.4,
             "#fde0ef"
            ],
            [
             0.5,
             "#f7f7f7"
            ],
            [
             0.6,
             "#e6f5d0"
            ],
            [
             0.7,
             "#b8e186"
            ],
            [
             0.8,
             "#7fbc41"
            ],
            [
             0.9,
             "#4d9221"
            ],
            [
             1,
             "#276419"
            ]
           ],
           "sequential": [
            [
             0,
             "#0d0887"
            ],
            [
             0.1111111111111111,
             "#46039f"
            ],
            [
             0.2222222222222222,
             "#7201a8"
            ],
            [
             0.3333333333333333,
             "#9c179e"
            ],
            [
             0.4444444444444444,
             "#bd3786"
            ],
            [
             0.5555555555555556,
             "#d8576b"
            ],
            [
             0.6666666666666666,
             "#ed7953"
            ],
            [
             0.7777777777777778,
             "#fb9f3a"
            ],
            [
             0.8888888888888888,
             "#fdca26"
            ],
            [
             1,
             "#f0f921"
            ]
           ],
           "sequentialminus": [
            [
             0,
             "#0d0887"
            ],
            [
             0.1111111111111111,
             "#46039f"
            ],
            [
             0.2222222222222222,
             "#7201a8"
            ],
            [
             0.3333333333333333,
             "#9c179e"
            ],
            [
             0.4444444444444444,
             "#bd3786"
            ],
            [
             0.5555555555555556,
             "#d8576b"
            ],
            [
             0.6666666666666666,
             "#ed7953"
            ],
            [
             0.7777777777777778,
             "#fb9f3a"
            ],
            [
             0.8888888888888888,
             "#fdca26"
            ],
            [
             1,
             "#f0f921"
            ]
           ]
          },
          "colorway": [
           "#636efa",
           "#EF553B",
           "#00cc96",
           "#ab63fa",
           "#FFA15A",
           "#19d3f3",
           "#FF6692",
           "#B6E880",
           "#FF97FF",
           "#FECB52"
          ],
          "font": {
           "color": "#2a3f5f"
          },
          "geo": {
           "bgcolor": "white",
           "lakecolor": "white",
           "landcolor": "#E5ECF6",
           "showlakes": true,
           "showland": true,
           "subunitcolor": "white"
          },
          "hoverlabel": {
           "align": "left"
          },
          "hovermode": "closest",
          "mapbox": {
           "style": "light"
          },
          "paper_bgcolor": "white",
          "plot_bgcolor": "#E5ECF6",
          "polar": {
           "angularaxis": {
            "gridcolor": "white",
            "linecolor": "white",
            "ticks": ""
           },
           "bgcolor": "#E5ECF6",
           "radialaxis": {
            "gridcolor": "white",
            "linecolor": "white",
            "ticks": ""
           }
          },
          "scene": {
           "xaxis": {
            "backgroundcolor": "#E5ECF6",
            "gridcolor": "white",
            "gridwidth": 2,
            "linecolor": "white",
            "showbackground": true,
            "ticks": "",
            "zerolinecolor": "white"
           },
           "yaxis": {
            "backgroundcolor": "#E5ECF6",
            "gridcolor": "white",
            "gridwidth": 2,
            "linecolor": "white",
            "showbackground": true,
            "ticks": "",
            "zerolinecolor": "white"
           },
           "zaxis": {
            "backgroundcolor": "#E5ECF6",
            "gridcolor": "white",
            "gridwidth": 2,
            "linecolor": "white",
            "showbackground": true,
            "ticks": "",
            "zerolinecolor": "white"
           }
          },
          "shapedefaults": {
           "line": {
            "color": "#2a3f5f"
           }
          },
          "ternary": {
           "aaxis": {
            "gridcolor": "white",
            "linecolor": "white",
            "ticks": ""
           },
           "baxis": {
            "gridcolor": "white",
            "linecolor": "white",
            "ticks": ""
           },
           "bgcolor": "#E5ECF6",
           "caxis": {
            "gridcolor": "white",
            "linecolor": "white",
            "ticks": ""
           }
          },
          "title": {
           "x": 0.05
          },
          "xaxis": {
           "automargin": true,
           "gridcolor": "white",
           "linecolor": "white",
           "ticks": "",
           "title": {
            "standoff": 15
           },
           "zerolinecolor": "white",
           "zerolinewidth": 2
          },
          "yaxis": {
           "automargin": true,
           "gridcolor": "white",
           "linecolor": "white",
           "ticks": "",
           "title": {
            "standoff": 15
           },
           "zerolinecolor": "white",
           "zerolinewidth": 2
          }
         }
        },
        "title": {
         "text": "Top 100 Most Frequent Terms (sorted by frequency)"
        },
        "width": 1000,
        "xaxis": {
         "anchor": "y",
         "domain": [
          0,
          1
         ],
         "tickangle": 90,
         "title": {
          "text": "term"
         }
        },
        "yaxis": {
         "anchor": "x",
         "domain": [
          0,
          1
         ],
         "title": {
          "text": "frequency"
         }
        }
       }
      }
     },
     "metadata": {},
     "output_type": "display_data"
    }
   ],
   "source": [
    "# Create bar chart\n",
    "fig = px.bar(df_terms, x=\"term\", y=\"frequency\", \n",
    "             title=f\"Top {top_n} Most Frequent Terms (sorted by frequency)\")\n",
    "\n",
    "# Update layout for readability\n",
    "fig.update_layout(\n",
    "    xaxis_tickangle=90,\n",
    "    width=1000,\n",
    "    height=500,\n",
    "    bargap=0.15,\n",
    "    font=dict(size=12)\n",
    ")\n",
    "\n",
    "fig.show()\n"
   ]
  },
  {
   "cell_type": "markdown",
   "metadata": {},
   "source": [
    "### **Exercise 15**"
   ]
  },
  {
   "cell_type": "code",
   "execution_count": null,
   "metadata": {},
   "outputs": [],
   "source": [
    "import numpy as np\n",
    "import pandas as pd\n",
    "import plotly.express as px\n",
    "\n",
    "# Compute term frequencies across all documents\n",
    "term_frequencies = np.asarray(X_counts.sum(axis=0)).flatten()  # shape (num_terms,)\n",
    "\n",
    "# Log-transform frequencies (+1 to avoid log(0))\n",
    "term_frequencies_log = np.log(term_frequencies + 1)\n",
    "\n",
    "# Sort terms by original frequency (descending) for top_n selection\n",
    "sorted_idx = np.argsort(term_frequencies)[::-1]\n",
    "top_n = 100\n",
    "\n",
    "# Select top N terms\n",
    "terms = count_vect.get_feature_names_out()[sorted_idx[:top_n]]\n",
    "freqs_log = term_frequencies_log[sorted_idx[:top_n]]\n",
    "\n",
    "# Create DataFrame for plotting\n",
    "df_terms_log = pd.DataFrame({\n",
    "    \"term\": terms,\n",
    "    \"log_frequency\": freqs_log\n",
    "})\n"
   ]
  },
  {
   "cell_type": "code",
   "execution_count": null,
   "metadata": {},
   "outputs": [
    {
     "data": {
      "application/vnd.plotly.v1+json": {
       "config": {
        "plotlyServerURL": "https://plot.ly"
       },
       "data": [
        {
         "hovertemplate": "term=%{x}<br>log_frequency=%{marker.color}<extra></extra>",
         "legendgroup": "",
         "marker": {
          "color": {
           "bdata": "b3xPZUVNG0CgmTkmh1wZQD4WJaz6xBhA1VvhOen+F0BwiJrxcXEXQKXc4dPV+BZAvexTTk+jFkCaILUP5ucVQFXZBYmIexVAmY6easJ2FUCnu9cWyhwVQIQEycoIlxRAZ5UCdA0zFEBTADjOsREUQJUl/VkAnxNALPCOrrePE0Cx8hqfemgTQEIuYJRyYBNAyXlEPGQmE0CLjaUlrQMTQI2zCSu+3xJABlUBs/DDEkDEUMCbgLoSQOKbNjXbkxJAanT4tgFXEkBqdPi2AVcSQPhL5QiBTBJA+KQHfuRBEkDjvP2AKzcSQHDW88JhIRJAcNbzwmEhEkAQLDEbzv8RQPaKrhdd9BFARr3pakDREUDUZfYJKLkRQGWdpgJ7oBFAZZ2mAnugEUA8MkyHDmARQOYvIjNuKRFA5i8iM24pEUDmLyIzbikRQDnOu6DG4BBAc6s7P7KiEEAbGOPokZIQQBsY4+iRkhBA69wnhC+CEEB5Kcf5ZU8QQE1GxsXkPRBAUGwqy/UZEEBQbCrL9RkQQPP+ulmCBxBADBPCd3DpD0CrPCJoKMMPQKs8Imgoww9AqzwiaCjDD0CrPCJoKMMPQEmprqolnA9ASamuqiWcD0BJqa6qJZwPQP8AUf9gdA9AV1oyrnIiD0B1u1A8OPgOQLbwkC8azQ5AtvCQLxrNDkBsQpC9DqEOQGxCkL0OoQ5AbEKQvQ6hDkBDVPw2BUYOQBHsFBbwFg5ALT0uVL/mDUAtPS5Uv+YNQA1yMjvTgg1ADXIyO9OCDUDWDYho+U4NQKhBw8XGGQ1AqEHDxcYZDUC9xzruKOMMQL3HOu4o4wxAvcc67ijjDEC9xzruKOMMQL3HOu4o4wxAAiAq+gurDEDF8w9TWnEMQMXzD1NacQxAxfMPU1pxDED2DbmB/DUMQNG41fTY+AtA0bjV9Nj4C0DRuNX02PgLQGvIuL7TuQtAWiuRSM54C0BaK5FIzngLQForkUjOeAtAm9YL+aY1C0Cb1gv5pjULQB/+zcs48ApAH/7NyzjwCkAjSpbWWqgKQCNKltZaqApAI0qW1lqoCkA=",
           "dtype": "f8"
          },
          "coloraxis": "coloraxis",
          "pattern": {
           "shape": ""
          }
         },
         "name": "",
         "orientation": "v",
         "showlegend": false,
         "textposition": "auto",
         "type": "bar",
         "x": [
          "the",
          "to",
          "and",
          "is",
          "it",
          "of",
          "in",
          "that",
          "for",
          "this",
          "you",
          "on",
          "are",
          "they",
          "be",
          "he",
          "will",
          "with",
          "if",
          "as",
          "market",
          "but",
          "not",
          "so",
          "have",
          "all",
          "us",
          "just",
          "was",
          "at",
          "trump",
          "my",
          "what",
          "can",
          "like",
          "we",
          "or",
          "has",
          "china",
          "about",
          "their",
          "more",
          "from",
          "now",
          "there",
          "no",
          "by",
          "re",
          "how",
          "up",
          "one",
          "do",
          "even",
          "some",
          "them",
          "think",
          "stock",
          "his",
          "people",
          "going",
          "your",
          "an",
          "money",
          "good",
          "any",
          "would",
          "out",
          "see",
          "when",
          "who",
          "than",
          "only",
          "tariffs",
          "why",
          "been",
          "get",
          "him",
          "other",
          "make",
          "price",
          "time",
          "want",
          "into",
          "me",
          "don",
          "then",
          "over",
          "down",
          "doing",
          "could",
          "because",
          "silver",
          "futures",
          "company",
          "right",
          "x200b",
          "still",
          "after",
          "should",
          "years"
         ],
         "xaxis": "x",
         "y": {
          "bdata": "b3xPZUVNG0CgmTkmh1wZQD4WJaz6xBhA1VvhOen+F0BwiJrxcXEXQKXc4dPV+BZAvexTTk+jFkCaILUP5ucVQFXZBYmIexVAmY6easJ2FUCnu9cWyhwVQIQEycoIlxRAZ5UCdA0zFEBTADjOsREUQJUl/VkAnxNALPCOrrePE0Cx8hqfemgTQEIuYJRyYBNAyXlEPGQmE0CLjaUlrQMTQI2zCSu+3xJABlUBs/DDEkDEUMCbgLoSQOKbNjXbkxJAanT4tgFXEkBqdPi2AVcSQPhL5QiBTBJA+KQHfuRBEkDjvP2AKzcSQHDW88JhIRJAcNbzwmEhEkAQLDEbzv8RQPaKrhdd9BFARr3pakDREUDUZfYJKLkRQGWdpgJ7oBFAZZ2mAnugEUA8MkyHDmARQOYvIjNuKRFA5i8iM24pEUDmLyIzbikRQDnOu6DG4BBAc6s7P7KiEEAbGOPokZIQQBsY4+iRkhBA69wnhC+CEEB5Kcf5ZU8QQE1GxsXkPRBAUGwqy/UZEEBQbCrL9RkQQPP+ulmCBxBADBPCd3DpD0CrPCJoKMMPQKs8Imgoww9AqzwiaCjDD0CrPCJoKMMPQEmprqolnA9ASamuqiWcD0BJqa6qJZwPQP8AUf9gdA9AV1oyrnIiD0B1u1A8OPgOQLbwkC8azQ5AtvCQLxrNDkBsQpC9DqEOQGxCkL0OoQ5AbEKQvQ6hDkBDVPw2BUYOQBHsFBbwFg5ALT0uVL/mDUAtPS5Uv+YNQA1yMjvTgg1ADXIyO9OCDUDWDYho+U4NQKhBw8XGGQ1AqEHDxcYZDUC9xzruKOMMQL3HOu4o4wxAvcc67ijjDEC9xzruKOMMQL3HOu4o4wxAAiAq+gurDEDF8w9TWnEMQMXzD1NacQxAxfMPU1pxDED2DbmB/DUMQNG41fTY+AtA0bjV9Nj4C0DRuNX02PgLQGvIuL7TuQtAWiuRSM54C0BaK5FIzngLQForkUjOeAtAm9YL+aY1C0Cb1gv5pjULQB/+zcs48ApAH/7NyzjwCkAjSpbWWqgKQCNKltZaqApAI0qW1lqoCkA=",
          "dtype": "f8"
         },
         "yaxis": "y"
        }
       ],
       "layout": {
        "bargap": 0.15,
        "barmode": "relative",
        "coloraxis": {
         "colorbar": {
          "title": {
           "text": "log_frequency"
          }
         },
         "colorscale": [
          [
           0,
           "#440154"
          ],
          [
           0.1111111111111111,
           "#482878"
          ],
          [
           0.2222222222222222,
           "#3e4989"
          ],
          [
           0.3333333333333333,
           "#31688e"
          ],
          [
           0.4444444444444444,
           "#26828e"
          ],
          [
           0.5555555555555556,
           "#1f9e89"
          ],
          [
           0.6666666666666666,
           "#35b779"
          ],
          [
           0.7777777777777778,
           "#6ece58"
          ],
          [
           0.8888888888888888,
           "#b5de2b"
          ],
          [
           1,
           "#fde725"
          ]
         ]
        },
        "font": {
         "size": 12
        },
        "height": 500,
        "legend": {
         "tracegroupgap": 0
        },
        "template": {
         "data": {
          "bar": [
           {
            "error_x": {
             "color": "#2a3f5f"
            },
            "error_y": {
             "color": "#2a3f5f"
            },
            "marker": {
             "line": {
              "color": "#E5ECF6",
              "width": 0.5
             },
             "pattern": {
              "fillmode": "overlay",
              "size": 10,
              "solidity": 0.2
             }
            },
            "type": "bar"
           }
          ],
          "barpolar": [
           {
            "marker": {
             "line": {
              "color": "#E5ECF6",
              "width": 0.5
             },
             "pattern": {
              "fillmode": "overlay",
              "size": 10,
              "solidity": 0.2
             }
            },
            "type": "barpolar"
           }
          ],
          "carpet": [
           {
            "aaxis": {
             "endlinecolor": "#2a3f5f",
             "gridcolor": "white",
             "linecolor": "white",
             "minorgridcolor": "white",
             "startlinecolor": "#2a3f5f"
            },
            "baxis": {
             "endlinecolor": "#2a3f5f",
             "gridcolor": "white",
             "linecolor": "white",
             "minorgridcolor": "white",
             "startlinecolor": "#2a3f5f"
            },
            "type": "carpet"
           }
          ],
          "choropleth": [
           {
            "colorbar": {
             "outlinewidth": 0,
             "ticks": ""
            },
            "type": "choropleth"
           }
          ],
          "contour": [
           {
            "colorbar": {
             "outlinewidth": 0,
             "ticks": ""
            },
            "colorscale": [
             [
              0,
              "#0d0887"
             ],
             [
              0.1111111111111111,
              "#46039f"
             ],
             [
              0.2222222222222222,
              "#7201a8"
             ],
             [
              0.3333333333333333,
              "#9c179e"
             ],
             [
              0.4444444444444444,
              "#bd3786"
             ],
             [
              0.5555555555555556,
              "#d8576b"
             ],
             [
              0.6666666666666666,
              "#ed7953"
             ],
             [
              0.7777777777777778,
              "#fb9f3a"
             ],
             [
              0.8888888888888888,
              "#fdca26"
             ],
             [
              1,
              "#f0f921"
             ]
            ],
            "type": "contour"
           }
          ],
          "contourcarpet": [
           {
            "colorbar": {
             "outlinewidth": 0,
             "ticks": ""
            },
            "type": "contourcarpet"
           }
          ],
          "heatmap": [
           {
            "colorbar": {
             "outlinewidth": 0,
             "ticks": ""
            },
            "colorscale": [
             [
              0,
              "#0d0887"
             ],
             [
              0.1111111111111111,
              "#46039f"
             ],
             [
              0.2222222222222222,
              "#7201a8"
             ],
             [
              0.3333333333333333,
              "#9c179e"
             ],
             [
              0.4444444444444444,
              "#bd3786"
             ],
             [
              0.5555555555555556,
              "#d8576b"
             ],
             [
              0.6666666666666666,
              "#ed7953"
             ],
             [
              0.7777777777777778,
              "#fb9f3a"
             ],
             [
              0.8888888888888888,
              "#fdca26"
             ],
             [
              1,
              "#f0f921"
             ]
            ],
            "type": "heatmap"
           }
          ],
          "histogram": [
           {
            "marker": {
             "pattern": {
              "fillmode": "overlay",
              "size": 10,
              "solidity": 0.2
             }
            },
            "type": "histogram"
           }
          ],
          "histogram2d": [
           {
            "colorbar": {
             "outlinewidth": 0,
             "ticks": ""
            },
            "colorscale": [
             [
              0,
              "#0d0887"
             ],
             [
              0.1111111111111111,
              "#46039f"
             ],
             [
              0.2222222222222222,
              "#7201a8"
             ],
             [
              0.3333333333333333,
              "#9c179e"
             ],
             [
              0.4444444444444444,
              "#bd3786"
             ],
             [
              0.5555555555555556,
              "#d8576b"
             ],
             [
              0.6666666666666666,
              "#ed7953"
             ],
             [
              0.7777777777777778,
              "#fb9f3a"
             ],
             [
              0.8888888888888888,
              "#fdca26"
             ],
             [
              1,
              "#f0f921"
             ]
            ],
            "type": "histogram2d"
           }
          ],
          "histogram2dcontour": [
           {
            "colorbar": {
             "outlinewidth": 0,
             "ticks": ""
            },
            "colorscale": [
             [
              0,
              "#0d0887"
             ],
             [
              0.1111111111111111,
              "#46039f"
             ],
             [
              0.2222222222222222,
              "#7201a8"
             ],
             [
              0.3333333333333333,
              "#9c179e"
             ],
             [
              0.4444444444444444,
              "#bd3786"
             ],
             [
              0.5555555555555556,
              "#d8576b"
             ],
             [
              0.6666666666666666,
              "#ed7953"
             ],
             [
              0.7777777777777778,
              "#fb9f3a"
             ],
             [
              0.8888888888888888,
              "#fdca26"
             ],
             [
              1,
              "#f0f921"
             ]
            ],
            "type": "histogram2dcontour"
           }
          ],
          "mesh3d": [
           {
            "colorbar": {
             "outlinewidth": 0,
             "ticks": ""
            },
            "type": "mesh3d"
           }
          ],
          "parcoords": [
           {
            "line": {
             "colorbar": {
              "outlinewidth": 0,
              "ticks": ""
             }
            },
            "type": "parcoords"
           }
          ],
          "pie": [
           {
            "automargin": true,
            "type": "pie"
           }
          ],
          "scatter": [
           {
            "fillpattern": {
             "fillmode": "overlay",
             "size": 10,
             "solidity": 0.2
            },
            "type": "scatter"
           }
          ],
          "scatter3d": [
           {
            "line": {
             "colorbar": {
              "outlinewidth": 0,
              "ticks": ""
             }
            },
            "marker": {
             "colorbar": {
              "outlinewidth": 0,
              "ticks": ""
             }
            },
            "type": "scatter3d"
           }
          ],
          "scattercarpet": [
           {
            "marker": {
             "colorbar": {
              "outlinewidth": 0,
              "ticks": ""
             }
            },
            "type": "scattercarpet"
           }
          ],
          "scattergeo": [
           {
            "marker": {
             "colorbar": {
              "outlinewidth": 0,
              "ticks": ""
             }
            },
            "type": "scattergeo"
           }
          ],
          "scattergl": [
           {
            "marker": {
             "colorbar": {
              "outlinewidth": 0,
              "ticks": ""
             }
            },
            "type": "scattergl"
           }
          ],
          "scattermap": [
           {
            "marker": {
             "colorbar": {
              "outlinewidth": 0,
              "ticks": ""
             }
            },
            "type": "scattermap"
           }
          ],
          "scattermapbox": [
           {
            "marker": {
             "colorbar": {
              "outlinewidth": 0,
              "ticks": ""
             }
            },
            "type": "scattermapbox"
           }
          ],
          "scatterpolar": [
           {
            "marker": {
             "colorbar": {
              "outlinewidth": 0,
              "ticks": ""
             }
            },
            "type": "scatterpolar"
           }
          ],
          "scatterpolargl": [
           {
            "marker": {
             "colorbar": {
              "outlinewidth": 0,
              "ticks": ""
             }
            },
            "type": "scatterpolargl"
           }
          ],
          "scatterternary": [
           {
            "marker": {
             "colorbar": {
              "outlinewidth": 0,
              "ticks": ""
             }
            },
            "type": "scatterternary"
           }
          ],
          "surface": [
           {
            "colorbar": {
             "outlinewidth": 0,
             "ticks": ""
            },
            "colorscale": [
             [
              0,
              "#0d0887"
             ],
             [
              0.1111111111111111,
              "#46039f"
             ],
             [
              0.2222222222222222,
              "#7201a8"
             ],
             [
              0.3333333333333333,
              "#9c179e"
             ],
             [
              0.4444444444444444,
              "#bd3786"
             ],
             [
              0.5555555555555556,
              "#d8576b"
             ],
             [
              0.6666666666666666,
              "#ed7953"
             ],
             [
              0.7777777777777778,
              "#fb9f3a"
             ],
             [
              0.8888888888888888,
              "#fdca26"
             ],
             [
              1,
              "#f0f921"
             ]
            ],
            "type": "surface"
           }
          ],
          "table": [
           {
            "cells": {
             "fill": {
              "color": "#EBF0F8"
             },
             "line": {
              "color": "white"
             }
            },
            "header": {
             "fill": {
              "color": "#C8D4E3"
             },
             "line": {
              "color": "white"
             }
            },
            "type": "table"
           }
          ]
         },
         "layout": {
          "annotationdefaults": {
           "arrowcolor": "#2a3f5f",
           "arrowhead": 0,
           "arrowwidth": 1
          },
          "autotypenumbers": "strict",
          "coloraxis": {
           "colorbar": {
            "outlinewidth": 0,
            "ticks": ""
           }
          },
          "colorscale": {
           "diverging": [
            [
             0,
             "#8e0152"
            ],
            [
             0.1,
             "#c51b7d"
            ],
            [
             0.2,
             "#de77ae"
            ],
            [
             0.3,
             "#f1b6da"
            ],
            [
             0.4,
             "#fde0ef"
            ],
            [
             0.5,
             "#f7f7f7"
            ],
            [
             0.6,
             "#e6f5d0"
            ],
            [
             0.7,
             "#b8e186"
            ],
            [
             0.8,
             "#7fbc41"
            ],
            [
             0.9,
             "#4d9221"
            ],
            [
             1,
             "#276419"
            ]
           ],
           "sequential": [
            [
             0,
             "#0d0887"
            ],
            [
             0.1111111111111111,
             "#46039f"
            ],
            [
             0.2222222222222222,
             "#7201a8"
            ],
            [
             0.3333333333333333,
             "#9c179e"
            ],
            [
             0.4444444444444444,
             "#bd3786"
            ],
            [
             0.5555555555555556,
             "#d8576b"
            ],
            [
             0.6666666666666666,
             "#ed7953"
            ],
            [
             0.7777777777777778,
             "#fb9f3a"
            ],
            [
             0.8888888888888888,
             "#fdca26"
            ],
            [
             1,
             "#f0f921"
            ]
           ],
           "sequentialminus": [
            [
             0,
             "#0d0887"
            ],
            [
             0.1111111111111111,
             "#46039f"
            ],
            [
             0.2222222222222222,
             "#7201a8"
            ],
            [
             0.3333333333333333,
             "#9c179e"
            ],
            [
             0.4444444444444444,
             "#bd3786"
            ],
            [
             0.5555555555555556,
             "#d8576b"
            ],
            [
             0.6666666666666666,
             "#ed7953"
            ],
            [
             0.7777777777777778,
             "#fb9f3a"
            ],
            [
             0.8888888888888888,
             "#fdca26"
            ],
            [
             1,
             "#f0f921"
            ]
           ]
          },
          "colorway": [
           "#636efa",
           "#EF553B",
           "#00cc96",
           "#ab63fa",
           "#FFA15A",
           "#19d3f3",
           "#FF6692",
           "#B6E880",
           "#FF97FF",
           "#FECB52"
          ],
          "font": {
           "color": "#2a3f5f"
          },
          "geo": {
           "bgcolor": "white",
           "lakecolor": "white",
           "landcolor": "#E5ECF6",
           "showlakes": true,
           "showland": true,
           "subunitcolor": "white"
          },
          "hoverlabel": {
           "align": "left"
          },
          "hovermode": "closest",
          "mapbox": {
           "style": "light"
          },
          "paper_bgcolor": "white",
          "plot_bgcolor": "#E5ECF6",
          "polar": {
           "angularaxis": {
            "gridcolor": "white",
            "linecolor": "white",
            "ticks": ""
           },
           "bgcolor": "#E5ECF6",
           "radialaxis": {
            "gridcolor": "white",
            "linecolor": "white",
            "ticks": ""
           }
          },
          "scene": {
           "xaxis": {
            "backgroundcolor": "#E5ECF6",
            "gridcolor": "white",
            "gridwidth": 2,
            "linecolor": "white",
            "showbackground": true,
            "ticks": "",
            "zerolinecolor": "white"
           },
           "yaxis": {
            "backgroundcolor": "#E5ECF6",
            "gridcolor": "white",
            "gridwidth": 2,
            "linecolor": "white",
            "showbackground": true,
            "ticks": "",
            "zerolinecolor": "white"
           },
           "zaxis": {
            "backgroundcolor": "#E5ECF6",
            "gridcolor": "white",
            "gridwidth": 2,
            "linecolor": "white",
            "showbackground": true,
            "ticks": "",
            "zerolinecolor": "white"
           }
          },
          "shapedefaults": {
           "line": {
            "color": "#2a3f5f"
           }
          },
          "ternary": {
           "aaxis": {
            "gridcolor": "white",
            "linecolor": "white",
            "ticks": ""
           },
           "baxis": {
            "gridcolor": "white",
            "linecolor": "white",
            "ticks": ""
           },
           "bgcolor": "#E5ECF6",
           "caxis": {
            "gridcolor": "white",
            "linecolor": "white",
            "ticks": ""
           }
          },
          "title": {
           "x": 0.05
          },
          "xaxis": {
           "automargin": true,
           "gridcolor": "white",
           "linecolor": "white",
           "ticks": "",
           "title": {
            "standoff": 15
           },
           "zerolinecolor": "white",
           "zerolinewidth": 2
          },
          "yaxis": {
           "automargin": true,
           "gridcolor": "white",
           "linecolor": "white",
           "ticks": "",
           "title": {
            "standoff": 15
           },
           "zerolinecolor": "white",
           "zerolinewidth": 2
          }
         }
        },
        "title": {
         "text": "Top 100 Terms (Log-Transformed Frequencies)"
        },
        "width": 1000,
        "xaxis": {
         "anchor": "y",
         "domain": [
          0,
          1
         ],
         "tickangle": 90,
         "title": {
          "text": "term"
         }
        },
        "yaxis": {
         "anchor": "x",
         "domain": [
          0,
          1
         ],
         "title": {
          "text": "log_frequency"
         }
        }
       }
      }
     },
     "metadata": {},
     "output_type": "display_data"
    }
   ],
   "source": [
    "# Create interactive bar chart\n",
    "fig = px.bar(\n",
    "    df_terms_log,\n",
    "    x=\"term\",\n",
    "    y=\"log_frequency\",\n",
    "    title=\"Top 100 Terms (Log-Transformed Frequencies)\",\n",
    "    color=\"log_frequency\",\n",
    "    color_continuous_scale=\"Viridis\"\n",
    ")\n",
    "\n",
    "# Update layout for readability\n",
    "fig.update_layout(\n",
    "    xaxis_tickangle=90,\n",
    "    width=1000,\n",
    "    height=500,\n",
    "    bargap=0.15,\n",
    "    font=dict(size=12)\n",
    ")\n",
    "\n",
    "fig.show()\n"
   ]
  },
  {
   "cell_type": "markdown",
   "metadata": {},
   "source": []
  },
  {
   "cell_type": "code",
   "execution_count": 58,
   "metadata": {},
   "outputs": [
    {
     "data": {
      "application/vnd.plotly.v1+json": {
       "config": {
        "plotlyServerURL": "https://plot.ly"
       },
       "data": [
        {
         "name": "Raw Frequency",
         "type": "bar",
         "x": [
          "the",
          "to",
          "and",
          "is",
          "it",
          "of",
          "in",
          "that",
          "for",
          "this",
          "you",
          "on",
          "are",
          "they",
          "be",
          "he",
          "will",
          "with",
          "if",
          "as"
         ],
         "y": {
          "bdata": "mAM2AugBkgFeATcBHgHuANYA1QDDAKsAmwCWAIYAhAB/AH4AdwBzAA==",
          "dtype": "i2"
         }
        },
        {
         "name": "Log Frequency",
         "type": "bar",
         "x": [
          "the",
          "to",
          "and",
          "is",
          "it",
          "of",
          "in",
          "that",
          "for",
          "this",
          "you",
          "on",
          "are",
          "they",
          "be",
          "he",
          "will",
          "with",
          "if",
          "as"
         ],
         "y": {
          "bdata": "b3xPZUVNG0CgmTkmh1wZQD4WJaz6xBhA1VvhOen+F0BwiJrxcXEXQKXc4dPV+BZAvexTTk+jFkCaILUP5ucVQFXZBYmIexVAmY6easJ2FUCnu9cWyhwVQIQEycoIlxRAZ5UCdA0zFEBTADjOsREUQJUl/VkAnxNALPCOrrePE0Cx8hqfemgTQEIuYJRyYBNAyXlEPGQmE0CLjaUlrQMTQA==",
          "dtype": "f8"
         }
        }
       ],
       "layout": {
        "barmode": "group",
        "height": 500,
        "template": {
         "data": {
          "bar": [
           {
            "error_x": {
             "color": "#2a3f5f"
            },
            "error_y": {
             "color": "#2a3f5f"
            },
            "marker": {
             "line": {
              "color": "#E5ECF6",
              "width": 0.5
             },
             "pattern": {
              "fillmode": "overlay",
              "size": 10,
              "solidity": 0.2
             }
            },
            "type": "bar"
           }
          ],
          "barpolar": [
           {
            "marker": {
             "line": {
              "color": "#E5ECF6",
              "width": 0.5
             },
             "pattern": {
              "fillmode": "overlay",
              "size": 10,
              "solidity": 0.2
             }
            },
            "type": "barpolar"
           }
          ],
          "carpet": [
           {
            "aaxis": {
             "endlinecolor": "#2a3f5f",
             "gridcolor": "white",
             "linecolor": "white",
             "minorgridcolor": "white",
             "startlinecolor": "#2a3f5f"
            },
            "baxis": {
             "endlinecolor": "#2a3f5f",
             "gridcolor": "white",
             "linecolor": "white",
             "minorgridcolor": "white",
             "startlinecolor": "#2a3f5f"
            },
            "type": "carpet"
           }
          ],
          "choropleth": [
           {
            "colorbar": {
             "outlinewidth": 0,
             "ticks": ""
            },
            "type": "choropleth"
           }
          ],
          "contour": [
           {
            "colorbar": {
             "outlinewidth": 0,
             "ticks": ""
            },
            "colorscale": [
             [
              0,
              "#0d0887"
             ],
             [
              0.1111111111111111,
              "#46039f"
             ],
             [
              0.2222222222222222,
              "#7201a8"
             ],
             [
              0.3333333333333333,
              "#9c179e"
             ],
             [
              0.4444444444444444,
              "#bd3786"
             ],
             [
              0.5555555555555556,
              "#d8576b"
             ],
             [
              0.6666666666666666,
              "#ed7953"
             ],
             [
              0.7777777777777778,
              "#fb9f3a"
             ],
             [
              0.8888888888888888,
              "#fdca26"
             ],
             [
              1,
              "#f0f921"
             ]
            ],
            "type": "contour"
           }
          ],
          "contourcarpet": [
           {
            "colorbar": {
             "outlinewidth": 0,
             "ticks": ""
            },
            "type": "contourcarpet"
           }
          ],
          "heatmap": [
           {
            "colorbar": {
             "outlinewidth": 0,
             "ticks": ""
            },
            "colorscale": [
             [
              0,
              "#0d0887"
             ],
             [
              0.1111111111111111,
              "#46039f"
             ],
             [
              0.2222222222222222,
              "#7201a8"
             ],
             [
              0.3333333333333333,
              "#9c179e"
             ],
             [
              0.4444444444444444,
              "#bd3786"
             ],
             [
              0.5555555555555556,
              "#d8576b"
             ],
             [
              0.6666666666666666,
              "#ed7953"
             ],
             [
              0.7777777777777778,
              "#fb9f3a"
             ],
             [
              0.8888888888888888,
              "#fdca26"
             ],
             [
              1,
              "#f0f921"
             ]
            ],
            "type": "heatmap"
           }
          ],
          "histogram": [
           {
            "marker": {
             "pattern": {
              "fillmode": "overlay",
              "size": 10,
              "solidity": 0.2
             }
            },
            "type": "histogram"
           }
          ],
          "histogram2d": [
           {
            "colorbar": {
             "outlinewidth": 0,
             "ticks": ""
            },
            "colorscale": [
             [
              0,
              "#0d0887"
             ],
             [
              0.1111111111111111,
              "#46039f"
             ],
             [
              0.2222222222222222,
              "#7201a8"
             ],
             [
              0.3333333333333333,
              "#9c179e"
             ],
             [
              0.4444444444444444,
              "#bd3786"
             ],
             [
              0.5555555555555556,
              "#d8576b"
             ],
             [
              0.6666666666666666,
              "#ed7953"
             ],
             [
              0.7777777777777778,
              "#fb9f3a"
             ],
             [
              0.8888888888888888,
              "#fdca26"
             ],
             [
              1,
              "#f0f921"
             ]
            ],
            "type": "histogram2d"
           }
          ],
          "histogram2dcontour": [
           {
            "colorbar": {
             "outlinewidth": 0,
             "ticks": ""
            },
            "colorscale": [
             [
              0,
              "#0d0887"
             ],
             [
              0.1111111111111111,
              "#46039f"
             ],
             [
              0.2222222222222222,
              "#7201a8"
             ],
             [
              0.3333333333333333,
              "#9c179e"
             ],
             [
              0.4444444444444444,
              "#bd3786"
             ],
             [
              0.5555555555555556,
              "#d8576b"
             ],
             [
              0.6666666666666666,
              "#ed7953"
             ],
             [
              0.7777777777777778,
              "#fb9f3a"
             ],
             [
              0.8888888888888888,
              "#fdca26"
             ],
             [
              1,
              "#f0f921"
             ]
            ],
            "type": "histogram2dcontour"
           }
          ],
          "mesh3d": [
           {
            "colorbar": {
             "outlinewidth": 0,
             "ticks": ""
            },
            "type": "mesh3d"
           }
          ],
          "parcoords": [
           {
            "line": {
             "colorbar": {
              "outlinewidth": 0,
              "ticks": ""
             }
            },
            "type": "parcoords"
           }
          ],
          "pie": [
           {
            "automargin": true,
            "type": "pie"
           }
          ],
          "scatter": [
           {
            "fillpattern": {
             "fillmode": "overlay",
             "size": 10,
             "solidity": 0.2
            },
            "type": "scatter"
           }
          ],
          "scatter3d": [
           {
            "line": {
             "colorbar": {
              "outlinewidth": 0,
              "ticks": ""
             }
            },
            "marker": {
             "colorbar": {
              "outlinewidth": 0,
              "ticks": ""
             }
            },
            "type": "scatter3d"
           }
          ],
          "scattercarpet": [
           {
            "marker": {
             "colorbar": {
              "outlinewidth": 0,
              "ticks": ""
             }
            },
            "type": "scattercarpet"
           }
          ],
          "scattergeo": [
           {
            "marker": {
             "colorbar": {
              "outlinewidth": 0,
              "ticks": ""
             }
            },
            "type": "scattergeo"
           }
          ],
          "scattergl": [
           {
            "marker": {
             "colorbar": {
              "outlinewidth": 0,
              "ticks": ""
             }
            },
            "type": "scattergl"
           }
          ],
          "scattermap": [
           {
            "marker": {
             "colorbar": {
              "outlinewidth": 0,
              "ticks": ""
             }
            },
            "type": "scattermap"
           }
          ],
          "scattermapbox": [
           {
            "marker": {
             "colorbar": {
              "outlinewidth": 0,
              "ticks": ""
             }
            },
            "type": "scattermapbox"
           }
          ],
          "scatterpolar": [
           {
            "marker": {
             "colorbar": {
              "outlinewidth": 0,
              "ticks": ""
             }
            },
            "type": "scatterpolar"
           }
          ],
          "scatterpolargl": [
           {
            "marker": {
             "colorbar": {
              "outlinewidth": 0,
              "ticks": ""
             }
            },
            "type": "scatterpolargl"
           }
          ],
          "scatterternary": [
           {
            "marker": {
             "colorbar": {
              "outlinewidth": 0,
              "ticks": ""
             }
            },
            "type": "scatterternary"
           }
          ],
          "surface": [
           {
            "colorbar": {
             "outlinewidth": 0,
             "ticks": ""
            },
            "colorscale": [
             [
              0,
              "#0d0887"
             ],
             [
              0.1111111111111111,
              "#46039f"
             ],
             [
              0.2222222222222222,
              "#7201a8"
             ],
             [
              0.3333333333333333,
              "#9c179e"
             ],
             [
              0.4444444444444444,
              "#bd3786"
             ],
             [
              0.5555555555555556,
              "#d8576b"
             ],
             [
              0.6666666666666666,
              "#ed7953"
             ],
             [
              0.7777777777777778,
              "#fb9f3a"
             ],
             [
              0.8888888888888888,
              "#fdca26"
             ],
             [
              1,
              "#f0f921"
             ]
            ],
            "type": "surface"
           }
          ],
          "table": [
           {
            "cells": {
             "fill": {
              "color": "#EBF0F8"
             },
             "line": {
              "color": "white"
             }
            },
            "header": {
             "fill": {
              "color": "#C8D4E3"
             },
             "line": {
              "color": "white"
             }
            },
            "type": "table"
           }
          ]
         },
         "layout": {
          "annotationdefaults": {
           "arrowcolor": "#2a3f5f",
           "arrowhead": 0,
           "arrowwidth": 1
          },
          "autotypenumbers": "strict",
          "coloraxis": {
           "colorbar": {
            "outlinewidth": 0,
            "ticks": ""
           }
          },
          "colorscale": {
           "diverging": [
            [
             0,
             "#8e0152"
            ],
            [
             0.1,
             "#c51b7d"
            ],
            [
             0.2,
             "#de77ae"
            ],
            [
             0.3,
             "#f1b6da"
            ],
            [
             0.4,
             "#fde0ef"
            ],
            [
             0.5,
             "#f7f7f7"
            ],
            [
             0.6,
             "#e6f5d0"
            ],
            [
             0.7,
             "#b8e186"
            ],
            [
             0.8,
             "#7fbc41"
            ],
            [
             0.9,
             "#4d9221"
            ],
            [
             1,
             "#276419"
            ]
           ],
           "sequential": [
            [
             0,
             "#0d0887"
            ],
            [
             0.1111111111111111,
             "#46039f"
            ],
            [
             0.2222222222222222,
             "#7201a8"
            ],
            [
             0.3333333333333333,
             "#9c179e"
            ],
            [
             0.4444444444444444,
             "#bd3786"
            ],
            [
             0.5555555555555556,
             "#d8576b"
            ],
            [
             0.6666666666666666,
             "#ed7953"
            ],
            [
             0.7777777777777778,
             "#fb9f3a"
            ],
            [
             0.8888888888888888,
             "#fdca26"
            ],
            [
             1,
             "#f0f921"
            ]
           ],
           "sequentialminus": [
            [
             0,
             "#0d0887"
            ],
            [
             0.1111111111111111,
             "#46039f"
            ],
            [
             0.2222222222222222,
             "#7201a8"
            ],
            [
             0.3333333333333333,
             "#9c179e"
            ],
            [
             0.4444444444444444,
             "#bd3786"
            ],
            [
             0.5555555555555556,
             "#d8576b"
            ],
            [
             0.6666666666666666,
             "#ed7953"
            ],
            [
             0.7777777777777778,
             "#fb9f3a"
            ],
            [
             0.8888888888888888,
             "#fdca26"
            ],
            [
             1,
             "#f0f921"
            ]
           ]
          },
          "colorway": [
           "#636efa",
           "#EF553B",
           "#00cc96",
           "#ab63fa",
           "#FFA15A",
           "#19d3f3",
           "#FF6692",
           "#B6E880",
           "#FF97FF",
           "#FECB52"
          ],
          "font": {
           "color": "#2a3f5f"
          },
          "geo": {
           "bgcolor": "white",
           "lakecolor": "white",
           "landcolor": "#E5ECF6",
           "showlakes": true,
           "showland": true,
           "subunitcolor": "white"
          },
          "hoverlabel": {
           "align": "left"
          },
          "hovermode": "closest",
          "mapbox": {
           "style": "light"
          },
          "paper_bgcolor": "white",
          "plot_bgcolor": "#E5ECF6",
          "polar": {
           "angularaxis": {
            "gridcolor": "white",
            "linecolor": "white",
            "ticks": ""
           },
           "bgcolor": "#E5ECF6",
           "radialaxis": {
            "gridcolor": "white",
            "linecolor": "white",
            "ticks": ""
           }
          },
          "scene": {
           "xaxis": {
            "backgroundcolor": "#E5ECF6",
            "gridcolor": "white",
            "gridwidth": 2,
            "linecolor": "white",
            "showbackground": true,
            "ticks": "",
            "zerolinecolor": "white"
           },
           "yaxis": {
            "backgroundcolor": "#E5ECF6",
            "gridcolor": "white",
            "gridwidth": 2,
            "linecolor": "white",
            "showbackground": true,
            "ticks": "",
            "zerolinecolor": "white"
           },
           "zaxis": {
            "backgroundcolor": "#E5ECF6",
            "gridcolor": "white",
            "gridwidth": 2,
            "linecolor": "white",
            "showbackground": true,
            "ticks": "",
            "zerolinecolor": "white"
           }
          },
          "shapedefaults": {
           "line": {
            "color": "#2a3f5f"
           }
          },
          "ternary": {
           "aaxis": {
            "gridcolor": "white",
            "linecolor": "white",
            "ticks": ""
           },
           "baxis": {
            "gridcolor": "white",
            "linecolor": "white",
            "ticks": ""
           },
           "bgcolor": "#E5ECF6",
           "caxis": {
            "gridcolor": "white",
            "linecolor": "white",
            "ticks": ""
           }
          },
          "title": {
           "x": 0.05
          },
          "xaxis": {
           "automargin": true,
           "gridcolor": "white",
           "linecolor": "white",
           "ticks": "",
           "title": {
            "standoff": 15
           },
           "zerolinecolor": "white",
           "zerolinewidth": 2
          },
          "yaxis": {
           "automargin": true,
           "gridcolor": "white",
           "linecolor": "white",
           "ticks": "",
           "title": {
            "standoff": 15
           },
           "zerolinecolor": "white",
           "zerolinewidth": 2
          }
         }
        },
        "title": {
         "text": "Top 20 Terms: Raw vs Log Frequencies"
        },
        "width": 1000,
        "xaxis": {
         "tickangle": 45
        }
       }
      }
     },
     "metadata": {},
     "output_type": "display_data"
    }
   ],
   "source": [
    "import plotly.graph_objects as go\n",
    "import numpy as np\n",
    "\n",
    "term_freq = np.asarray(X_counts.sum(axis=0)).flatten()\n",
    "top_n = 20\n",
    "sorted_idx = np.argsort(term_freq)[::-1][:top_n]\n",
    "terms = count_vect.get_feature_names_out()[sorted_idx]\n",
    "raw_freq = term_freq[sorted_idx]\n",
    "log_freq = np.log(raw_freq + 1)\n",
    "\n",
    "fig = go.Figure()\n",
    "fig.add_trace(go.Bar(x=terms, y=raw_freq, name='Raw Frequency'))\n",
    "fig.add_trace(go.Bar(x=terms, y=log_freq, name='Log Frequency'))\n",
    "\n",
    "fig.update_layout(\n",
    "    barmode='group',\n",
    "    title=\"Top 20 Terms: Raw vs Log Frequencies\",\n",
    "    xaxis_tickangle=45,\n",
    "    width=1000,\n",
    "    height=500\n",
    ")\n",
    "fig.show()\n",
    "\n"
   ]
  },
  {
   "cell_type": "markdown",
   "metadata": {},
   "source": [
    "# Extra Data Visualization"
   ]
  },
  {
   "cell_type": "code",
   "execution_count": 63,
   "metadata": {},
   "outputs": [
    {
     "data": {
      "image/png": "[encoded data removed]",
      "text/plain": [
       "<Figure size 1200x600 with 1 Axes>"
      ]
     },
     "metadata": {},
     "output_type": "display_data"
    }
   ],
   "source": [
    "import seaborn as sns\n",
    "\n",
    "term_freq_sorted = np.sort(term_freq)[::-1]\n",
    "\n",
    "plt.figure(figsize=(12,6))\n",
    "sns.lineplot(x=range(len(term_freq_sorted)), y=term_freq_sorted)\n",
    "plt.yscale('log')\n",
    "plt.title(\"Term Frequency Distribution (Log Scale)\")\n",
    "plt.xlabel(\"Terms sorted by frequency\")\n",
    "plt.ylabel(\"Frequency (log scale)\")\n",
    "plt.show()\n"
   ]
  },
  {
   "cell_type": "code",
   "execution_count": 64,
   "metadata": {},
   "outputs": [
    {
     "data": {
      "image/png": "[encoded data removed]",
      "text/plain": [
       "<Figure size 1800x1000 with 2 Axes>"
      ]
     },
     "metadata": {},
     "output_type": "display_data"
    }
   ],
   "source": [
    "import numpy as np\n",
    "import pandas as pd\n",
    "import seaborn as sns\n",
    "\n",
    "top_terms_idx = np.argsort(term_freq)[-50:]  # last 50 for lower frequency\n",
    "top_docs_idx = np.random.choice(X_counts.shape[0], 50, replace=False)\n",
    "plot_z = X_counts[top_docs_idx, :][:, top_terms_idx].toarray()\n",
    "\n",
    "df_heat = pd.DataFrame(plot_z,\n",
    "                       columns=count_vect.get_feature_names_out()[top_terms_idx],\n",
    "                       index=[f\"doc_{i}\" for i in top_docs_idx])\n",
    "\n",
    "plt.figure(figsize=(18,10))\n",
    "sns.heatmap(df_heat, cmap=\"YlGnBu\", annot=False)\n",
    "plt.title(\"Heatmap: Top 50 Terms Across 50 Random Documents\")\n",
    "plt.show()\n"
   ]
  }
 ],
 "metadata": {
  "kernelspec": {
   "display_name": "DM2025-Lab1-Exercise (3.11.0)",
   "language": "python",
   "name": "python3"
  },
  "language_info": {
   "codemirror_mode": {
    "name": "ipython",
    "version": 3
   },
   "file_extension": ".py",
   "mimetype": "text/x-python",
   "name": "python",
   "nbconvert_exporter": "python",
   "pygments_lexer": "ipython3",
   "version": "3.11.0"
  }
 },
 "nbformat": 4,
 "nbformat_minor": 4
}
